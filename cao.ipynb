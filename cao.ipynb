{
 "cells": [
  {
   "cell_type": "markdown",
   "id": "49a56414-c9fd-42ce-b5bc-79253dde0c54",
   "metadata": {},
   "source": [
    "![cao logo](https://monaghaninstitute.ie/wp-content/uploads/2016/06/cao-logo-links-page.jpg)"
   ]
  },
  {
   "cell_type": "markdown",
   "id": "65912bc6-1662-44d1-969d-c7a0e73de98e",
   "metadata": {},
   "source": [
    "# CAO Points (2019-2021)"
   ]
  },
  {
   "cell_type": "markdown",
   "id": "eb7b85a7-7d93-48a4-a2d7-1e22987b7d19",
   "metadata": {},
   "source": [
    "## About this notebook\n",
    "***"
   ]
  },
  {
   "cell_type": "markdown",
   "id": "a5dfa889-b8f8-40bd-85e7-4238efeecbc4",
   "metadata": {},
   "source": [
    "This notebook shows how to load data into a `pandas` dataframe, manipulate the data within dataframes, and operate a basic analysis of the data using CAO points from 2019 to 2021 as our original datasets. All the data used thoughout this notebook can be found in the [Central Applications Office website](https://www.cao.ie/)."
   ]
  },
  {
   "cell_type": "markdown",
   "id": "63855eaa-951e-448a-bbef-16eae1aafbb1",
   "metadata": {},
   "source": [
    "## What are the CAO points\n",
    "***"
   ]
  },
  {
   "cell_type": "markdown",
   "id": "fe717351-f04d-4c85-a909-642f6b348fff",
   "metadata": {},
   "source": [
    "The Central Applications Office is the organisation that oversees undergraduate applications to colleges and universities in Ireland. The CAO points system awards points to students based on their achievements in the Leaving Certificate examination, with the maximum score possible being 625 points. Based on their CAO points, students are placed in a queue for courses that had more applicants than available places \\[1\\]."
   ]
  },
  {
   "cell_type": "markdown",
   "id": "c2cd2044-f222-402e-be7a-25e0a86ccab4",
   "metadata": {},
   "source": [
    "## Understanding the data\n",
    "***"
   ]
  },
  {
   "cell_type": "markdown",
   "id": "9597117c-a609-4e82-b0d7-7d9df683d00e",
   "metadata": {},
   "source": [
    "The data available on the CAO website are not presented in a single, standardised format. Instead, data from different years is often available on different file types (for instance, \\*.xlsx, \\*.hmtl, or \\*.pdf files). Even when it is presented in the same type of file, the data is not consistent across different years or for different institutions: the notation varies, the columns are not the same for every year, some of the values have different formats for different years etc.\n",
    "\n",
    "CAO points are positive [discrete data](https://www.thedrum.com/profile/whatagraph/news/discrete-vs-continuous-data-whats-the-difference#:~:text=Discrete%20data%20is%20a%20count,%2C%20and%20non%2Dnegative%20integers), but some courses require additional tests/interviews/portfolios from the applicant - this information is [categorical](http://www.stat.yale.edu/Courses/1997-98/101/catdat.htm), in our case simplified to 'yes' (the course has this additional requirement) or 'no' (the course does not have additional requirements).\n",
    "\n",
    "The only data points present in all 3 data sets (2019, 2020, and 2021) are:\n",
    "1. **EOS points:** Minimum score achieved by applicants who were offered a place in a given course (considering rounds 1 and 2).\n",
    "2. **Mid points:** Score of the applicant in the middle of a ranked list of offerees.\n",
    "3. **Test:** Whether the course requires additional tests/interviews/portfolios.\n",
    "\n",
    "For this reason, this are the data that we will use for our comparison. Only Level 8 courses were considered for this project."
   ]
  },
  {
   "cell_type": "markdown",
   "id": "0c9d81af-aa17-497a-97fa-b7cab8126e84",
   "metadata": {},
   "source": [
    "## Requirements\n",
    "***"
   ]
  },
  {
   "cell_type": "markdown",
   "id": "a8252a60-3f71-4b5d-b938-09b0b7c5d6ad",
   "metadata": {},
   "source": [
    "### Importing packages"
   ]
  },
  {
   "cell_type": "markdown",
   "id": "9ac0b0ee-446a-4218-90b9-9208b048a392",
   "metadata": {},
   "source": [
    "This project requires that we import a number of additional Python packages/modules. An indication of what each module used in this project does in given in the comments in the code below.\n",
    "\n",
    "**Note:** We used [Camelot](https://camelot-py.readthedocs.io/en/master/) to parse 2019 points, which were available in a PDF format. Before importing it, however, we need to install the module and its dependencies (Ghostscript and ActiveTLC). To install Camelot, first install the dependencies using [this link](https://ghostscript.com/releases/gsdnld.html) and [this link](https://www.activestate.com/products/tcl/#how-do-i-download-tcl-for-windows-linux-or-mac). Then, open your console and type:\n",
    "\n",
    "   ```\n",
    "   conda install -c conda-forge camelot-py\n",
    "   ```"
   ]
  },
  {
   "cell_type": "code",
   "execution_count": 2,
   "id": "a7e72fab-6e3f-4cd7-8e01-bf42f7be20e2",
   "metadata": {},
   "outputs": [],
   "source": [
    "#Download and save data from CAO website\n",
    "import urllib.request as urlrq\n",
    "\n",
    "#PDF table extraction\n",
    "import camelot\n",
    "\n",
    "#Handle ZIP files\n",
    "import zipfile\n",
    "\n",
    "#Date and time for file names\n",
    "import datetime as dt\n",
    "\n",
    "#Arrays\n",
    "import numpy as np\n",
    "\n",
    "#Dataframes\n",
    "import pandas as pd\n",
    "\n",
    "#Plotting\n",
    "import matplotlib.pyplot as plt\n",
    "\n",
    "#Ignore warnings\n",
    "import warnings\n",
    "warnings.filterwarnings('ignore')"
   ]
  },
  {
   "cell_type": "markdown",
   "id": "06f0fd5d-ef97-4499-b880-cedf655739b7",
   "metadata": {},
   "source": [
    "## Saving and backing-up files\n",
    "***"
   ]
  },
  {
   "cell_type": "markdown",
   "id": "672369a8-f325-486d-b6a2-b80889490be6",
   "metadata": {},
   "source": [
    "An important task in Data Analysis is establishing a routine of backing-up the original data sets. This way, you can always revert back to the original file even if you mess up with the data set further down when handling it. Another good practice is to give your files a timestamp, so you have the exact date and time when you saved it.\n",
    "\n",
    "The code below uses the function `dt.datetime.now()` to create a string with the timestamp that will be used in our saves files."
   ]
  },
  {
   "cell_type": "code",
   "execution_count": 4,
   "id": "9b9b7673-ccf1-47e5-89ef-7bb788a2b3c2",
   "metadata": {},
   "outputs": [],
   "source": [
    "# Current date and time\n",
    "now = dt.datetime.now()\n",
    "\n",
    "# Format as string\n",
    "nowstr = now.strftime('%Y%m%d_%H%M%S')"
   ]
  },
  {
   "cell_type": "markdown",
   "id": "a8835282-eec7-4d31-9acb-193298041c95",
   "metadata": {},
   "source": [
    "## CAO points 2021\n",
    "***"
   ]
  },
  {
   "cell_type": "markdown",
   "id": "f5bcd901-2ef2-4ad5-a52a-01a3ffa6b17a",
   "metadata": {},
   "source": [
    "### Data source\n",
    "http://www.cao.ie/index.php?page=points&p=2021"
   ]
  },
  {
   "cell_type": "code",
   "execution_count": 3,
   "id": "503e692d-2462-4c4c-add7-020eb025b28c",
   "metadata": {},
   "outputs": [],
   "source": [
    "#Original file\n",
    "url2021 = 'http://www2.cao.ie/points/CAOPointsCharts2021.xlsx'"
   ]
  },
  {
   "cell_type": "markdown",
   "id": "74501014-fe0e-4759-8d76-e89aab274cbf",
   "metadata": {},
   "source": [
    "### Save original file"
   ]
  },
  {
   "cell_type": "code",
   "execution_count": 4,
   "id": "b15cc8b1-c6c5-48ca-8d5d-f318acbb7377",
   "metadata": {},
   "outputs": [
    {
     "data": {
      "text/plain": [
       "('data/2021/cao2021_original_20211226_172002.xlsx',\n",
       " <http.client.HTTPMessage at 0x161f9b89130>)"
      ]
     },
     "execution_count": 4,
     "metadata": {},
     "output_type": "execute_result"
    }
   ],
   "source": [
    "#Create a file path for the original data\n",
    "pathxlsx2021 = 'data/2021/cao2021_original_' + nowstr + '.xlsx'\n",
    "\n",
    "urlrq.urlretrieve(url2021, pathxlsx2021)\n"
   ]
  },
  {
   "cell_type": "markdown",
   "id": "8a3bb128-25a2-4e08-a1fd-4f4a8fc963a8",
   "metadata": {},
   "source": [
    "### Load data using `pandas`"
   ]
  },
  {
   "cell_type": "markdown",
   "id": "3761d5d3-1d34-4a17-b7b8-539726551db0",
   "metadata": {},
   "source": [
    "CAO points for 2021 are available as an Excel spreadsheet with 15 columns, where the first 11 rows have a preambule and a description of the columns. We start our code, then, by loading this spreadsheet into a `pandas` dataframe using `pd.read_excel` and skiping the first 11 rows \\[2\\] \\[3\\]."
   ]
  },
  {
   "cell_type": "code",
   "execution_count": 5,
   "id": "9ac2a828-6022-4658-bd7a-f5653df9d682",
   "metadata": {},
   "outputs": [],
   "source": [
    "# Download and parse the excel spreadsheet.\n",
    "df2021 = pd.read_excel(url2021, skiprows=11)"
   ]
  },
  {
   "cell_type": "code",
   "execution_count": 6,
   "id": "8a48c72a-b28d-402b-895a-d300c36ab5b8",
   "metadata": {},
   "outputs": [
    {
     "data": {
      "text/plain": [
       "CATEGORY (ISCED Description)                      Arts\n",
       "Course Title                       Economics/Geography\n",
       "Course Code                                      TR198\n",
       "R1 Points                                          968\n",
       "R1 Random                                          NaN\n",
       "R2 Points                                          956\n",
       "R2 Random                                          NaN\n",
       "EOS Points                                         954\n",
       "EOS Random                                         NaN\n",
       "EOS Midpoints                                      NaN\n",
       "Course Level                                         8\n",
       "HEI                             Trinity College Dublin\n",
       "Test/Interview                                     NaN\n",
       "AVP                                                NaN\n",
       "v                                                  NaN\n",
       "Name: 690, dtype: object"
      ]
     },
     "execution_count": 6,
     "metadata": {},
     "output_type": "execute_result"
    }
   ],
   "source": [
    "#Spotcheck\n",
    "#Courses start from line 13 in the original dataset\n",
    "df2021.iloc[690]"
   ]
  },
  {
   "cell_type": "code",
   "execution_count": 7,
   "id": "8e7fcf58-160c-40aa-95c2-3b118b3d1b91",
   "metadata": {},
   "outputs": [
    {
     "data": {
      "text/plain": [
       "CATEGORY (ISCED Description)          Business and administration\n",
       "Course Title                         Business Information Systems\n",
       "Course Code                                                 WD232\n",
       "R1 Points                                                     261\n",
       "R1 Random                                                     NaN\n",
       "R2 Points                                                     261\n",
       "R2 Random                                                     NaN\n",
       "EOS Points                                                    261\n",
       "EOS Random                                                    NaN\n",
       "EOS Midpoints                                                 329\n",
       "Course Level                                                    8\n",
       "HEI                             Waterford Institute of Technology\n",
       "Test/Interview                                                NaN\n",
       "AVP                                                           avp\n",
       "v                                                             NaN\n",
       "Name: 1450, dtype: object"
      ]
     },
     "execution_count": 7,
     "metadata": {},
     "output_type": "execute_result"
    }
   ],
   "source": [
    "#Spotcheck last row\n",
    "df2021.iloc[-1]"
   ]
  },
  {
   "cell_type": "markdown",
   "id": "2b33aa21-a87a-4a5d-b677-d5594e8d29cf",
   "metadata": {},
   "source": [
    "### Cleaning up dataframe"
   ]
  },
  {
   "cell_type": "markdown",
   "id": "09644342-8218-4113-a311-dd058fe467ff",
   "metadata": {},
   "source": [
    "As we are only considering Level 8 courses, we only keep the relevant rows in our dataframe."
   ]
  },
  {
   "cell_type": "code",
   "execution_count": 9,
   "id": "131bd8ec-7110-4016-89a7-9dffc485cb95",
   "metadata": {},
   "outputs": [],
   "source": [
    "#Remove space from Course Level header\n",
    "df2021_l8 = df2021.rename(columns={'Course Level': 'level'})\n",
    "\n",
    "#Select only level 8 courses\n",
    "df2021_l8 = df2021_l8[df2021_l8.level == 8]"
   ]
  },
  {
   "cell_type": "markdown",
   "id": "2498e2f8-a382-44ea-9e28-0874756420b4",
   "metadata": {},
   "source": [
    "Next thing we do is to keep only the columns that interest us - i.e. the course codes, their titles, EOS and Mid points, and whether or not it had additional requirements. To simplify our headers, we renamed the columns. We also already replaced all 'AQA' values with 0. 'AQA' means that all qualified applicants were offered a place so we considered the minimum points (EOS), to be 0. `DataFrame.head()`, then, show the first 5 rows of the dataframe \\[4\\]."
   ]
  },
  {
   "cell_type": "code",
   "execution_count": 10,
   "id": "f4ce24ba-dfaa-4f54-9909-dcc9df5467f8",
   "metadata": {},
   "outputs": [],
   "source": [
    "#Select only relevant columns and reorder\n",
    "#These are columns common to all 3 years\n",
    "df2021 = df2021_l8[['Course Code','Course Title', 'EOS Points', 'EOS Midpoints', 'Test/Interview']]\n",
    "\n",
    "#Change headers\n",
    "df2021.columns = ['code', 'course name', 'EOS', 'Mid','test']\n",
    "\n",
    "#Replace AQA values with 0\n",
    "df2021 = df2021.replace('AQA',0)"
   ]
  },
  {
   "cell_type": "code",
   "execution_count": 11,
   "id": "56ae0c4c-ae53-4f00-80ba-5b31d9c5d1e7",
   "metadata": {},
   "outputs": [
    {
     "data": {
      "text/html": [
       "<div>\n",
       "<style scoped>\n",
       "    .dataframe tbody tr th:only-of-type {\n",
       "        vertical-align: middle;\n",
       "    }\n",
       "\n",
       "    .dataframe tbody tr th {\n",
       "        vertical-align: top;\n",
       "    }\n",
       "\n",
       "    .dataframe thead th {\n",
       "        text-align: right;\n",
       "    }\n",
       "</style>\n",
       "<table border=\"1\" class=\"dataframe\">\n",
       "  <thead>\n",
       "    <tr style=\"text-align: right;\">\n",
       "      <th></th>\n",
       "      <th>code</th>\n",
       "      <th>course name</th>\n",
       "      <th>EOS</th>\n",
       "      <th>Mid</th>\n",
       "      <th>test</th>\n",
       "    </tr>\n",
       "  </thead>\n",
       "  <tbody>\n",
       "    <tr>\n",
       "      <th>29</th>\n",
       "      <td>AL801</td>\n",
       "      <td>Software Design for Virtual Reality and Gaming</td>\n",
       "      <td>300</td>\n",
       "      <td>359</td>\n",
       "      <td>NaN</td>\n",
       "    </tr>\n",
       "    <tr>\n",
       "      <th>30</th>\n",
       "      <td>AL802</td>\n",
       "      <td>Software Design in Artificial Intelligence for...</td>\n",
       "      <td>313</td>\n",
       "      <td>381</td>\n",
       "      <td>NaN</td>\n",
       "    </tr>\n",
       "    <tr>\n",
       "      <th>31</th>\n",
       "      <td>AL803</td>\n",
       "      <td>Software Design for Mobile Apps and Connected ...</td>\n",
       "      <td>350</td>\n",
       "      <td>398</td>\n",
       "      <td>NaN</td>\n",
       "    </tr>\n",
       "    <tr>\n",
       "      <th>32</th>\n",
       "      <td>AL805</td>\n",
       "      <td>Computer Engineering for Network Infrastructure</td>\n",
       "      <td>321</td>\n",
       "      <td>381</td>\n",
       "      <td>NaN</td>\n",
       "    </tr>\n",
       "    <tr>\n",
       "      <th>33</th>\n",
       "      <td>AL810</td>\n",
       "      <td>Quantity Surveying</td>\n",
       "      <td>328</td>\n",
       "      <td>377</td>\n",
       "      <td>NaN</td>\n",
       "    </tr>\n",
       "  </tbody>\n",
       "</table>\n",
       "</div>"
      ],
      "text/plain": [
       "     code                                        course name  EOS  Mid test\n",
       "29  AL801     Software Design for Virtual Reality and Gaming  300  359  NaN\n",
       "30  AL802  Software Design in Artificial Intelligence for...  313  381  NaN\n",
       "31  AL803  Software Design for Mobile Apps and Connected ...  350  398  NaN\n",
       "32  AL805    Computer Engineering for Network Infrastructure  321  381  NaN\n",
       "33  AL810                                 Quantity Surveying  328  377  NaN"
      ]
     },
     "execution_count": 11,
     "metadata": {},
     "output_type": "execute_result"
    }
   ],
   "source": [
    "#Show first 5 rows\n",
    "df2021.head()"
   ]
  },
  {
   "cell_type": "markdown",
   "id": "86dca7fe-0bba-4768-ad2b-d4e74532ea5a",
   "metadata": {},
   "source": [
    "For 2021, some row for the EOS column had the non-numerical value '\\#', meaning that extra requirements (here referred to as 'test') were needed for the course. Some courses, however, didn't have this information on the dedicated column (For instance, the course code DN411). Because of this, we add a '#' to the column test whenever this value appears in the EOS column. When this information was in the Mid column, it was always also in EOS."
   ]
  },
  {
   "cell_type": "code",
   "execution_count": 12,
   "id": "89ad5642-d528-43a4-b328-d6a1112a1905",
   "metadata": {},
   "outputs": [
    {
     "data": {
      "text/plain": [
       "code                                  DN411\n",
       "course name    Radiography - Graduate Entry\n",
       "EOS                                       #\n",
       "Mid                                     NaN\n",
       "test                                      #\n",
       "Name: 786, dtype: object"
      ]
     },
     "execution_count": 12,
     "metadata": {},
     "output_type": "execute_result"
    }
   ],
   "source": [
    "#If value in EOS column is '#', modify value in 'test' column\n",
    "#This is because some of the '#' were misplaced in the original dataset\n",
    "df2021.loc[df2021.EOS == '#', 'test'] = '#'\n",
    "\n",
    "#Spotcheck known value\n",
    "df2021.loc[786]"
   ]
  },
  {
   "cell_type": "markdown",
   "id": "e76a5ba5-4dec-4ec5-bed2-c179544e8041",
   "metadata": {},
   "source": [
    "With this information stored in a dedicated column, we can safely remove it from the numerical columns (EOS and Mid). Here we used `DataFrame.replace()` to replace all '#' in the selected columns with 0, and combined it with `DataFrame.fillna()` to replace empy values (NaN) also with 0. To be sure that no strings were left in those 2 columns, we used `DataFrame.dtypes` to check the data type of their values \\[5\\] \\[6\\] \\[7\\] \\[8\\] \\[9\\]."
   ]
  },
  {
   "cell_type": "code",
   "execution_count": 13,
   "id": "28e154c9-096a-4bad-8f05-8dbde018ca30",
   "metadata": {
    "tags": []
   },
   "outputs": [
    {
     "data": {
      "text/plain": [
       "EOS    float64\n",
       "Mid    float64\n",
       "dtype: object"
      ]
     },
     "execution_count": 13,
     "metadata": {},
     "output_type": "execute_result"
    }
   ],
   "source": [
    "#Replace '#' values on numerical columns with zeros\n",
    "df2021[['EOS','Mid']] = df2021[['EOS','Mid']].replace('#',0).fillna(0)\n",
    "\n",
    "#Check if all points are numerical\n",
    "df2021[['EOS','Mid']].dtypes"
   ]
  },
  {
   "cell_type": "markdown",
   "id": "1b2750b3-77d8-44fe-bd16-35e94c082696",
   "metadata": {},
   "source": [
    "Our data for test is categorical (either yes or no), so we replace all '#' in that column with 'yes' and all NaN values with 'no'."
   ]
  },
  {
   "cell_type": "code",
   "execution_count": 14,
   "id": "9cd0292f-cf72-4926-ba02-6bad9c22d25b",
   "metadata": {},
   "outputs": [
    {
     "data": {
      "text/html": [
       "<div>\n",
       "<style scoped>\n",
       "    .dataframe tbody tr th:only-of-type {\n",
       "        vertical-align: middle;\n",
       "    }\n",
       "\n",
       "    .dataframe tbody tr th {\n",
       "        vertical-align: top;\n",
       "    }\n",
       "\n",
       "    .dataframe thead th {\n",
       "        text-align: right;\n",
       "    }\n",
       "</style>\n",
       "<table border=\"1\" class=\"dataframe\">\n",
       "  <thead>\n",
       "    <tr style=\"text-align: right;\">\n",
       "      <th></th>\n",
       "      <th>code</th>\n",
       "      <th>course name</th>\n",
       "      <th>EOS</th>\n",
       "      <th>Mid</th>\n",
       "      <th>test</th>\n",
       "    </tr>\n",
       "  </thead>\n",
       "  <tbody>\n",
       "    <tr>\n",
       "      <th>29</th>\n",
       "      <td>AL801</td>\n",
       "      <td>Software Design for Virtual Reality and Gaming</td>\n",
       "      <td>300.0</td>\n",
       "      <td>359.0</td>\n",
       "      <td>no</td>\n",
       "    </tr>\n",
       "    <tr>\n",
       "      <th>30</th>\n",
       "      <td>AL802</td>\n",
       "      <td>Software Design in Artificial Intelligence for...</td>\n",
       "      <td>313.0</td>\n",
       "      <td>381.0</td>\n",
       "      <td>no</td>\n",
       "    </tr>\n",
       "    <tr>\n",
       "      <th>31</th>\n",
       "      <td>AL803</td>\n",
       "      <td>Software Design for Mobile Apps and Connected ...</td>\n",
       "      <td>350.0</td>\n",
       "      <td>398.0</td>\n",
       "      <td>no</td>\n",
       "    </tr>\n",
       "    <tr>\n",
       "      <th>32</th>\n",
       "      <td>AL805</td>\n",
       "      <td>Computer Engineering for Network Infrastructure</td>\n",
       "      <td>321.0</td>\n",
       "      <td>381.0</td>\n",
       "      <td>no</td>\n",
       "    </tr>\n",
       "    <tr>\n",
       "      <th>33</th>\n",
       "      <td>AL810</td>\n",
       "      <td>Quantity Surveying</td>\n",
       "      <td>328.0</td>\n",
       "      <td>377.0</td>\n",
       "      <td>no</td>\n",
       "    </tr>\n",
       "  </tbody>\n",
       "</table>\n",
       "</div>"
      ],
      "text/plain": [
       "     code                                        course name    EOS    Mid  \\\n",
       "29  AL801     Software Design for Virtual Reality and Gaming  300.0  359.0   \n",
       "30  AL802  Software Design in Artificial Intelligence for...  313.0  381.0   \n",
       "31  AL803  Software Design for Mobile Apps and Connected ...  350.0  398.0   \n",
       "32  AL805    Computer Engineering for Network Infrastructure  321.0  381.0   \n",
       "33  AL810                                 Quantity Surveying  328.0  377.0   \n",
       "\n",
       "   test  \n",
       "29   no  \n",
       "30   no  \n",
       "31   no  \n",
       "32   no  \n",
       "33   no  "
      ]
     },
     "execution_count": 14,
     "metadata": {},
     "output_type": "execute_result"
    }
   ],
   "source": [
    "#Replace NaN values in column test with 'no', and '#' values with string 'yes'\n",
    "df2021['test'] = df2021['test'].replace('#','yes').fillna('no')\n",
    "df2021.head()"
   ]
  },
  {
   "cell_type": "markdown",
   "id": "b2d07577-42fd-4836-befe-e9e959cd50ab",
   "metadata": {},
   "source": [
    "Finally, we save our dataframe as a csv file using `DataFrame.to_csv()`"
   ]
  },
  {
   "cell_type": "code",
   "execution_count": 17,
   "id": "f3a00189-3477-40df-acdc-eef4674a1340",
   "metadata": {},
   "outputs": [],
   "source": [
    "# File path for csv dataset\n",
    "path2021 = 'data/2021/cao2021_' + nowstr + '.csv'"
   ]
  },
  {
   "cell_type": "code",
   "execution_count": 18,
   "id": "04ca581f-e249-44b8-a84c-a139dfcdd804",
   "metadata": {},
   "outputs": [],
   "source": [
    "# Save pandas dataframe\n",
    "df2021.to_csv(path2021)"
   ]
  },
  {
   "cell_type": "markdown",
   "id": "0ce2175b-a69c-4c5d-9d23-403bad06ec88",
   "metadata": {},
   "source": [
    "## CAO points 2020\n",
    "***"
   ]
  },
  {
   "cell_type": "markdown",
   "id": "333e51e4-eb9a-40b1-aa92-94cfbd5f3033",
   "metadata": {},
   "source": [
    "### Data source\n",
    "https://www.cao.ie/index.php?page=points&p=2020"
   ]
  },
  {
   "cell_type": "code",
   "execution_count": 15,
   "id": "59627a40-5ec6-4ffc-8997-bbc3978728b5",
   "metadata": {},
   "outputs": [],
   "source": [
    "#Original file\n",
    "url2020 = 'http://www2.cao.ie/points/CAOPointsCharts2020.xlsx'"
   ]
  },
  {
   "cell_type": "markdown",
   "id": "69a55561-fa29-44fa-bb69-74a351cce112",
   "metadata": {},
   "source": [
    "### Save original file"
   ]
  },
  {
   "cell_type": "code",
   "execution_count": 20,
   "id": "434e4ac5-c6cf-4dfa-92df-9b28f29cc94a",
   "metadata": {},
   "outputs": [
    {
     "data": {
      "text/plain": [
       "('data/2020/cao2020_original_20211226_172002.xlsx',\n",
       " <http.client.HTTPMessage at 0x161fa3db7f0>)"
      ]
     },
     "execution_count": 20,
     "metadata": {},
     "output_type": "execute_result"
    }
   ],
   "source": [
    "#Back-up xlsx file with timestamp\n",
    "pathxlsx2020 = 'data/2020/cao2020_original_' + nowstr + '.xlsx'\n",
    "urlrq.urlretrieve(url2020, pathxlsx2020)"
   ]
  },
  {
   "cell_type": "markdown",
   "id": "c30f4757-dc4b-492b-a922-b21a6eff4915",
   "metadata": {},
   "source": [
    "### Load data using `pandas`"
   ]
  },
  {
   "cell_type": "markdown",
   "id": "0cd16344-e9b4-4080-b292-7d20d46d2a61",
   "metadata": {},
   "source": [
    "Same as 2021, CAO data for 2020 is available in an Excel sheet. To load it with `pandas` we simply repeat what we did for 2021 - this time, however, skiping the first 10 rows of preambule etc."
   ]
  },
  {
   "cell_type": "code",
   "execution_count": 17,
   "id": "fe53f190-9ecc-43fb-b2bb-e24523f255f6",
   "metadata": {},
   "outputs": [],
   "source": [
    "df2020 = pd.read_excel(url2020, skiprows=10)"
   ]
  },
  {
   "cell_type": "markdown",
   "id": "22cc62f8-70db-4208-bc24-f2439e1c398a",
   "metadata": {},
   "source": [
    "### Cleaning up dataframe"
   ]
  },
  {
   "cell_type": "code",
   "execution_count": 18,
   "id": "88b4bdfc-0fa2-484d-877d-f874174af7a6",
   "metadata": {},
   "outputs": [
    {
     "data": {
      "text/html": [
       "<div>\n",
       "<style scoped>\n",
       "    .dataframe tbody tr th:only-of-type {\n",
       "        vertical-align: middle;\n",
       "    }\n",
       "\n",
       "    .dataframe tbody tr th {\n",
       "        vertical-align: top;\n",
       "    }\n",
       "\n",
       "    .dataframe thead th {\n",
       "        text-align: right;\n",
       "    }\n",
       "</style>\n",
       "<table border=\"1\" class=\"dataframe\">\n",
       "  <thead>\n",
       "    <tr style=\"text-align: right;\">\n",
       "      <th></th>\n",
       "      <th>code</th>\n",
       "      <th>course name</th>\n",
       "      <th>EOS</th>\n",
       "      <th>Mid</th>\n",
       "      <th>test</th>\n",
       "    </tr>\n",
       "  </thead>\n",
       "  <tbody>\n",
       "    <tr>\n",
       "      <th>0</th>\n",
       "      <td>AC120</td>\n",
       "      <td>International Business</td>\n",
       "      <td>209</td>\n",
       "      <td>280</td>\n",
       "      <td>NaN</td>\n",
       "    </tr>\n",
       "    <tr>\n",
       "      <th>1</th>\n",
       "      <td>AC137</td>\n",
       "      <td>Liberal Arts</td>\n",
       "      <td>252</td>\n",
       "      <td>270</td>\n",
       "      <td>NaN</td>\n",
       "    </tr>\n",
       "    <tr>\n",
       "      <th>2</th>\n",
       "      <td>AD101</td>\n",
       "      <td>First Year Art &amp; Design (Common Entry,portfolio)</td>\n",
       "      <td>#+matric</td>\n",
       "      <td>#+matric</td>\n",
       "      <td>#</td>\n",
       "    </tr>\n",
       "    <tr>\n",
       "      <th>3</th>\n",
       "      <td>AD102</td>\n",
       "      <td>Graphic Design and Moving Image Design (portfo...</td>\n",
       "      <td>#+matric</td>\n",
       "      <td>#+matric</td>\n",
       "      <td>#</td>\n",
       "    </tr>\n",
       "    <tr>\n",
       "      <th>4</th>\n",
       "      <td>AD103</td>\n",
       "      <td>Textile &amp; Surface Design and Jewellery &amp; Objec...</td>\n",
       "      <td>#+matric</td>\n",
       "      <td>#+matric</td>\n",
       "      <td>#</td>\n",
       "    </tr>\n",
       "  </tbody>\n",
       "</table>\n",
       "</div>"
      ],
      "text/plain": [
       "    code                                        course name       EOS  \\\n",
       "0  AC120                             International Business       209   \n",
       "1  AC137                                       Liberal Arts       252   \n",
       "2  AD101   First Year Art & Design (Common Entry,portfolio)  #+matric   \n",
       "3  AD102  Graphic Design and Moving Image Design (portfo...  #+matric   \n",
       "4  AD103  Textile & Surface Design and Jewellery & Objec...  #+matric   \n",
       "\n",
       "        Mid test  \n",
       "0       280  NaN  \n",
       "1       270  NaN  \n",
       "2  #+matric    #  \n",
       "3  #+matric    #  \n",
       "4  #+matric    #  "
      ]
     },
     "execution_count": 18,
     "metadata": {},
     "output_type": "execute_result"
    }
   ],
   "source": [
    "#Select only L8 courses\n",
    "df2020_l8 = df2020[df2020.LEVEL == 8]\n",
    "\n",
    "#Select columns\n",
    "df2020 = df2020_l8[['COURSE CODE2','COURSE TITLE', 'EOS', 'EOS Mid-point', 'Test/Interview #']]\n",
    "\n",
    "#Change headers\n",
    "df2020.columns = ['code', 'course name', 'EOS', 'Mid', 'test']\n",
    "\n",
    "#Show first 5 rows\n",
    "df2020.head()"
   ]
  },
  {
   "cell_type": "markdown",
   "id": "6d85b566-0804-4874-a6bf-902393eb2627",
   "metadata": {},
   "source": [
    "The column 'test' was fine in the original dataset (i.e. it had the right information about all courses with additional requirements), but we still need to remove non-numerical values such as '\\#', '\\#+matric', and 'AQA' from columns with points. Again, we can do this using `DataFrame.replace` and combine it with `Dataframe.fillna()` to fill the NaN values. \n",
    "\n",
    "An additional complication here, however, is that some values in the EOS column have the '#' character in front of the numerical value, so we need to remove that as well. As it is not a standalone value, we used `regex=True` so it replaces any '#' character of a string in the selected column with an empty string '', effectively removing that character."
   ]
  },
  {
   "cell_type": "code",
   "execution_count": 19,
   "id": "7e585db3-097e-445f-a58e-3d17b71d33f0",
   "metadata": {},
   "outputs": [
    {
     "data": {
      "text/plain": [
       "code                        TR311\n",
       "course name    Film/Drama Studies\n",
       "EOS                           521\n",
       "Mid                         557.0\n",
       "test                            #\n",
       "Name: 1158, dtype: object"
      ]
     },
     "execution_count": 19,
     "metadata": {},
     "output_type": "execute_result"
    }
   ],
   "source": [
    "#Replace non-numerical values with 0 for selected columns\n",
    "df2020[['EOS','Mid']] = df2020[['EOS','Mid']].replace(['#','#+matric','AQA'],0).fillna(0)\n",
    "\n",
    "#Use regex to remove particular character instead of matching whole value\n",
    "df2020.EOS = df2020.EOS.replace('#','', regex=True)\n",
    "\n",
    "#Check known value\n",
    "df2020.loc[1158]"
   ]
  },
  {
   "cell_type": "markdown",
   "id": "3c5199ec-0d79-4788-8a40-93388681ab14",
   "metadata": {},
   "source": [
    "We can see that the EOS value is now a number, but an int instead of a float. To change that and keep the numerical data consistent across all years, we change the data type using `DataFrame.astype({columnname:dtype})` \\[10\\] \\[11\\] \\[12\\]."
   ]
  },
  {
   "cell_type": "code",
   "execution_count": 20,
   "id": "2e738ca0-defd-459a-b3ca-4eec46a13f1a",
   "metadata": {},
   "outputs": [],
   "source": [
    "#Change dtype of column EOS to float\n",
    "df2020 = df2020.astype({'EOS': float})"
   ]
  },
  {
   "cell_type": "markdown",
   "id": "71bf137d-0961-45a3-8341-9309644b687d",
   "metadata": {},
   "source": [
    "Again, we replace all '\\#' in the test column with 'yes' and all NaN with 'no' before saving our cleaned up dataframe."
   ]
  },
  {
   "cell_type": "code",
   "execution_count": 21,
   "id": "c45a3dc5-3923-45fe-b239-33e9b4c7a120",
   "metadata": {},
   "outputs": [
    {
     "data": {
      "text/html": [
       "<div>\n",
       "<style scoped>\n",
       "    .dataframe tbody tr th:only-of-type {\n",
       "        vertical-align: middle;\n",
       "    }\n",
       "\n",
       "    .dataframe tbody tr th {\n",
       "        vertical-align: top;\n",
       "    }\n",
       "\n",
       "    .dataframe thead th {\n",
       "        text-align: right;\n",
       "    }\n",
       "</style>\n",
       "<table border=\"1\" class=\"dataframe\">\n",
       "  <thead>\n",
       "    <tr style=\"text-align: right;\">\n",
       "      <th></th>\n",
       "      <th>code</th>\n",
       "      <th>course name</th>\n",
       "      <th>EOS</th>\n",
       "      <th>Mid</th>\n",
       "      <th>test</th>\n",
       "    </tr>\n",
       "  </thead>\n",
       "  <tbody>\n",
       "    <tr>\n",
       "      <th>0</th>\n",
       "      <td>AC120</td>\n",
       "      <td>International Business</td>\n",
       "      <td>209.0</td>\n",
       "      <td>280.0</td>\n",
       "      <td>no</td>\n",
       "    </tr>\n",
       "    <tr>\n",
       "      <th>1</th>\n",
       "      <td>AC137</td>\n",
       "      <td>Liberal Arts</td>\n",
       "      <td>252.0</td>\n",
       "      <td>270.0</td>\n",
       "      <td>no</td>\n",
       "    </tr>\n",
       "    <tr>\n",
       "      <th>2</th>\n",
       "      <td>AD101</td>\n",
       "      <td>First Year Art &amp; Design (Common Entry,portfolio)</td>\n",
       "      <td>0.0</td>\n",
       "      <td>0.0</td>\n",
       "      <td>yes</td>\n",
       "    </tr>\n",
       "    <tr>\n",
       "      <th>3</th>\n",
       "      <td>AD102</td>\n",
       "      <td>Graphic Design and Moving Image Design (portfo...</td>\n",
       "      <td>0.0</td>\n",
       "      <td>0.0</td>\n",
       "      <td>yes</td>\n",
       "    </tr>\n",
       "    <tr>\n",
       "      <th>4</th>\n",
       "      <td>AD103</td>\n",
       "      <td>Textile &amp; Surface Design and Jewellery &amp; Objec...</td>\n",
       "      <td>0.0</td>\n",
       "      <td>0.0</td>\n",
       "      <td>yes</td>\n",
       "    </tr>\n",
       "  </tbody>\n",
       "</table>\n",
       "</div>"
      ],
      "text/plain": [
       "    code                                        course name    EOS    Mid test\n",
       "0  AC120                             International Business  209.0  280.0   no\n",
       "1  AC137                                       Liberal Arts  252.0  270.0   no\n",
       "2  AD101   First Year Art & Design (Common Entry,portfolio)    0.0    0.0  yes\n",
       "3  AD102  Graphic Design and Moving Image Design (portfo...    0.0    0.0  yes\n",
       "4  AD103  Textile & Surface Design and Jewellery & Objec...    0.0    0.0  yes"
      ]
     },
     "execution_count": 21,
     "metadata": {},
     "output_type": "execute_result"
    }
   ],
   "source": [
    "#Replace NaN values in column test with 'no', and '#' values with string 'yes'\n",
    "df2020['test'] = df2020['test'].replace('#','yes').fillna('no')\n",
    "\n",
    "#Show first 5 rows\n",
    "df2020.head()"
   ]
  },
  {
   "cell_type": "code",
   "execution_count": 29,
   "id": "7a4cfd7e-9aa3-497e-86ef-c566709cfcad",
   "metadata": {},
   "outputs": [],
   "source": [
    "#Save as csv\n",
    "path2020 = 'data/2020/cao2020_' + nowstr + '.csv'\n",
    "df2020.to_csv(path2020)"
   ]
  },
  {
   "cell_type": "markdown",
   "id": "593df88d-885c-4893-8080-a79356931739",
   "metadata": {},
   "source": [
    "## CAO points 2019\n",
    "***"
   ]
  },
  {
   "cell_type": "markdown",
   "id": "f098b373-9013-480f-b105-6c07ce4d6bec",
   "metadata": {},
   "source": [
    "### Data source\n",
    "https://www.cao.ie/index.php?page=points&p=2019"
   ]
  },
  {
   "cell_type": "code",
   "execution_count": 22,
   "id": "6e614ad0-47ec-44ba-9c44-c6fb70d08efd",
   "metadata": {},
   "outputs": [],
   "source": [
    "#Original file\n",
    "url2019 = 'http://www2.cao.ie/points/lvl8_19.pdf'"
   ]
  },
  {
   "cell_type": "markdown",
   "id": "ca470b2f-5b68-4b89-bd76-52b8d60f2a90",
   "metadata": {},
   "source": [
    "### Save original file"
   ]
  },
  {
   "cell_type": "code",
   "execution_count": 31,
   "id": "91e3de29-8e16-4008-a7fc-51cf157b74c1",
   "metadata": {},
   "outputs": [
    {
     "data": {
      "text/plain": [
       "('data/2019/cao2019_original_20211226_172002.pdf',\n",
       " <http.client.HTTPMessage at 0x161fa3dbf10>)"
      ]
     },
     "execution_count": 31,
     "metadata": {},
     "output_type": "execute_result"
    }
   ],
   "source": [
    "#Create a file path for the original data\n",
    "pathpdf2019 = 'data/2019/cao2019_original_' + nowstr + '.pdf'\n",
    "urlrq.urlretrieve(url2019, pathpdf2019)"
   ]
  },
  {
   "cell_type": "markdown",
   "id": "15c4b8d6-19b7-4aa9-abcc-4b703c433af1",
   "metadata": {},
   "source": [
    "### Load data using `pandas`"
   ]
  },
  {
   "cell_type": "markdown",
   "id": "f02dbf6e-39f2-4de5-ab7a-23514a254d83",
   "metadata": {},
   "source": [
    "Data from 2019 is available as a PDF file. Instead of manually converting it into a spreadsheet and then read it into `pandas`, we opted to use `camelot`, which parses the data from tables on PDF directly into `pandas`. However, instead of creating a single dataframe, `camelot` creates a list of dataframes where each PDF page is read into 1 dataframe. As the original file had 18 pages, this method resulted in 18 dataframes. It also takes a bit of time to run."
   ]
  },
  {
   "cell_type": "code",
   "execution_count": 24,
   "id": "d996fb51-f293-41ec-8945-5eac79cd722c",
   "metadata": {
    "tags": []
   },
   "outputs": [
    {
     "data": {
      "text/plain": [
       "<TableList n=18>"
      ]
     },
     "execution_count": 24,
     "metadata": {},
     "output_type": "execute_result"
    }
   ],
   "source": [
    "#Extract PDF table with multiple pages\n",
    "#Camelot creates 1 table per PDF page\n",
    "tables = camelot.read_pdf('http://www2.cao.ie/points/lvl8_19.pdf', pages = '1-end')\n",
    "\n",
    "#Check number of tables in the list\n",
    "tables"
   ]
  },
  {
   "cell_type": "markdown",
   "id": "3157e132-5cba-4d88-99a4-43685f1bec4e",
   "metadata": {},
   "source": [
    "Our next step, then, is to concatenate all those dataframes into one. We can do this by creating an empty list, interate through the dataframes in `tables` and append them to the list. Then, we can use `pd.concat()` to join them all."
   ]
  },
  {
   "cell_type": "code",
   "execution_count": 25,
   "id": "9694a4c9-430e-4af2-99b3-a175c6f1f85d",
   "metadata": {},
   "outputs": [],
   "source": [
    "#Concat multiple tables in a single dataframe\n",
    "\n",
    "empty_list = []\n",
    "for t in range(tables.n):\n",
    "    data = tables[t].df\n",
    "    \n",
    "    empty_list.append(data)\n",
    "    df2019 = pd.concat(empty_list, ignore_index=False, sort=False)\n",
    "    "
   ]
  },
  {
   "cell_type": "markdown",
   "id": "675bf5b2-f5fc-48c2-a4f8-3ea86ceec085",
   "metadata": {},
   "source": [
    "### Cleaning up dataframe"
   ]
  },
  {
   "cell_type": "markdown",
   "id": "d808b6ac-890d-47f7-9f0a-3870498a7357",
   "metadata": {},
   "source": [
    "The original dataset had only 4 columns, and missed one specifically to deal with courses that required Tests/Interviews. This was indicated with a '#' character in the EOS column values - in some cases, with the '#' character preceding the actual points. Where this happens, we should move this information to a separate column and only keep numerical values for points. The index started at 0 after each table, even after concatenating them, so we reset the index too, dropping the original indexation entirely using `drop=True` \\[13\\].\n",
    "\n",
    "Also, the '\\*' character denoted courses where not all on the point score were offered places. We won't need this information for our analysis and will remove this character from our dataframe."
   ]
  },
  {
   "cell_type": "code",
   "execution_count": 26,
   "id": "058e79ba-c3bc-4e0f-819c-1d42703d31cb",
   "metadata": {},
   "outputs": [],
   "source": [
    "#Add new column to store courses with Test/Interview\n",
    "df2019.insert(4, 'test','')\n",
    "\n",
    "#Headers are blank, so we first change them\n",
    "df2019.columns = ['code','course name', 'EOS', 'Mid','test']"
   ]
  },
  {
   "cell_type": "code",
   "execution_count": 27,
   "id": "c52c59dc-e6bb-4d34-900d-447a70086bb4",
   "metadata": {},
   "outputs": [
    {
     "data": {
      "text/html": [
       "<div>\n",
       "<style scoped>\n",
       "    .dataframe tbody tr th:only-of-type {\n",
       "        vertical-align: middle;\n",
       "    }\n",
       "\n",
       "    .dataframe tbody tr th {\n",
       "        vertical-align: top;\n",
       "    }\n",
       "\n",
       "    .dataframe thead th {\n",
       "        text-align: right;\n",
       "    }\n",
       "</style>\n",
       "<table border=\"1\" class=\"dataframe\">\n",
       "  <thead>\n",
       "    <tr style=\"text-align: right;\">\n",
       "      <th></th>\n",
       "      <th>code</th>\n",
       "      <th>course name</th>\n",
       "      <th>EOS</th>\n",
       "      <th>Mid</th>\n",
       "      <th>test</th>\n",
       "    </tr>\n",
       "  </thead>\n",
       "  <tbody>\n",
       "    <tr>\n",
       "      <th>0</th>\n",
       "      <td>Course Code INSTITUTION and COURSE</td>\n",
       "      <td></td>\n",
       "      <td>EOS</td>\n",
       "      <td>Mid</td>\n",
       "      <td></td>\n",
       "    </tr>\n",
       "    <tr>\n",
       "      <th>1</th>\n",
       "      <td></td>\n",
       "      <td>Athlone Institute of Technology</td>\n",
       "      <td></td>\n",
       "      <td></td>\n",
       "      <td></td>\n",
       "    </tr>\n",
       "    <tr>\n",
       "      <th>2</th>\n",
       "      <td>AL801</td>\n",
       "      <td>Software Design with Virtual Reality and Gaming</td>\n",
       "      <td>304</td>\n",
       "      <td>328</td>\n",
       "      <td></td>\n",
       "    </tr>\n",
       "    <tr>\n",
       "      <th>3</th>\n",
       "      <td>AL802</td>\n",
       "      <td>Software Design with Cloud Computing</td>\n",
       "      <td>301</td>\n",
       "      <td>306</td>\n",
       "      <td></td>\n",
       "    </tr>\n",
       "    <tr>\n",
       "      <th>4</th>\n",
       "      <td>AL803</td>\n",
       "      <td>Software Design with Mobile Apps and Connected...</td>\n",
       "      <td>309</td>\n",
       "      <td>337</td>\n",
       "      <td></td>\n",
       "    </tr>\n",
       "  </tbody>\n",
       "</table>\n",
       "</div>"
      ],
      "text/plain": [
       "                                 code  \\\n",
       "0  Course Code INSTITUTION and COURSE   \n",
       "1                                       \n",
       "2                               AL801   \n",
       "3                               AL802   \n",
       "4                               AL803   \n",
       "\n",
       "                                         course name  EOS  Mid test  \n",
       "0                                                     EOS  Mid       \n",
       "1                    Athlone Institute of Technology                 \n",
       "2    Software Design with Virtual Reality and Gaming  304  328       \n",
       "3               Software Design with Cloud Computing  301  306       \n",
       "4  Software Design with Mobile Apps and Connected...  309  337       "
      ]
     },
     "execution_count": 27,
     "metadata": {},
     "output_type": "execute_result"
    }
   ],
   "source": [
    "#Restart index\n",
    "df2019 = df2019.reset_index(drop=True)\n",
    "\n",
    "#Show first 5 rows\n",
    "df2019.head()"
   ]
  },
  {
   "cell_type": "markdown",
   "id": "dc93bafe-391c-408c-83dd-c7b803608847",
   "metadata": {},
   "source": [
    "As we can see above, we still need to remove the first row as well as all rows containing only the name of the institution. We can do that by keeping only those rows where the value in the column 'code' is not an empty space. We also used `DataFrame.drop()` to drop the first (`labels=[0]`) row (`axis=0`) \\[14\\]."
   ]
  },
  {
   "cell_type": "code",
   "execution_count": 28,
   "id": "01ab3a27-7a48-48a3-a352-15313a409c7d",
   "metadata": {},
   "outputs": [
    {
     "data": {
      "text/html": [
       "<div>\n",
       "<style scoped>\n",
       "    .dataframe tbody tr th:only-of-type {\n",
       "        vertical-align: middle;\n",
       "    }\n",
       "\n",
       "    .dataframe tbody tr th {\n",
       "        vertical-align: top;\n",
       "    }\n",
       "\n",
       "    .dataframe thead th {\n",
       "        text-align: right;\n",
       "    }\n",
       "</style>\n",
       "<table border=\"1\" class=\"dataframe\">\n",
       "  <thead>\n",
       "    <tr style=\"text-align: right;\">\n",
       "      <th></th>\n",
       "      <th>code</th>\n",
       "      <th>course name</th>\n",
       "      <th>EOS</th>\n",
       "      <th>Mid</th>\n",
       "      <th>test</th>\n",
       "    </tr>\n",
       "  </thead>\n",
       "  <tbody>\n",
       "    <tr>\n",
       "      <th>2</th>\n",
       "      <td>AL801</td>\n",
       "      <td>Software Design with Virtual Reality and Gaming</td>\n",
       "      <td>304</td>\n",
       "      <td>328</td>\n",
       "      <td></td>\n",
       "    </tr>\n",
       "    <tr>\n",
       "      <th>3</th>\n",
       "      <td>AL802</td>\n",
       "      <td>Software Design with Cloud Computing</td>\n",
       "      <td>301</td>\n",
       "      <td>306</td>\n",
       "      <td></td>\n",
       "    </tr>\n",
       "    <tr>\n",
       "      <th>4</th>\n",
       "      <td>AL803</td>\n",
       "      <td>Software Design with Mobile Apps and Connected...</td>\n",
       "      <td>309</td>\n",
       "      <td>337</td>\n",
       "      <td></td>\n",
       "    </tr>\n",
       "    <tr>\n",
       "      <th>5</th>\n",
       "      <td>AL805</td>\n",
       "      <td>Network Management and Cloud Infrastructure</td>\n",
       "      <td>329</td>\n",
       "      <td>442</td>\n",
       "      <td></td>\n",
       "    </tr>\n",
       "    <tr>\n",
       "      <th>6</th>\n",
       "      <td>AL810</td>\n",
       "      <td>Quantity Surveying</td>\n",
       "      <td>307</td>\n",
       "      <td>349</td>\n",
       "      <td></td>\n",
       "    </tr>\n",
       "  </tbody>\n",
       "</table>\n",
       "</div>"
      ],
      "text/plain": [
       "    code                                        course name  EOS  Mid test\n",
       "2  AL801    Software Design with Virtual Reality and Gaming  304  328     \n",
       "3  AL802               Software Design with Cloud Computing  301  306     \n",
       "4  AL803  Software Design with Mobile Apps and Connected...  309  337     \n",
       "5  AL805        Network Management and Cloud Infrastructure  329  442     \n",
       "6  AL810                                 Quantity Surveying  307  349     "
      ]
     },
     "execution_count": 28,
     "metadata": {},
     "output_type": "execute_result"
    }
   ],
   "source": [
    "#If no value in column 'code', remove row\n",
    "#Also, remove first row with messed up headers\n",
    "df2019 = df2019[df2019.code != ''].drop(labels=[0], axis=0)\n",
    "\n",
    "df2019.head()"
   ]
  },
  {
   "cell_type": "markdown",
   "id": "7bb3abdd-6612-4ded-a8dc-2131b1add9e5",
   "metadata": {},
   "source": [
    "Camelot read some empty values as empty strings, so we replace these with 0 for columns with points and fill eventual NaN values."
   ]
  },
  {
   "cell_type": "code",
   "execution_count": 29,
   "id": "a535899d-00f3-45da-9c9e-65ebbd3a78a1",
   "metadata": {},
   "outputs": [],
   "source": [
    "#Replace empty values\n",
    "df2019[['EOS','Mid']] = df2019[['EOS','Mid']].replace('',0).fillna(0)"
   ]
  },
  {
   "cell_type": "code",
   "execution_count": 30,
   "id": "134ae47f-f1d1-440d-9e5c-51127ec20cb8",
   "metadata": {},
   "outputs": [
    {
     "data": {
      "text/plain": [
       "code                   AD217\n",
       "course name     Illustration\n",
       "EOS            # +matric 625\n",
       "Mid                        0\n",
       "test                        \n",
       "Name: 440, dtype: object"
      ]
     },
     "execution_count": 30,
     "metadata": {},
     "output_type": "execute_result"
    }
   ],
   "source": [
    "#Check known value\n",
    "df2019.loc[440]"
   ]
  },
  {
   "cell_type": "code",
   "execution_count": 31,
   "id": "750566b7-3eaa-44af-99fe-8fa6c0988875",
   "metadata": {},
   "outputs": [],
   "source": [
    "#Remove '*' characters\n",
    "df2019 = df2019.replace('\\*','', regex=True)"
   ]
  },
  {
   "cell_type": "code",
   "execution_count": 32,
   "id": "a56e706b-4b77-4aad-b0de-0f4ec89b3c0e",
   "metadata": {},
   "outputs": [
    {
     "data": {
      "text/plain": [
       "code              CK201\n",
       "course name    Commerce\n",
       "EOS                 465\n",
       "Mid                 489\n",
       "test                   \n",
       "Name: 130, dtype: object"
      ]
     },
     "execution_count": 32,
     "metadata": {},
     "output_type": "execute_result"
    }
   ],
   "source": [
    "#Check known value\n",
    "df2019.loc[130]"
   ]
  },
  {
   "cell_type": "code",
   "execution_count": 33,
   "id": "7f08a958-ca4f-4a1d-8b17-dcef65b418a3",
   "metadata": {},
   "outputs": [],
   "source": [
    "#Replace the expression '#\\+matric ' with '#'\n",
    "#They seem to refer to the same thing\n",
    "df2019 = df2019.replace('# \\+matric ','#', regex=True)"
   ]
  },
  {
   "cell_type": "code",
   "execution_count": 34,
   "id": "c55d0bbd-4989-42ee-aef6-46485922f847",
   "metadata": {},
   "outputs": [
    {
     "data": {
      "text/plain": [
       "code                  AD217\n",
       "course name    Illustration\n",
       "EOS                    #625\n",
       "Mid                       0\n",
       "test                       \n",
       "Name: 440, dtype: object"
      ]
     },
     "execution_count": 34,
     "metadata": {},
     "output_type": "execute_result"
    }
   ],
   "source": [
    "#Check known value\n",
    "df2019.loc[440]"
   ]
  },
  {
   "cell_type": "code",
   "execution_count": 35,
   "id": "ee445379-cbad-4911-bbd1-04e692cfefea",
   "metadata": {},
   "outputs": [],
   "source": [
    "#If '#' values in EOS column, add it to test column\n",
    "df2019.loc[df2019.EOS == '#', 'test'] = '#'"
   ]
  },
  {
   "cell_type": "code",
   "execution_count": 36,
   "id": "d2e0b460-5acb-405d-bdb8-1b2fe64ef75c",
   "metadata": {},
   "outputs": [
    {
     "data": {
      "text/plain": [
       "code                                                       TL889\n",
       "course name    Counselling with Addiction - Mature applicants...\n",
       "EOS                                                            #\n",
       "Mid                                                            0\n",
       "test                                                           #\n",
       "Name: 925, dtype: object"
      ]
     },
     "execution_count": 36,
     "metadata": {},
     "output_type": "execute_result"
    }
   ],
   "source": [
    "#Check known value\n",
    "df2019.loc[925]"
   ]
  },
  {
   "cell_type": "code",
   "execution_count": 37,
   "id": "3d2c6300-6975-44ff-b22e-bba9f1359014",
   "metadata": {},
   "outputs": [],
   "source": [
    "#Replace '#' values from EOS column with 0\n",
    "df2019['EOS'] = df2019['EOS'].replace('#',0)"
   ]
  },
  {
   "cell_type": "code",
   "execution_count": 38,
   "id": "5e5a61c3-f8c0-425e-aa95-98984266f25e",
   "metadata": {},
   "outputs": [
    {
     "data": {
      "text/plain": [
       "code                                                       TL889\n",
       "course name    Counselling with Addiction - Mature applicants...\n",
       "EOS                                                            0\n",
       "Mid                                                            0\n",
       "test                                                           #\n",
       "Name: 925, dtype: object"
      ]
     },
     "execution_count": 38,
     "metadata": {},
     "output_type": "execute_result"
    }
   ],
   "source": [
    "#Check known value\n",
    "df2019.loc[925]"
   ]
  },
  {
   "cell_type": "code",
   "execution_count": 39,
   "id": "0292550e-1150-489b-894e-32ce9bdba7ae",
   "metadata": {},
   "outputs": [],
   "source": [
    "#Move remaining '#' characters in EOS column to test column\n",
    "df2019.loc[df2019['EOS'].str.contains('#', na=False), 'test'] = '#'\n",
    "df2019['EOS'] = df2019['EOS'].str.replace('#', '')"
   ]
  },
  {
   "cell_type": "code",
   "execution_count": 40,
   "id": "2a7e8024-f23e-4918-b207-312c19103174",
   "metadata": {},
   "outputs": [
    {
     "data": {
      "text/plain": [
       "code                                         LM026\n",
       "course name    Performing Arts (audition required)\n",
       "EOS                                            307\n",
       "Mid                                            367\n",
       "test                                             #\n",
       "Name: 783, dtype: object"
      ]
     },
     "execution_count": 40,
     "metadata": {},
     "output_type": "execute_result"
    }
   ],
   "source": [
    "#Check known value\n",
    "df2019.loc[783]"
   ]
  },
  {
   "cell_type": "markdown",
   "id": "bc37771b-94d0-44cb-a101-e6e83a6ec01a",
   "metadata": {},
   "source": [
    "In the original dataset, '\\ +matric' values were in the EOS column and Mid points were provided in the Mid column for rows 432-438, 440 and 441. Camelot read it wrongly and put what was supposed to be in the Mid column in the EOS column. We need to swap these values using `DataFrame.loc[].values`. "
   ]
  },
  {
   "cell_type": "code",
   "execution_count": 41,
   "id": "a9dbed6d-5503-4f0c-8d95-1265505b9c95",
   "metadata": {},
   "outputs": [
    {
     "data": {
      "text/plain": [
       "code                  AD217\n",
       "course name    Illustration\n",
       "EOS                     625\n",
       "Mid                       0\n",
       "test                      #\n",
       "Name: 440, dtype: object"
      ]
     },
     "execution_count": 41,
     "metadata": {},
     "output_type": "execute_result"
    }
   ],
   "source": [
    "#Example of messed up row\n",
    "df2019.loc[440]"
   ]
  },
  {
   "cell_type": "code",
   "execution_count": 42,
   "id": "d2f9c674-39a1-426e-8ff6-dddbd1c3eaa2",
   "metadata": {},
   "outputs": [],
   "source": [
    "#Swap values between columns for selected rows\n",
    "df2019.loc[[432,433,434,435,436,437,438,440,441],['EOS','Mid']] = df2019.loc[[432,433,434,435,436,437,438,440,441],['Mid','EOS']].values"
   ]
  },
  {
   "cell_type": "code",
   "execution_count": 43,
   "id": "0f914b91-06f3-4151-8fc2-fc6918a9f2dc",
   "metadata": {},
   "outputs": [
    {
     "data": {
      "text/plain": [
       "code                  AD217\n",
       "course name    Illustration\n",
       "EOS                       0\n",
       "Mid                     625\n",
       "test                      #\n",
       "Name: 440, dtype: object"
      ]
     },
     "execution_count": 43,
     "metadata": {},
     "output_type": "execute_result"
    }
   ],
   "source": [
    "#Check again\n",
    "df2019.loc[440]"
   ]
  },
  {
   "cell_type": "markdown",
   "id": "dda29c89-d49c-46bc-81cc-797dae5cff2a",
   "metadata": {},
   "source": [
    "We also convert all numeric values to float to keep it consistent with the other dataframes."
   ]
  },
  {
   "cell_type": "code",
   "execution_count": 44,
   "id": "d8de091f-7031-4604-a88f-db2ec255d4ec",
   "metadata": {},
   "outputs": [],
   "source": [
    "df2019 = df2019.astype({'EOS': float, 'Mid': float})"
   ]
  },
  {
   "cell_type": "markdown",
   "id": "80b94096-e352-4b4b-96f1-df88a02d7d6e",
   "metadata": {},
   "source": [
    "Finally, we replace '\\#' and empty values in the column test with 'yes' and 'no', respectively, before saving the resulting dataframe."
   ]
  },
  {
   "cell_type": "code",
   "execution_count": 45,
   "id": "07ae02f8-909c-48ef-b531-91a0d03b26f2",
   "metadata": {},
   "outputs": [
    {
     "data": {
      "text/html": [
       "<div>\n",
       "<style scoped>\n",
       "    .dataframe tbody tr th:only-of-type {\n",
       "        vertical-align: middle;\n",
       "    }\n",
       "\n",
       "    .dataframe tbody tr th {\n",
       "        vertical-align: top;\n",
       "    }\n",
       "\n",
       "    .dataframe thead th {\n",
       "        text-align: right;\n",
       "    }\n",
       "</style>\n",
       "<table border=\"1\" class=\"dataframe\">\n",
       "  <thead>\n",
       "    <tr style=\"text-align: right;\">\n",
       "      <th></th>\n",
       "      <th>code</th>\n",
       "      <th>course name</th>\n",
       "      <th>EOS</th>\n",
       "      <th>Mid</th>\n",
       "      <th>test</th>\n",
       "    </tr>\n",
       "  </thead>\n",
       "  <tbody>\n",
       "    <tr>\n",
       "      <th>2</th>\n",
       "      <td>AL801</td>\n",
       "      <td>Software Design with Virtual Reality and Gaming</td>\n",
       "      <td>304.0</td>\n",
       "      <td>328.0</td>\n",
       "      <td>no</td>\n",
       "    </tr>\n",
       "    <tr>\n",
       "      <th>3</th>\n",
       "      <td>AL802</td>\n",
       "      <td>Software Design with Cloud Computing</td>\n",
       "      <td>301.0</td>\n",
       "      <td>306.0</td>\n",
       "      <td>no</td>\n",
       "    </tr>\n",
       "    <tr>\n",
       "      <th>4</th>\n",
       "      <td>AL803</td>\n",
       "      <td>Software Design with Mobile Apps and Connected...</td>\n",
       "      <td>309.0</td>\n",
       "      <td>337.0</td>\n",
       "      <td>no</td>\n",
       "    </tr>\n",
       "    <tr>\n",
       "      <th>5</th>\n",
       "      <td>AL805</td>\n",
       "      <td>Network Management and Cloud Infrastructure</td>\n",
       "      <td>329.0</td>\n",
       "      <td>442.0</td>\n",
       "      <td>no</td>\n",
       "    </tr>\n",
       "    <tr>\n",
       "      <th>6</th>\n",
       "      <td>AL810</td>\n",
       "      <td>Quantity Surveying</td>\n",
       "      <td>307.0</td>\n",
       "      <td>349.0</td>\n",
       "      <td>no</td>\n",
       "    </tr>\n",
       "  </tbody>\n",
       "</table>\n",
       "</div>"
      ],
      "text/plain": [
       "    code                                        course name    EOS    Mid test\n",
       "2  AL801    Software Design with Virtual Reality and Gaming  304.0  328.0   no\n",
       "3  AL802               Software Design with Cloud Computing  301.0  306.0   no\n",
       "4  AL803  Software Design with Mobile Apps and Connected...  309.0  337.0   no\n",
       "5  AL805        Network Management and Cloud Infrastructure  329.0  442.0   no\n",
       "6  AL810                                 Quantity Surveying  307.0  349.0   no"
      ]
     },
     "execution_count": 45,
     "metadata": {},
     "output_type": "execute_result"
    }
   ],
   "source": [
    "#Replace '#' and empty values (NaN icluded) in column test\n",
    "df2019['test'] = df2019['test'].replace(['#',''],['yes','no']).fillna('no')\n",
    "\n",
    "#Show first 5 rows\n",
    "df2019.head()"
   ]
  },
  {
   "cell_type": "code",
   "execution_count": 46,
   "id": "c61564fa-7699-4187-b5e1-966f2ccd0359",
   "metadata": {},
   "outputs": [
    {
     "data": {
      "text/plain": [
       "code                  AD217\n",
       "course name    Illustration\n",
       "EOS                     0.0\n",
       "Mid                   625.0\n",
       "test                    yes\n",
       "Name: 440, dtype: object"
      ]
     },
     "execution_count": 46,
     "metadata": {},
     "output_type": "execute_result"
    }
   ],
   "source": [
    "#Check known value\n",
    "df2019.loc[440]"
   ]
  },
  {
   "cell_type": "code",
   "execution_count": 59,
   "id": "e34223eb-623e-4273-9a32-3e3e9178411f",
   "metadata": {},
   "outputs": [],
   "source": [
    "pathcsv2019 = 'data/2019/cao2019_' + nowstr + '.csv'"
   ]
  },
  {
   "cell_type": "code",
   "execution_count": 60,
   "id": "ad4a0500-b31c-4812-b0eb-2b037ad9b264",
   "metadata": {},
   "outputs": [],
   "source": [
    "df2019.to_csv(pathcsv2019)"
   ]
  },
  {
   "cell_type": "markdown",
   "id": "9a7ae642-5a5e-40d6-a262-f88ce67722df",
   "metadata": {},
   "source": [
    "<br>"
   ]
  },
  {
   "cell_type": "markdown",
   "id": "cef7e010-62b4-43ac-b653-2d32529c1746",
   "metadata": {},
   "source": [
    "## Consolidating data frames\n",
    "***"
   ]
  },
  {
   "cell_type": "markdown",
   "id": "9b39e2ab-757a-46be-b306-80a3c039ea60",
   "metadata": {},
   "source": [
    "All code for this section was adapted from the lecture on deduplication of data, for the module Fundamentals of Data Analysis @GMIT (Winter 2021-2022)."
   ]
  },
  {
   "cell_type": "markdown",
   "id": "d6a2dce8-18dc-4568-9634-ce597bd7e28e",
   "metadata": {},
   "source": [
    "We start by creating new dataframes for each year, keeping only the columns 'code' and 'course name'."
   ]
  },
  {
   "cell_type": "markdown",
   "id": "ae8b8094-c249-40da-b80b-c745431c3a32",
   "metadata": {},
   "source": [
    "#### 2021"
   ]
  },
  {
   "cell_type": "code",
   "execution_count": 47,
   "id": "25118a40-77db-43ee-9535-d02a0cc4a48c",
   "metadata": {},
   "outputs": [
    {
     "data": {
      "text/html": [
       "<div>\n",
       "<style scoped>\n",
       "    .dataframe tbody tr th:only-of-type {\n",
       "        vertical-align: middle;\n",
       "    }\n",
       "\n",
       "    .dataframe tbody tr th {\n",
       "        vertical-align: top;\n",
       "    }\n",
       "\n",
       "    .dataframe thead th {\n",
       "        text-align: right;\n",
       "    }\n",
       "</style>\n",
       "<table border=\"1\" class=\"dataframe\">\n",
       "  <thead>\n",
       "    <tr style=\"text-align: right;\">\n",
       "      <th></th>\n",
       "      <th>code</th>\n",
       "      <th>course name</th>\n",
       "    </tr>\n",
       "  </thead>\n",
       "  <tbody>\n",
       "    <tr>\n",
       "      <th>29</th>\n",
       "      <td>AL801</td>\n",
       "      <td>Software Design for Virtual Reality and Gaming</td>\n",
       "    </tr>\n",
       "    <tr>\n",
       "      <th>30</th>\n",
       "      <td>AL802</td>\n",
       "      <td>Software Design in Artificial Intelligence for...</td>\n",
       "    </tr>\n",
       "    <tr>\n",
       "      <th>31</th>\n",
       "      <td>AL803</td>\n",
       "      <td>Software Design for Mobile Apps and Connected ...</td>\n",
       "    </tr>\n",
       "    <tr>\n",
       "      <th>32</th>\n",
       "      <td>AL805</td>\n",
       "      <td>Computer Engineering for Network Infrastructure</td>\n",
       "    </tr>\n",
       "    <tr>\n",
       "      <th>33</th>\n",
       "      <td>AL810</td>\n",
       "      <td>Quantity Surveying</td>\n",
       "    </tr>\n",
       "  </tbody>\n",
       "</table>\n",
       "</div>"
      ],
      "text/plain": [
       "     code                                        course name\n",
       "29  AL801     Software Design for Virtual Reality and Gaming\n",
       "30  AL802  Software Design in Artificial Intelligence for...\n",
       "31  AL803  Software Design for Mobile Apps and Connected ...\n",
       "32  AL805    Computer Engineering for Network Infrastructure\n",
       "33  AL810                                 Quantity Surveying"
      ]
     },
     "execution_count": 47,
     "metadata": {},
     "output_type": "execute_result"
    }
   ],
   "source": [
    "courses2021 = df2021[['code', 'course name']]\n",
    "courses2021.head()"
   ]
  },
  {
   "cell_type": "markdown",
   "id": "7d907df5-559f-4198-b973-1280617311df",
   "metadata": {},
   "source": [
    "#### 2020"
   ]
  },
  {
   "cell_type": "code",
   "execution_count": 48,
   "id": "5b79c167-ea15-4e2e-9072-e0e21ad97182",
   "metadata": {},
   "outputs": [
    {
     "data": {
      "text/html": [
       "<div>\n",
       "<style scoped>\n",
       "    .dataframe tbody tr th:only-of-type {\n",
       "        vertical-align: middle;\n",
       "    }\n",
       "\n",
       "    .dataframe tbody tr th {\n",
       "        vertical-align: top;\n",
       "    }\n",
       "\n",
       "    .dataframe thead th {\n",
       "        text-align: right;\n",
       "    }\n",
       "</style>\n",
       "<table border=\"1\" class=\"dataframe\">\n",
       "  <thead>\n",
       "    <tr style=\"text-align: right;\">\n",
       "      <th></th>\n",
       "      <th>code</th>\n",
       "      <th>course name</th>\n",
       "    </tr>\n",
       "  </thead>\n",
       "  <tbody>\n",
       "    <tr>\n",
       "      <th>0</th>\n",
       "      <td>AC120</td>\n",
       "      <td>International Business</td>\n",
       "    </tr>\n",
       "    <tr>\n",
       "      <th>1</th>\n",
       "      <td>AC137</td>\n",
       "      <td>Liberal Arts</td>\n",
       "    </tr>\n",
       "    <tr>\n",
       "      <th>2</th>\n",
       "      <td>AD101</td>\n",
       "      <td>First Year Art &amp; Design (Common Entry,portfolio)</td>\n",
       "    </tr>\n",
       "    <tr>\n",
       "      <th>3</th>\n",
       "      <td>AD102</td>\n",
       "      <td>Graphic Design and Moving Image Design (portfo...</td>\n",
       "    </tr>\n",
       "    <tr>\n",
       "      <th>4</th>\n",
       "      <td>AD103</td>\n",
       "      <td>Textile &amp; Surface Design and Jewellery &amp; Objec...</td>\n",
       "    </tr>\n",
       "  </tbody>\n",
       "</table>\n",
       "</div>"
      ],
      "text/plain": [
       "    code                                        course name\n",
       "0  AC120                             International Business\n",
       "1  AC137                                       Liberal Arts\n",
       "2  AD101   First Year Art & Design (Common Entry,portfolio)\n",
       "3  AD102  Graphic Design and Moving Image Design (portfo...\n",
       "4  AD103  Textile & Surface Design and Jewellery & Objec..."
      ]
     },
     "execution_count": 48,
     "metadata": {},
     "output_type": "execute_result"
    }
   ],
   "source": [
    "courses2020 = df2020[['code', 'course name']]\n",
    "courses2020.head()"
   ]
  },
  {
   "cell_type": "markdown",
   "id": "277c65f4-0e50-4e3b-8cac-e3c3abcd4858",
   "metadata": {},
   "source": [
    "#### 2019"
   ]
  },
  {
   "cell_type": "code",
   "execution_count": 49,
   "id": "4bfc9f8f-44c3-4196-a333-5b8d1d9464d4",
   "metadata": {},
   "outputs": [
    {
     "data": {
      "text/html": [
       "<div>\n",
       "<style scoped>\n",
       "    .dataframe tbody tr th:only-of-type {\n",
       "        vertical-align: middle;\n",
       "    }\n",
       "\n",
       "    .dataframe tbody tr th {\n",
       "        vertical-align: top;\n",
       "    }\n",
       "\n",
       "    .dataframe thead th {\n",
       "        text-align: right;\n",
       "    }\n",
       "</style>\n",
       "<table border=\"1\" class=\"dataframe\">\n",
       "  <thead>\n",
       "    <tr style=\"text-align: right;\">\n",
       "      <th></th>\n",
       "      <th>code</th>\n",
       "      <th>course name</th>\n",
       "    </tr>\n",
       "  </thead>\n",
       "  <tbody>\n",
       "    <tr>\n",
       "      <th>2</th>\n",
       "      <td>AL801</td>\n",
       "      <td>Software Design with Virtual Reality and Gaming</td>\n",
       "    </tr>\n",
       "    <tr>\n",
       "      <th>3</th>\n",
       "      <td>AL802</td>\n",
       "      <td>Software Design with Cloud Computing</td>\n",
       "    </tr>\n",
       "    <tr>\n",
       "      <th>4</th>\n",
       "      <td>AL803</td>\n",
       "      <td>Software Design with Mobile Apps and Connected...</td>\n",
       "    </tr>\n",
       "    <tr>\n",
       "      <th>5</th>\n",
       "      <td>AL805</td>\n",
       "      <td>Network Management and Cloud Infrastructure</td>\n",
       "    </tr>\n",
       "    <tr>\n",
       "      <th>6</th>\n",
       "      <td>AL810</td>\n",
       "      <td>Quantity Surveying</td>\n",
       "    </tr>\n",
       "  </tbody>\n",
       "</table>\n",
       "</div>"
      ],
      "text/plain": [
       "    code                                        course name\n",
       "2  AL801    Software Design with Virtual Reality and Gaming\n",
       "3  AL802               Software Design with Cloud Computing\n",
       "4  AL803  Software Design with Mobile Apps and Connected...\n",
       "5  AL805        Network Management and Cloud Infrastructure\n",
       "6  AL810                                 Quantity Surveying"
      ]
     },
     "execution_count": 49,
     "metadata": {},
     "output_type": "execute_result"
    }
   ],
   "source": [
    "courses2019 = df2019[['code', 'course name']]\n",
    "courses2019.head()"
   ]
  },
  {
   "cell_type": "markdown",
   "id": "baea230d-1f82-42f5-b0f1-1b95b690201b",
   "metadata": {},
   "source": [
    "We then create a new dataframe by concatenating the 3 and sorting by the values on column 'code'. We set `ignore_index=True` to label the index in the resulting dataframe from 0 to n-1."
   ]
  },
  {
   "cell_type": "code",
   "execution_count": 50,
   "id": "ccebf385-d3ea-4df7-b51e-03324d2d105c",
   "metadata": {},
   "outputs": [
    {
     "data": {
      "text/html": [
       "<div>\n",
       "<style scoped>\n",
       "    .dataframe tbody tr th:only-of-type {\n",
       "        vertical-align: middle;\n",
       "    }\n",
       "\n",
       "    .dataframe tbody tr th {\n",
       "        vertical-align: top;\n",
       "    }\n",
       "\n",
       "    .dataframe thead th {\n",
       "        text-align: right;\n",
       "    }\n",
       "</style>\n",
       "<table border=\"1\" class=\"dataframe\">\n",
       "  <thead>\n",
       "    <tr style=\"text-align: right;\">\n",
       "      <th></th>\n",
       "      <th>code</th>\n",
       "      <th>course name</th>\n",
       "    </tr>\n",
       "  </thead>\n",
       "  <tbody>\n",
       "    <tr>\n",
       "      <th>1034</th>\n",
       "      <td>AC120</td>\n",
       "      <td>International Business</td>\n",
       "    </tr>\n",
       "    <tr>\n",
       "      <th>2229</th>\n",
       "      <td>AC120</td>\n",
       "      <td>International Business</td>\n",
       "    </tr>\n",
       "    <tr>\n",
       "      <th>175</th>\n",
       "      <td>AC120</td>\n",
       "      <td>International Business</td>\n",
       "    </tr>\n",
       "    <tr>\n",
       "      <th>1035</th>\n",
       "      <td>AC137</td>\n",
       "      <td>Liberal Arts</td>\n",
       "    </tr>\n",
       "    <tr>\n",
       "      <th>2230</th>\n",
       "      <td>AC137</td>\n",
       "      <td>Liberal Arts</td>\n",
       "    </tr>\n",
       "    <tr>\n",
       "      <th>...</th>\n",
       "      <td>...</td>\n",
       "      <td>...</td>\n",
       "    </tr>\n",
       "    <tr>\n",
       "      <th>2990</th>\n",
       "      <td>WD230</td>\n",
       "      <td>Mechanical and Manufacturing Engineering</td>\n",
       "    </tr>\n",
       "    <tr>\n",
       "      <th>2060</th>\n",
       "      <td>WD230</td>\n",
       "      <td>Mechanical and Manufacturing Engineering</td>\n",
       "    </tr>\n",
       "    <tr>\n",
       "      <th>1031</th>\n",
       "      <td>WD230</td>\n",
       "      <td>Mechanical and Manufacturing Engineering</td>\n",
       "    </tr>\n",
       "    <tr>\n",
       "      <th>1032</th>\n",
       "      <td>WD231</td>\n",
       "      <td>Early Childhood Care and Education</td>\n",
       "    </tr>\n",
       "    <tr>\n",
       "      <th>1033</th>\n",
       "      <td>WD232</td>\n",
       "      <td>Business Information Systems</td>\n",
       "    </tr>\n",
       "  </tbody>\n",
       "</table>\n",
       "<p>2991 rows × 2 columns</p>\n",
       "</div>"
      ],
      "text/plain": [
       "       code                               course name\n",
       "1034  AC120                    International Business\n",
       "2229  AC120                    International Business\n",
       "175   AC120                    International Business\n",
       "1035  AC137                              Liberal Arts\n",
       "2230  AC137                              Liberal Arts\n",
       "...     ...                                       ...\n",
       "2990  WD230  Mechanical and Manufacturing Engineering\n",
       "2060  WD230  Mechanical and Manufacturing Engineering\n",
       "1031  WD230  Mechanical and Manufacturing Engineering\n",
       "1032  WD231        Early Childhood Care and Education\n",
       "1033  WD232              Business Information Systems\n",
       "\n",
       "[2991 rows x 2 columns]"
      ]
     },
     "execution_count": 50,
     "metadata": {},
     "output_type": "execute_result"
    }
   ],
   "source": [
    "#Concat courses and sort by code\n",
    "allcourses = pd.concat([courses2021, courses2020, courses2019], ignore_index=True).sort_values('code')\n",
    "allcourses"
   ]
  },
  {
   "cell_type": "code",
   "execution_count": 51,
   "id": "9dd73f4d-2c4f-4cd2-914c-9afa29d0924f",
   "metadata": {},
   "outputs": [
    {
     "data": {
      "text/html": [
       "<div>\n",
       "<style scoped>\n",
       "    .dataframe tbody tr th:only-of-type {\n",
       "        vertical-align: middle;\n",
       "    }\n",
       "\n",
       "    .dataframe tbody tr th {\n",
       "        vertical-align: top;\n",
       "    }\n",
       "\n",
       "    .dataframe thead th {\n",
       "        text-align: right;\n",
       "    }\n",
       "</style>\n",
       "<table border=\"1\" class=\"dataframe\">\n",
       "  <thead>\n",
       "    <tr style=\"text-align: right;\">\n",
       "      <th></th>\n",
       "      <th>code</th>\n",
       "      <th>course name</th>\n",
       "    </tr>\n",
       "  </thead>\n",
       "  <tbody>\n",
       "    <tr>\n",
       "      <th>2229</th>\n",
       "      <td>AC120</td>\n",
       "      <td>International Business</td>\n",
       "    </tr>\n",
       "    <tr>\n",
       "      <th>175</th>\n",
       "      <td>AC120</td>\n",
       "      <td>International Business</td>\n",
       "    </tr>\n",
       "    <tr>\n",
       "      <th>2230</th>\n",
       "      <td>AC137</td>\n",
       "      <td>Liberal Arts</td>\n",
       "    </tr>\n",
       "    <tr>\n",
       "      <th>176</th>\n",
       "      <td>AC137</td>\n",
       "      <td>Liberal Arts</td>\n",
       "    </tr>\n",
       "    <tr>\n",
       "      <th>1037</th>\n",
       "      <td>AD102</td>\n",
       "      <td>Graphic Design and Moving Image Design (portfo...</td>\n",
       "    </tr>\n",
       "    <tr>\n",
       "      <th>...</th>\n",
       "      <td>...</td>\n",
       "      <td>...</td>\n",
       "    </tr>\n",
       "    <tr>\n",
       "      <th>2058</th>\n",
       "      <td>WD211</td>\n",
       "      <td>Creative Computing</td>\n",
       "    </tr>\n",
       "    <tr>\n",
       "      <th>2989</th>\n",
       "      <td>WD212</td>\n",
       "      <td>Recreation and Sport Management</td>\n",
       "    </tr>\n",
       "    <tr>\n",
       "      <th>1030</th>\n",
       "      <td>WD212</td>\n",
       "      <td>Recreation and Sport Management</td>\n",
       "    </tr>\n",
       "    <tr>\n",
       "      <th>2060</th>\n",
       "      <td>WD230</td>\n",
       "      <td>Mechanical and Manufacturing Engineering</td>\n",
       "    </tr>\n",
       "    <tr>\n",
       "      <th>1031</th>\n",
       "      <td>WD230</td>\n",
       "      <td>Mechanical and Manufacturing Engineering</td>\n",
       "    </tr>\n",
       "  </tbody>\n",
       "</table>\n",
       "<p>1570 rows × 2 columns</p>\n",
       "</div>"
      ],
      "text/plain": [
       "       code                                        course name\n",
       "2229  AC120                             International Business\n",
       "175   AC120                             International Business\n",
       "2230  AC137                                       Liberal Arts\n",
       "176   AC137                                       Liberal Arts\n",
       "1037  AD102  Graphic Design and Moving Image Design (portfo...\n",
       "...     ...                                                ...\n",
       "2058  WD211                                 Creative Computing\n",
       "2989  WD212                    Recreation and Sport Management\n",
       "1030  WD212                    Recreation and Sport Management\n",
       "2060  WD230           Mechanical and Manufacturing Engineering\n",
       "1031  WD230           Mechanical and Manufacturing Engineering\n",
       "\n",
       "[1570 rows x 2 columns]"
      ]
     },
     "execution_count": 51,
     "metadata": {},
     "output_type": "execute_result"
    }
   ],
   "source": [
    "#Finds all extra copies of duplicated rows\n",
    "allcourses[allcourses.duplicated()]"
   ]
  },
  {
   "cell_type": "code",
   "execution_count": 52,
   "id": "b0851491-3c9b-45b5-ab7e-ef0ef25b0cd7",
   "metadata": {},
   "outputs": [
    {
     "data": {
      "text/html": [
       "<div>\n",
       "<style scoped>\n",
       "    .dataframe tbody tr th:only-of-type {\n",
       "        vertical-align: middle;\n",
       "    }\n",
       "\n",
       "    .dataframe tbody tr th {\n",
       "        vertical-align: top;\n",
       "    }\n",
       "\n",
       "    .dataframe thead th {\n",
       "        text-align: right;\n",
       "    }\n",
       "</style>\n",
       "<table border=\"1\" class=\"dataframe\">\n",
       "  <thead>\n",
       "    <tr style=\"text-align: right;\">\n",
       "      <th></th>\n",
       "      <th>code</th>\n",
       "      <th>course name</th>\n",
       "    </tr>\n",
       "  </thead>\n",
       "  <tbody>\n",
       "    <tr>\n",
       "      <th>1034</th>\n",
       "      <td>AC120</td>\n",
       "      <td>International Business</td>\n",
       "    </tr>\n",
       "    <tr>\n",
       "      <th>1035</th>\n",
       "      <td>AC137</td>\n",
       "      <td>Liberal Arts</td>\n",
       "    </tr>\n",
       "    <tr>\n",
       "      <th>1036</th>\n",
       "      <td>AD101</td>\n",
       "      <td>First Year Art &amp; Design (Common Entry,portfolio)</td>\n",
       "    </tr>\n",
       "    <tr>\n",
       "      <th>312</th>\n",
       "      <td>AD101</td>\n",
       "      <td>First Year Art and Design (Common Entry,portfo...</td>\n",
       "    </tr>\n",
       "    <tr>\n",
       "      <th>2475</th>\n",
       "      <td>AD101</td>\n",
       "      <td>First Year Art &amp; Design (Common Entry)</td>\n",
       "    </tr>\n",
       "    <tr>\n",
       "      <th>...</th>\n",
       "      <td>...</td>\n",
       "      <td>...</td>\n",
       "    </tr>\n",
       "    <tr>\n",
       "      <th>2988</th>\n",
       "      <td>WD211</td>\n",
       "      <td>Creative Computing</td>\n",
       "    </tr>\n",
       "    <tr>\n",
       "      <th>2059</th>\n",
       "      <td>WD212</td>\n",
       "      <td>Recreation and Sport Management</td>\n",
       "    </tr>\n",
       "    <tr>\n",
       "      <th>2990</th>\n",
       "      <td>WD230</td>\n",
       "      <td>Mechanical and Manufacturing Engineering</td>\n",
       "    </tr>\n",
       "    <tr>\n",
       "      <th>1032</th>\n",
       "      <td>WD231</td>\n",
       "      <td>Early Childhood Care and Education</td>\n",
       "    </tr>\n",
       "    <tr>\n",
       "      <th>1033</th>\n",
       "      <td>WD232</td>\n",
       "      <td>Business Information Systems</td>\n",
       "    </tr>\n",
       "  </tbody>\n",
       "</table>\n",
       "<p>1421 rows × 2 columns</p>\n",
       "</div>"
      ],
      "text/plain": [
       "       code                                        course name\n",
       "1034  AC120                             International Business\n",
       "1035  AC137                                       Liberal Arts\n",
       "1036  AD101   First Year Art & Design (Common Entry,portfolio)\n",
       "312   AD101  First Year Art and Design (Common Entry,portfo...\n",
       "2475  AD101             First Year Art & Design (Common Entry)\n",
       "...     ...                                                ...\n",
       "2988  WD211                                 Creative Computing\n",
       "2059  WD212                    Recreation and Sport Management\n",
       "2990  WD230           Mechanical and Manufacturing Engineering\n",
       "1032  WD231                 Early Childhood Care and Education\n",
       "1033  WD232                       Business Information Systems\n",
       "\n",
       "[1421 rows x 2 columns]"
      ]
     },
     "execution_count": 52,
     "metadata": {},
     "output_type": "execute_result"
    }
   ],
   "source": [
    "#Returns a copy of the data frame with duplciates removed\n",
    "allcourses.drop_duplicates()"
   ]
  },
  {
   "cell_type": "code",
   "execution_count": 53,
   "id": "c528e705-1d59-4358-95d9-365fea1249f1",
   "metadata": {},
   "outputs": [
    {
     "data": {
      "text/html": [
       "<div>\n",
       "<style scoped>\n",
       "    .dataframe tbody tr th:only-of-type {\n",
       "        vertical-align: middle;\n",
       "    }\n",
       "\n",
       "    .dataframe tbody tr th {\n",
       "        vertical-align: top;\n",
       "    }\n",
       "\n",
       "    .dataframe thead th {\n",
       "        text-align: right;\n",
       "    }\n",
       "</style>\n",
       "<table border=\"1\" class=\"dataframe\">\n",
       "  <thead>\n",
       "    <tr style=\"text-align: right;\">\n",
       "      <th></th>\n",
       "      <th>code</th>\n",
       "      <th>course name</th>\n",
       "    </tr>\n",
       "  </thead>\n",
       "  <tbody>\n",
       "    <tr>\n",
       "      <th>2229</th>\n",
       "      <td>AC120</td>\n",
       "      <td>International Business</td>\n",
       "    </tr>\n",
       "    <tr>\n",
       "      <th>175</th>\n",
       "      <td>AC120</td>\n",
       "      <td>International Business</td>\n",
       "    </tr>\n",
       "    <tr>\n",
       "      <th>2230</th>\n",
       "      <td>AC137</td>\n",
       "      <td>Liberal Arts</td>\n",
       "    </tr>\n",
       "    <tr>\n",
       "      <th>176</th>\n",
       "      <td>AC137</td>\n",
       "      <td>Liberal Arts</td>\n",
       "    </tr>\n",
       "    <tr>\n",
       "      <th>312</th>\n",
       "      <td>AD101</td>\n",
       "      <td>First Year Art and Design (Common Entry,portfo...</td>\n",
       "    </tr>\n",
       "    <tr>\n",
       "      <th>...</th>\n",
       "      <td>...</td>\n",
       "      <td>...</td>\n",
       "    </tr>\n",
       "    <tr>\n",
       "      <th>2058</th>\n",
       "      <td>WD211</td>\n",
       "      <td>Creative Computing</td>\n",
       "    </tr>\n",
       "    <tr>\n",
       "      <th>2989</th>\n",
       "      <td>WD212</td>\n",
       "      <td>Recreation and Sport Management</td>\n",
       "    </tr>\n",
       "    <tr>\n",
       "      <th>1030</th>\n",
       "      <td>WD212</td>\n",
       "      <td>Recreation and Sport Management</td>\n",
       "    </tr>\n",
       "    <tr>\n",
       "      <th>2060</th>\n",
       "      <td>WD230</td>\n",
       "      <td>Mechanical and Manufacturing Engineering</td>\n",
       "    </tr>\n",
       "    <tr>\n",
       "      <th>1031</th>\n",
       "      <td>WD230</td>\n",
       "      <td>Mechanical and Manufacturing Engineering</td>\n",
       "    </tr>\n",
       "  </tbody>\n",
       "</table>\n",
       "<p>1759 rows × 2 columns</p>\n",
       "</div>"
      ],
      "text/plain": [
       "       code                                        course name\n",
       "2229  AC120                             International Business\n",
       "175   AC120                             International Business\n",
       "2230  AC137                                       Liberal Arts\n",
       "176   AC137                                       Liberal Arts\n",
       "312   AD101  First Year Art and Design (Common Entry,portfo...\n",
       "...     ...                                                ...\n",
       "2058  WD211                                 Creative Computing\n",
       "2989  WD212                    Recreation and Sport Management\n",
       "1030  WD212                    Recreation and Sport Management\n",
       "2060  WD230           Mechanical and Manufacturing Engineering\n",
       "1031  WD230           Mechanical and Manufacturing Engineering\n",
       "\n",
       "[1759 rows x 2 columns]"
      ]
     },
     "execution_count": 53,
     "metadata": {},
     "output_type": "execute_result"
    }
   ],
   "source": [
    "#Finds all extra copies of duplicated rows\n",
    "allcourses[allcourses.duplicated(subset=['code'])]"
   ]
  },
  {
   "cell_type": "code",
   "execution_count": 54,
   "id": "943fb864-a2e7-4054-ab2e-92b611ba0b1f",
   "metadata": {},
   "outputs": [
    {
     "data": {
      "text/html": [
       "<div>\n",
       "<style scoped>\n",
       "    .dataframe tbody tr th:only-of-type {\n",
       "        vertical-align: middle;\n",
       "    }\n",
       "\n",
       "    .dataframe tbody tr th {\n",
       "        vertical-align: top;\n",
       "    }\n",
       "\n",
       "    .dataframe thead th {\n",
       "        text-align: right;\n",
       "    }\n",
       "</style>\n",
       "<table border=\"1\" class=\"dataframe\">\n",
       "  <thead>\n",
       "    <tr style=\"text-align: right;\">\n",
       "      <th></th>\n",
       "      <th>code</th>\n",
       "      <th>course name</th>\n",
       "    </tr>\n",
       "  </thead>\n",
       "  <tbody>\n",
       "    <tr>\n",
       "      <th>0</th>\n",
       "      <td>AC120</td>\n",
       "      <td>International Business</td>\n",
       "    </tr>\n",
       "    <tr>\n",
       "      <th>1</th>\n",
       "      <td>AC137</td>\n",
       "      <td>Liberal Arts</td>\n",
       "    </tr>\n",
       "    <tr>\n",
       "      <th>2</th>\n",
       "      <td>AD101</td>\n",
       "      <td>First Year Art &amp; Design (Common Entry,portfolio)</td>\n",
       "    </tr>\n",
       "    <tr>\n",
       "      <th>3</th>\n",
       "      <td>AD102</td>\n",
       "      <td>Graphic Design and Moving Image Design</td>\n",
       "    </tr>\n",
       "    <tr>\n",
       "      <th>4</th>\n",
       "      <td>AD103</td>\n",
       "      <td>Textile &amp; Surface Design and Jewellery &amp; Objec...</td>\n",
       "    </tr>\n",
       "  </tbody>\n",
       "</table>\n",
       "</div>"
      ],
      "text/plain": [
       "    code                                        course name\n",
       "0  AC120                             International Business\n",
       "1  AC137                                       Liberal Arts\n",
       "2  AD101   First Year Art & Design (Common Entry,portfolio)\n",
       "3  AD102             Graphic Design and Moving Image Design\n",
       "4  AD103  Textile & Surface Design and Jewellery & Objec..."
      ]
     },
     "execution_count": 54,
     "metadata": {},
     "output_type": "execute_result"
    }
   ],
   "source": [
    "#Returns a copy of the data frame with duplicates removed for column code\n",
    "allcourses.drop_duplicates(subset=['code'], inplace=True, ignore_index=True)\n",
    "\n",
    "#Show firs 5 rows\n",
    "allcourses.head()"
   ]
  },
  {
   "cell_type": "markdown",
   "id": "cd2d2ca3-c573-4e95-9048-491dde1dd6a3",
   "metadata": {},
   "source": [
    "### Add points"
   ]
  },
  {
   "cell_type": "markdown",
   "id": "95335a10-f213-4e2b-9fce-7ca33ec8bb35",
   "metadata": {},
   "source": [
    "With all duplicates removed, we can join the remaining columns for each year using `DataFrame.join()`. For that, we first match the index of our 'base' dataframes (`df2021`, `df2020`, and `df2019`) with the index of the consolidated dataframe `allcourses`. Course codes are unique values so we used as them index."
   ]
  },
  {
   "cell_type": "markdown",
   "id": "02ca0d8d-9554-4cde-8bc8-41db423d5e20",
   "metadata": {},
   "source": [
    "#### 2021"
   ]
  },
  {
   "cell_type": "code",
   "execution_count": 55,
   "id": "2cb67912-cc7b-44ed-94ea-60528596da58",
   "metadata": {},
   "outputs": [],
   "source": [
    "# Set the index to code for 2021\n",
    "df2021.set_index('code', inplace=True)\n",
    "df2021.columns = ['course name', 'EOS_2021', 'Mid_2021', 'test_2021']\n",
    "\n",
    "#Set the index to the code for allcourses\n",
    "allcourses.set_index('code', inplace=True)\n",
    "\n",
    "#Join dataframes\n",
    "allcourses = allcourses.join(df2021[['EOS_2021','Mid_2021','test_2021']])\n",
    "allcourses.head()"
   ]
  },
  {
   "cell_type": "markdown",
   "id": "ece5345b-9469-4976-bd6f-4151e767703f",
   "metadata": {},
   "source": [
    "#### 2020"
   ]
  },
  {
   "cell_type": "code",
   "execution_count": 58,
   "id": "b1a796bf-3629-4bc0-9a22-baa0e3f98a93",
   "metadata": {},
   "outputs": [
    {
     "data": {
      "text/html": [
       "<div>\n",
       "<style scoped>\n",
       "    .dataframe tbody tr th:only-of-type {\n",
       "        vertical-align: middle;\n",
       "    }\n",
       "\n",
       "    .dataframe tbody tr th {\n",
       "        vertical-align: top;\n",
       "    }\n",
       "\n",
       "    .dataframe thead th {\n",
       "        text-align: right;\n",
       "    }\n",
       "</style>\n",
       "<table border=\"1\" class=\"dataframe\">\n",
       "  <thead>\n",
       "    <tr style=\"text-align: right;\">\n",
       "      <th></th>\n",
       "      <th>course name</th>\n",
       "      <th>EOS_2021</th>\n",
       "      <th>Mid_2021</th>\n",
       "      <th>test_2021</th>\n",
       "      <th>EOS_2020</th>\n",
       "      <th>Mid_2020</th>\n",
       "      <th>test_2020</th>\n",
       "    </tr>\n",
       "    <tr>\n",
       "      <th>code</th>\n",
       "      <th></th>\n",
       "      <th></th>\n",
       "      <th></th>\n",
       "      <th></th>\n",
       "      <th></th>\n",
       "      <th></th>\n",
       "      <th></th>\n",
       "    </tr>\n",
       "  </thead>\n",
       "  <tbody>\n",
       "    <tr>\n",
       "      <th>AC120</th>\n",
       "      <td>International Business</td>\n",
       "      <td>294.0</td>\n",
       "      <td>352.0</td>\n",
       "      <td>no</td>\n",
       "      <td>209.0</td>\n",
       "      <td>280.0</td>\n",
       "      <td>no</td>\n",
       "    </tr>\n",
       "    <tr>\n",
       "      <th>AC137</th>\n",
       "      <td>Liberal Arts</td>\n",
       "      <td>270.0</td>\n",
       "      <td>334.0</td>\n",
       "      <td>no</td>\n",
       "      <td>252.0</td>\n",
       "      <td>270.0</td>\n",
       "      <td>no</td>\n",
       "    </tr>\n",
       "    <tr>\n",
       "      <th>AD101</th>\n",
       "      <td>First Year Art &amp; Design (Common Entry,portfolio)</td>\n",
       "      <td>554.0</td>\n",
       "      <td>604.0</td>\n",
       "      <td>yes</td>\n",
       "      <td>0.0</td>\n",
       "      <td>0.0</td>\n",
       "      <td>yes</td>\n",
       "    </tr>\n",
       "    <tr>\n",
       "      <th>AD102</th>\n",
       "      <td>Graphic Design and Moving Image Design</td>\n",
       "      <td>538.0</td>\n",
       "      <td>625.0</td>\n",
       "      <td>yes</td>\n",
       "      <td>0.0</td>\n",
       "      <td>0.0</td>\n",
       "      <td>yes</td>\n",
       "    </tr>\n",
       "    <tr>\n",
       "      <th>AD103</th>\n",
       "      <td>Textile &amp; Surface Design and Jewellery &amp; Objec...</td>\n",
       "      <td>505.0</td>\n",
       "      <td>581.0</td>\n",
       "      <td>yes</td>\n",
       "      <td>0.0</td>\n",
       "      <td>0.0</td>\n",
       "      <td>yes</td>\n",
       "    </tr>\n",
       "  </tbody>\n",
       "</table>\n",
       "</div>"
      ],
      "text/plain": [
       "                                             course name  EOS_2021  Mid_2021  \\\n",
       "code                                                                           \n",
       "AC120                             International Business     294.0     352.0   \n",
       "AC137                                       Liberal Arts     270.0     334.0   \n",
       "AD101   First Year Art & Design (Common Entry,portfolio)     554.0     604.0   \n",
       "AD102             Graphic Design and Moving Image Design     538.0     625.0   \n",
       "AD103  Textile & Surface Design and Jewellery & Objec...     505.0     581.0   \n",
       "\n",
       "      test_2021  EOS_2020  Mid_2020 test_2020  \n",
       "code                                           \n",
       "AC120        no     209.0     280.0        no  \n",
       "AC137        no     252.0     270.0        no  \n",
       "AD101       yes       0.0       0.0       yes  \n",
       "AD102       yes       0.0       0.0       yes  \n",
       "AD103       yes       0.0       0.0       yes  "
      ]
     },
     "execution_count": 58,
     "metadata": {},
     "output_type": "execute_result"
    }
   ],
   "source": [
    "#2020 points\n",
    "df2020_points = df2020[['code','EOS','Mid','test']]\n",
    "df2020_points.columns = ['code','EOS_2020','Mid_2020','test_2020']\n",
    "\n",
    "# Set index to code for 2020\n",
    "df2020_points.set_index('code', inplace=True)\n",
    "\n",
    "# Join 2020 points to allcourses\n",
    "allcourses = allcourses.join(df2020_points)\n",
    "allcourses.head()"
   ]
  },
  {
   "cell_type": "markdown",
   "id": "3d797965-3681-4faf-9d40-da9cc4368619",
   "metadata": {},
   "source": [
    "#### 2019"
   ]
  },
  {
   "cell_type": "code",
   "execution_count": 59,
   "id": "7f5f8971-009e-48bc-adb2-e04060143986",
   "metadata": {},
   "outputs": [
    {
     "data": {
      "text/html": [
       "<div>\n",
       "<style scoped>\n",
       "    .dataframe tbody tr th:only-of-type {\n",
       "        vertical-align: middle;\n",
       "    }\n",
       "\n",
       "    .dataframe tbody tr th {\n",
       "        vertical-align: top;\n",
       "    }\n",
       "\n",
       "    .dataframe thead th {\n",
       "        text-align: right;\n",
       "    }\n",
       "</style>\n",
       "<table border=\"1\" class=\"dataframe\">\n",
       "  <thead>\n",
       "    <tr style=\"text-align: right;\">\n",
       "      <th></th>\n",
       "      <th>course name</th>\n",
       "      <th>EOS_2021</th>\n",
       "      <th>Mid_2021</th>\n",
       "      <th>test_2021</th>\n",
       "      <th>EOS_2020</th>\n",
       "      <th>Mid_2020</th>\n",
       "      <th>test_2020</th>\n",
       "      <th>EOS_2019</th>\n",
       "      <th>Mid_2019</th>\n",
       "      <th>test_2019</th>\n",
       "    </tr>\n",
       "    <tr>\n",
       "      <th>code</th>\n",
       "      <th></th>\n",
       "      <th></th>\n",
       "      <th></th>\n",
       "      <th></th>\n",
       "      <th></th>\n",
       "      <th></th>\n",
       "      <th></th>\n",
       "      <th></th>\n",
       "      <th></th>\n",
       "      <th></th>\n",
       "    </tr>\n",
       "  </thead>\n",
       "  <tbody>\n",
       "    <tr>\n",
       "      <th>AC120</th>\n",
       "      <td>International Business</td>\n",
       "      <td>294.0</td>\n",
       "      <td>352.0</td>\n",
       "      <td>no</td>\n",
       "      <td>209.0</td>\n",
       "      <td>280.0</td>\n",
       "      <td>no</td>\n",
       "      <td>234.0</td>\n",
       "      <td>269.0</td>\n",
       "      <td>no</td>\n",
       "    </tr>\n",
       "    <tr>\n",
       "      <th>AC137</th>\n",
       "      <td>Liberal Arts</td>\n",
       "      <td>270.0</td>\n",
       "      <td>334.0</td>\n",
       "      <td>no</td>\n",
       "      <td>252.0</td>\n",
       "      <td>270.0</td>\n",
       "      <td>no</td>\n",
       "      <td>252.0</td>\n",
       "      <td>275.0</td>\n",
       "      <td>no</td>\n",
       "    </tr>\n",
       "    <tr>\n",
       "      <th>AD101</th>\n",
       "      <td>First Year Art &amp; Design (Common Entry,portfolio)</td>\n",
       "      <td>554.0</td>\n",
       "      <td>604.0</td>\n",
       "      <td>yes</td>\n",
       "      <td>0.0</td>\n",
       "      <td>0.0</td>\n",
       "      <td>yes</td>\n",
       "      <td>0.0</td>\n",
       "      <td>550.0</td>\n",
       "      <td>yes</td>\n",
       "    </tr>\n",
       "    <tr>\n",
       "      <th>AD102</th>\n",
       "      <td>Graphic Design and Moving Image Design</td>\n",
       "      <td>538.0</td>\n",
       "      <td>625.0</td>\n",
       "      <td>yes</td>\n",
       "      <td>0.0</td>\n",
       "      <td>0.0</td>\n",
       "      <td>yes</td>\n",
       "      <td>0.0</td>\n",
       "      <td>635.0</td>\n",
       "      <td>yes</td>\n",
       "    </tr>\n",
       "    <tr>\n",
       "      <th>AD103</th>\n",
       "      <td>Textile &amp; Surface Design and Jewellery &amp; Objec...</td>\n",
       "      <td>505.0</td>\n",
       "      <td>581.0</td>\n",
       "      <td>yes</td>\n",
       "      <td>0.0</td>\n",
       "      <td>0.0</td>\n",
       "      <td>yes</td>\n",
       "      <td>0.0</td>\n",
       "      <td>545.0</td>\n",
       "      <td>yes</td>\n",
       "    </tr>\n",
       "  </tbody>\n",
       "</table>\n",
       "</div>"
      ],
      "text/plain": [
       "                                             course name  EOS_2021  Mid_2021  \\\n",
       "code                                                                           \n",
       "AC120                             International Business     294.0     352.0   \n",
       "AC137                                       Liberal Arts     270.0     334.0   \n",
       "AD101   First Year Art & Design (Common Entry,portfolio)     554.0     604.0   \n",
       "AD102             Graphic Design and Moving Image Design     538.0     625.0   \n",
       "AD103  Textile & Surface Design and Jewellery & Objec...     505.0     581.0   \n",
       "\n",
       "      test_2021  EOS_2020  Mid_2020 test_2020  EOS_2019  Mid_2019 test_2019  \n",
       "code                                                                         \n",
       "AC120        no     209.0     280.0        no     234.0     269.0        no  \n",
       "AC137        no     252.0     270.0        no     252.0     275.0        no  \n",
       "AD101       yes       0.0       0.0       yes       0.0     550.0       yes  \n",
       "AD102       yes       0.0       0.0       yes       0.0     635.0       yes  \n",
       "AD103       yes       0.0       0.0       yes       0.0     545.0       yes  "
      ]
     },
     "execution_count": 59,
     "metadata": {},
     "output_type": "execute_result"
    }
   ],
   "source": [
    "#2019 points\n",
    "df2019_points = df2019[['code','EOS','Mid','test']]\n",
    "df2019_points.columns = ['code','EOS_2019','Mid_2019','test_2019']\n",
    "\n",
    "# Set index to code for 2019\n",
    "df2019_points.set_index('code', inplace=True)\n",
    "\n",
    "# Join 2019 points to allcourses\n",
    "allcourses = allcourses.join(df2019_points)\n",
    "allcourses.head()"
   ]
  },
  {
   "cell_type": "markdown",
   "id": "45d04581-b080-4294-99ae-ee8f9a880510",
   "metadata": {},
   "source": [
    "NaN values indicate that the course was not offered that year. For instance, `SG441` has NaN values for all columns except those related to 2019, meaning that the course was only offered in or up to 2019. We decided to keep these NaN values because they are treated as floats by `pandas`, and will not impact on the subsequent analysis."
   ]
  },
  {
   "cell_type": "code",
   "execution_count": 60,
   "id": "49f8969d-7a28-4300-8355-4be6e08fb8c3",
   "metadata": {},
   "outputs": [
    {
     "data": {
      "text/plain": [
       "course name    Environmental Science\n",
       "EOS_2021                         NaN\n",
       "Mid_2021                         NaN\n",
       "test_2021                        NaN\n",
       "EOS_2020                         NaN\n",
       "Mid_2020                         NaN\n",
       "test_2020                        NaN\n",
       "EOS_2019                       297.0\n",
       "Mid_2019                       358.0\n",
       "test_2019                         no\n",
       "Name: SG441, dtype: object"
      ]
     },
     "execution_count": 60,
     "metadata": {},
     "output_type": "execute_result"
    }
   ],
   "source": [
    "allcourses.loc['SG441']"
   ]
  },
  {
   "cell_type": "code",
   "execution_count": 81,
   "id": "0120d2bc-374a-453d-9c40-695018f108e3",
   "metadata": {},
   "outputs": [],
   "source": [
    "#Save consolidated dataframe\n",
    "pathcsvfinal = 'data/consolidated_' + nowstr + '.csv'\n",
    "allcourses.to_csv(pathcsvfinal)"
   ]
  },
  {
   "cell_type": "markdown",
   "id": "609a69b8-5a61-4190-bbde-f6284427077a",
   "metadata": {},
   "source": [
    "## Analysing consolidated dataframe\n",
    "***"
   ]
  },
  {
   "cell_type": "markdown",
   "id": "44a8dc7a-5cf6-4e43-87da-9c1beff46e66",
   "metadata": {},
   "source": [
    "Our consolidated dataframe (`allcourses`) has the points for courses that don't have additional requirements, in which the maximum possible score is 625 point, and those that don't have them, which can have scores higher than 625 due to points earned by portfolio, interview etc. We found it useful, then, to create separate dataframes for each of these. We will focus our analysis here on the courses that don't have additional requirements."
   ]
  },
  {
   "cell_type": "code",
   "execution_count": 63,
   "id": "9cd00906-4fea-424e-937a-d7023dfea37f",
   "metadata": {},
   "outputs": [
    {
     "data": {
      "text/html": [
       "<div>\n",
       "<style scoped>\n",
       "    .dataframe tbody tr th:only-of-type {\n",
       "        vertical-align: middle;\n",
       "    }\n",
       "\n",
       "    .dataframe tbody tr th {\n",
       "        vertical-align: top;\n",
       "    }\n",
       "\n",
       "    .dataframe thead th {\n",
       "        text-align: right;\n",
       "    }\n",
       "</style>\n",
       "<table border=\"1\" class=\"dataframe\">\n",
       "  <thead>\n",
       "    <tr style=\"text-align: right;\">\n",
       "      <th></th>\n",
       "      <th>course name</th>\n",
       "      <th>EOS_2021</th>\n",
       "      <th>Mid_2021</th>\n",
       "      <th>test_2021</th>\n",
       "      <th>EOS_2020</th>\n",
       "      <th>Mid_2020</th>\n",
       "      <th>test_2020</th>\n",
       "      <th>EOS_2019</th>\n",
       "      <th>Mid_2019</th>\n",
       "      <th>test_2019</th>\n",
       "    </tr>\n",
       "    <tr>\n",
       "      <th>code</th>\n",
       "      <th></th>\n",
       "      <th></th>\n",
       "      <th></th>\n",
       "      <th></th>\n",
       "      <th></th>\n",
       "      <th></th>\n",
       "      <th></th>\n",
       "      <th></th>\n",
       "      <th></th>\n",
       "      <th></th>\n",
       "    </tr>\n",
       "  </thead>\n",
       "  <tbody>\n",
       "    <tr>\n",
       "      <th>AC120</th>\n",
       "      <td>International Business</td>\n",
       "      <td>294.0</td>\n",
       "      <td>352.0</td>\n",
       "      <td>no</td>\n",
       "      <td>209.0</td>\n",
       "      <td>280.0</td>\n",
       "      <td>no</td>\n",
       "      <td>234.0</td>\n",
       "      <td>269.0</td>\n",
       "      <td>no</td>\n",
       "    </tr>\n",
       "    <tr>\n",
       "      <th>AC137</th>\n",
       "      <td>Liberal Arts</td>\n",
       "      <td>270.0</td>\n",
       "      <td>334.0</td>\n",
       "      <td>no</td>\n",
       "      <td>252.0</td>\n",
       "      <td>270.0</td>\n",
       "      <td>no</td>\n",
       "      <td>252.0</td>\n",
       "      <td>275.0</td>\n",
       "      <td>no</td>\n",
       "    </tr>\n",
       "    <tr>\n",
       "      <th>AD215</th>\n",
       "      <td>Visual Culture</td>\n",
       "      <td>300.0</td>\n",
       "      <td>380.0</td>\n",
       "      <td>no</td>\n",
       "      <td>320.0</td>\n",
       "      <td>389.0</td>\n",
       "      <td>no</td>\n",
       "      <td>300.0</td>\n",
       "      <td>338.0</td>\n",
       "      <td>no</td>\n",
       "    </tr>\n",
       "    <tr>\n",
       "      <th>AL801</th>\n",
       "      <td>Software Design with Virtual Reality and Gaming</td>\n",
       "      <td>300.0</td>\n",
       "      <td>359.0</td>\n",
       "      <td>no</td>\n",
       "      <td>303.0</td>\n",
       "      <td>367.0</td>\n",
       "      <td>no</td>\n",
       "      <td>304.0</td>\n",
       "      <td>328.0</td>\n",
       "      <td>no</td>\n",
       "    </tr>\n",
       "    <tr>\n",
       "      <th>AL802</th>\n",
       "      <td>Software Design in Artificial Intelligence for...</td>\n",
       "      <td>313.0</td>\n",
       "      <td>381.0</td>\n",
       "      <td>no</td>\n",
       "      <td>332.0</td>\n",
       "      <td>382.0</td>\n",
       "      <td>no</td>\n",
       "      <td>301.0</td>\n",
       "      <td>306.0</td>\n",
       "      <td>no</td>\n",
       "    </tr>\n",
       "    <tr>\n",
       "      <th>...</th>\n",
       "      <td>...</td>\n",
       "      <td>...</td>\n",
       "      <td>...</td>\n",
       "      <td>...</td>\n",
       "      <td>...</td>\n",
       "      <td>...</td>\n",
       "      <td>...</td>\n",
       "      <td>...</td>\n",
       "      <td>...</td>\n",
       "      <td>...</td>\n",
       "    </tr>\n",
       "    <tr>\n",
       "      <th>WD211</th>\n",
       "      <td>Creative Computing</td>\n",
       "      <td>270.0</td>\n",
       "      <td>392.0</td>\n",
       "      <td>no</td>\n",
       "      <td>271.0</td>\n",
       "      <td>318.0</td>\n",
       "      <td>no</td>\n",
       "      <td>275.0</td>\n",
       "      <td>322.0</td>\n",
       "      <td>no</td>\n",
       "    </tr>\n",
       "    <tr>\n",
       "      <th>WD212</th>\n",
       "      <td>Recreation and Sport Management</td>\n",
       "      <td>262.0</td>\n",
       "      <td>304.0</td>\n",
       "      <td>no</td>\n",
       "      <td>270.0</td>\n",
       "      <td>349.0</td>\n",
       "      <td>no</td>\n",
       "      <td>274.0</td>\n",
       "      <td>311.0</td>\n",
       "      <td>no</td>\n",
       "    </tr>\n",
       "    <tr>\n",
       "      <th>WD230</th>\n",
       "      <td>Mechanical and Manufacturing Engineering</td>\n",
       "      <td>230.0</td>\n",
       "      <td>361.0</td>\n",
       "      <td>no</td>\n",
       "      <td>253.0</td>\n",
       "      <td>369.0</td>\n",
       "      <td>no</td>\n",
       "      <td>273.0</td>\n",
       "      <td>348.0</td>\n",
       "      <td>no</td>\n",
       "    </tr>\n",
       "    <tr>\n",
       "      <th>WD231</th>\n",
       "      <td>Early Childhood Care and Education</td>\n",
       "      <td>266.0</td>\n",
       "      <td>366.0</td>\n",
       "      <td>no</td>\n",
       "      <td>NaN</td>\n",
       "      <td>NaN</td>\n",
       "      <td>NaN</td>\n",
       "      <td>NaN</td>\n",
       "      <td>NaN</td>\n",
       "      <td>NaN</td>\n",
       "    </tr>\n",
       "    <tr>\n",
       "      <th>WD232</th>\n",
       "      <td>Business Information Systems</td>\n",
       "      <td>261.0</td>\n",
       "      <td>329.0</td>\n",
       "      <td>no</td>\n",
       "      <td>NaN</td>\n",
       "      <td>NaN</td>\n",
       "      <td>NaN</td>\n",
       "      <td>NaN</td>\n",
       "      <td>NaN</td>\n",
       "      <td>NaN</td>\n",
       "    </tr>\n",
       "  </tbody>\n",
       "</table>\n",
       "<p>1109 rows × 10 columns</p>\n",
       "</div>"
      ],
      "text/plain": [
       "                                             course name  EOS_2021  Mid_2021  \\\n",
       "code                                                                           \n",
       "AC120                             International Business     294.0     352.0   \n",
       "AC137                                       Liberal Arts     270.0     334.0   \n",
       "AD215                                     Visual Culture     300.0     380.0   \n",
       "AL801    Software Design with Virtual Reality and Gaming     300.0     359.0   \n",
       "AL802  Software Design in Artificial Intelligence for...     313.0     381.0   \n",
       "...                                                  ...       ...       ...   \n",
       "WD211                                 Creative Computing     270.0     392.0   \n",
       "WD212                    Recreation and Sport Management     262.0     304.0   \n",
       "WD230           Mechanical and Manufacturing Engineering     230.0     361.0   \n",
       "WD231                 Early Childhood Care and Education     266.0     366.0   \n",
       "WD232                       Business Information Systems     261.0     329.0   \n",
       "\n",
       "      test_2021  EOS_2020  Mid_2020 test_2020  EOS_2019  Mid_2019 test_2019  \n",
       "code                                                                         \n",
       "AC120        no     209.0     280.0        no     234.0     269.0        no  \n",
       "AC137        no     252.0     270.0        no     252.0     275.0        no  \n",
       "AD215        no     320.0     389.0        no     300.0     338.0        no  \n",
       "AL801        no     303.0     367.0        no     304.0     328.0        no  \n",
       "AL802        no     332.0     382.0        no     301.0     306.0        no  \n",
       "...         ...       ...       ...       ...       ...       ...       ...  \n",
       "WD211        no     271.0     318.0        no     275.0     322.0        no  \n",
       "WD212        no     270.0     349.0        no     274.0     311.0        no  \n",
       "WD230        no     253.0     369.0        no     273.0     348.0        no  \n",
       "WD231        no       NaN       NaN       NaN       NaN       NaN       NaN  \n",
       "WD232        no       NaN       NaN       NaN       NaN       NaN       NaN  \n",
       "\n",
       "[1109 rows x 10 columns]"
      ]
     },
     "execution_count": 63,
     "metadata": {},
     "output_type": "execute_result"
    }
   ],
   "source": [
    "#Select only courses without additional requirements\n",
    "allcourses_notest = allcourses.loc[(allcourses['test_2021']!='yes') & (allcourses['test_2020']!='yes') & (allcourses['test_2019']!='yes')]\n",
    "allcourses_notest"
   ]
  },
  {
   "cell_type": "code",
   "execution_count": 62,
   "id": "c15bdbfa-c28c-412a-ad1c-429453e9fc83",
   "metadata": {},
   "outputs": [
    {
     "data": {
      "text/html": [
       "<div>\n",
       "<style scoped>\n",
       "    .dataframe tbody tr th:only-of-type {\n",
       "        vertical-align: middle;\n",
       "    }\n",
       "\n",
       "    .dataframe tbody tr th {\n",
       "        vertical-align: top;\n",
       "    }\n",
       "\n",
       "    .dataframe thead th {\n",
       "        text-align: right;\n",
       "    }\n",
       "</style>\n",
       "<table border=\"1\" class=\"dataframe\">\n",
       "  <thead>\n",
       "    <tr style=\"text-align: right;\">\n",
       "      <th></th>\n",
       "      <th>course name</th>\n",
       "      <th>EOS_2021</th>\n",
       "      <th>Mid_2021</th>\n",
       "      <th>test_2021</th>\n",
       "      <th>EOS_2020</th>\n",
       "      <th>Mid_2020</th>\n",
       "      <th>test_2020</th>\n",
       "      <th>EOS_2019</th>\n",
       "      <th>Mid_2019</th>\n",
       "      <th>test_2019</th>\n",
       "    </tr>\n",
       "    <tr>\n",
       "      <th>code</th>\n",
       "      <th></th>\n",
       "      <th></th>\n",
       "      <th></th>\n",
       "      <th></th>\n",
       "      <th></th>\n",
       "      <th></th>\n",
       "      <th></th>\n",
       "      <th></th>\n",
       "      <th></th>\n",
       "      <th></th>\n",
       "    </tr>\n",
       "  </thead>\n",
       "  <tbody>\n",
       "    <tr>\n",
       "      <th>AD101</th>\n",
       "      <td>First Year Art &amp; Design (Common Entry,portfolio)</td>\n",
       "      <td>554.0</td>\n",
       "      <td>604.0</td>\n",
       "      <td>yes</td>\n",
       "      <td>0.0</td>\n",
       "      <td>0.0</td>\n",
       "      <td>yes</td>\n",
       "      <td>0.0</td>\n",
       "      <td>550.0</td>\n",
       "      <td>yes</td>\n",
       "    </tr>\n",
       "    <tr>\n",
       "      <th>AD102</th>\n",
       "      <td>Graphic Design and Moving Image Design</td>\n",
       "      <td>538.0</td>\n",
       "      <td>625.0</td>\n",
       "      <td>yes</td>\n",
       "      <td>0.0</td>\n",
       "      <td>0.0</td>\n",
       "      <td>yes</td>\n",
       "      <td>0.0</td>\n",
       "      <td>635.0</td>\n",
       "      <td>yes</td>\n",
       "    </tr>\n",
       "    <tr>\n",
       "      <th>AD103</th>\n",
       "      <td>Textile &amp; Surface Design and Jewellery &amp; Objec...</td>\n",
       "      <td>505.0</td>\n",
       "      <td>581.0</td>\n",
       "      <td>yes</td>\n",
       "      <td>0.0</td>\n",
       "      <td>0.0</td>\n",
       "      <td>yes</td>\n",
       "      <td>0.0</td>\n",
       "      <td>545.0</td>\n",
       "      <td>yes</td>\n",
       "    </tr>\n",
       "    <tr>\n",
       "      <th>AD202</th>\n",
       "      <td>Education &amp; Design or Fine Art (Second Level T...</td>\n",
       "      <td>591.0</td>\n",
       "      <td>620.0</td>\n",
       "      <td>yes</td>\n",
       "      <td>0.0</td>\n",
       "      <td>0.0</td>\n",
       "      <td>yes</td>\n",
       "      <td>0.0</td>\n",
       "      <td>580.0</td>\n",
       "      <td>yes</td>\n",
       "    </tr>\n",
       "    <tr>\n",
       "      <th>AD204</th>\n",
       "      <td>Fine Art</td>\n",
       "      <td>514.0</td>\n",
       "      <td>583.0</td>\n",
       "      <td>yes</td>\n",
       "      <td>0.0</td>\n",
       "      <td>0.0</td>\n",
       "      <td>yes</td>\n",
       "      <td>0.0</td>\n",
       "      <td>600.0</td>\n",
       "      <td>yes</td>\n",
       "    </tr>\n",
       "    <tr>\n",
       "      <th>...</th>\n",
       "      <td>...</td>\n",
       "      <td>...</td>\n",
       "      <td>...</td>\n",
       "      <td>...</td>\n",
       "      <td>...</td>\n",
       "      <td>...</td>\n",
       "      <td>...</td>\n",
       "      <td>...</td>\n",
       "      <td>...</td>\n",
       "      <td>...</td>\n",
       "    </tr>\n",
       "    <tr>\n",
       "      <th>TR009</th>\n",
       "      <td>Music Education</td>\n",
       "      <td>486.0</td>\n",
       "      <td>530.0</td>\n",
       "      <td>yes</td>\n",
       "      <td>420.0</td>\n",
       "      <td>532.0</td>\n",
       "      <td>yes</td>\n",
       "      <td>430.0</td>\n",
       "      <td>465.0</td>\n",
       "      <td>yes</td>\n",
       "    </tr>\n",
       "    <tr>\n",
       "      <th>TR025</th>\n",
       "      <td>Drama and Theatre Studies</td>\n",
       "      <td>509.0</td>\n",
       "      <td>552.0</td>\n",
       "      <td>yes</td>\n",
       "      <td>530.0</td>\n",
       "      <td>581.0</td>\n",
       "      <td>yes</td>\n",
       "      <td>489.0</td>\n",
       "      <td>531.0</td>\n",
       "      <td>yes</td>\n",
       "    </tr>\n",
       "    <tr>\n",
       "      <th>TR051</th>\n",
       "      <td>Medicine (HPAT required)</td>\n",
       "      <td>743.0</td>\n",
       "      <td>751.0</td>\n",
       "      <td>yes</td>\n",
       "      <td>734.0</td>\n",
       "      <td>745.0</td>\n",
       "      <td>yes</td>\n",
       "      <td>730.0</td>\n",
       "      <td>739.0</td>\n",
       "      <td>yes</td>\n",
       "    </tr>\n",
       "    <tr>\n",
       "      <th>TR093</th>\n",
       "      <td>General Nursing (Adelaide School of Nursing)</td>\n",
       "      <td>473.0</td>\n",
       "      <td>484.0</td>\n",
       "      <td>yes</td>\n",
       "      <td>414.0</td>\n",
       "      <td>441.0</td>\n",
       "      <td>yes</td>\n",
       "      <td>378.0</td>\n",
       "      <td>409.0</td>\n",
       "      <td>yes</td>\n",
       "    </tr>\n",
       "    <tr>\n",
       "      <th>WD027</th>\n",
       "      <td>Music</td>\n",
       "      <td>321.0</td>\n",
       "      <td>437.0</td>\n",
       "      <td>yes</td>\n",
       "      <td>262.0</td>\n",
       "      <td>409.0</td>\n",
       "      <td>yes</td>\n",
       "      <td>290.0</td>\n",
       "      <td>317.0</td>\n",
       "      <td>yes</td>\n",
       "    </tr>\n",
       "  </tbody>\n",
       "</table>\n",
       "<p>72 rows × 10 columns</p>\n",
       "</div>"
      ],
      "text/plain": [
       "                                             course name  EOS_2021  Mid_2021  \\\n",
       "code                                                                           \n",
       "AD101   First Year Art & Design (Common Entry,portfolio)     554.0     604.0   \n",
       "AD102             Graphic Design and Moving Image Design     538.0     625.0   \n",
       "AD103  Textile & Surface Design and Jewellery & Objec...     505.0     581.0   \n",
       "AD202  Education & Design or Fine Art (Second Level T...     591.0     620.0   \n",
       "AD204                                           Fine Art     514.0     583.0   \n",
       "...                                                  ...       ...       ...   \n",
       "TR009                                    Music Education     486.0     530.0   \n",
       "TR025                          Drama and Theatre Studies     509.0     552.0   \n",
       "TR051                           Medicine (HPAT required)     743.0     751.0   \n",
       "TR093       General Nursing (Adelaide School of Nursing)     473.0     484.0   \n",
       "WD027                                              Music     321.0     437.0   \n",
       "\n",
       "      test_2021  EOS_2020  Mid_2020 test_2020  EOS_2019  Mid_2019 test_2019  \n",
       "code                                                                         \n",
       "AD101       yes       0.0       0.0       yes       0.0     550.0       yes  \n",
       "AD102       yes       0.0       0.0       yes       0.0     635.0       yes  \n",
       "AD103       yes       0.0       0.0       yes       0.0     545.0       yes  \n",
       "AD202       yes       0.0       0.0       yes       0.0     580.0       yes  \n",
       "AD204       yes       0.0       0.0       yes       0.0     600.0       yes  \n",
       "...         ...       ...       ...       ...       ...       ...       ...  \n",
       "TR009       yes     420.0     532.0       yes     430.0     465.0       yes  \n",
       "TR025       yes     530.0     581.0       yes     489.0     531.0       yes  \n",
       "TR051       yes     734.0     745.0       yes     730.0     739.0       yes  \n",
       "TR093       yes     414.0     441.0       yes     378.0     409.0       yes  \n",
       "WD027       yes     262.0     409.0       yes     290.0     317.0       yes  \n",
       "\n",
       "[72 rows x 10 columns]"
      ]
     },
     "execution_count": 62,
     "metadata": {},
     "output_type": "execute_result"
    }
   ],
   "source": [
    "#Select only courses with additional requirements\n",
    "allcourses_test = allcourses.loc[(allcourses['test_2021'] =='yes') & (allcourses['test_2020'] =='yes') & (allcourses['test_2019'] =='yes')]\n",
    "allcourses_test"
   ]
  },
  {
   "cell_type": "markdown",
   "id": "96d1f43e-b6ba-4215-b28a-6f6d68b47f98",
   "metadata": {},
   "source": [
    "<br><br>"
   ]
  },
  {
   "cell_type": "markdown",
   "id": "e1524af9-cc22-4e75-8f6e-27c79284605d",
   "metadata": {},
   "source": [
    "### Describing columns"
   ]
  },
  {
   "cell_type": "markdown",
   "id": "e2378f43-be88-4f72-a780-54467a74b162",
   "metadata": {},
   "source": [
    "We can have a sense of the data by using the `pandas` function `DataFrame.describe()`, which returns a description of the dataframe or of a section of it -  in our case, we selected individual columns. With `DataFrame.describe()` we can quickly see the count, mean, standard deviation, min and max values, as well as the quartiles \\[15\\]."
   ]
  },
  {
   "cell_type": "markdown",
   "id": "075ee128-6ef9-4cce-8a06-381691b1f388",
   "metadata": {},
   "source": [
    "#### EOS 2021"
   ]
  },
  {
   "cell_type": "code",
   "execution_count": 66,
   "id": "f26bef6b-a44c-4c7a-82b0-ab743313c8f5",
   "metadata": {},
   "outputs": [
    {
     "data": {
      "text/plain": [
       "count    932.000000\n",
       "mean     394.095494\n",
       "std      127.217062\n",
       "min        0.000000\n",
       "25%      300.000000\n",
       "50%      388.500000\n",
       "75%      498.000000\n",
       "max      966.000000\n",
       "Name: EOS_2021, dtype: float64"
      ]
     },
     "execution_count": 66,
     "metadata": {},
     "output_type": "execute_result"
    }
   ],
   "source": [
    "allcourses_notest['EOS_2021'].describe()"
   ]
  },
  {
   "cell_type": "markdown",
   "id": "805a66c6-ecd7-41c3-a6aa-80051eed6020",
   "metadata": {},
   "source": [
    "#### EOS 2020"
   ]
  },
  {
   "cell_type": "code",
   "execution_count": 67,
   "id": "c5c67d2b-2617-440c-87d5-66e79559e42e",
   "metadata": {},
   "outputs": [
    {
     "data": {
      "text/plain": [
       "count    917.000000\n",
       "mean     370.679389\n",
       "std      106.457762\n",
       "min        0.000000\n",
       "25%      298.000000\n",
       "50%      352.000000\n",
       "75%      454.000000\n",
       "max      613.000000\n",
       "Name: EOS_2020, dtype: float64"
      ]
     },
     "execution_count": 67,
     "metadata": {},
     "output_type": "execute_result"
    }
   ],
   "source": [
    "allcourses_notest['EOS_2020'].describe()"
   ]
  },
  {
   "cell_type": "markdown",
   "id": "868d4cee-3de9-4a6e-ac9e-d2b59508cc7e",
   "metadata": {},
   "source": [
    "#### EOS 2019"
   ]
  },
  {
   "cell_type": "code",
   "execution_count": 68,
   "id": "5a59294a-9f45-4e02-bf01-38c105e033c5",
   "metadata": {},
   "outputs": [
    {
     "data": {
      "text/plain": [
       "count    828.000000\n",
       "mean     357.559179\n",
       "std       91.465656\n",
       "min      168.000000\n",
       "25%      288.000000\n",
       "50%      338.500000\n",
       "75%      423.250000\n",
       "max      601.000000\n",
       "Name: EOS_2019, dtype: float64"
      ]
     },
     "execution_count": 68,
     "metadata": {},
     "output_type": "execute_result"
    }
   ],
   "source": [
    "allcourses_notest['EOS_2019'].describe()"
   ]
  },
  {
   "cell_type": "markdown",
   "id": "65fdc138-2191-42b7-bcc4-aba5137f2787",
   "metadata": {},
   "source": [
    "#### Mid 2021"
   ]
  },
  {
   "cell_type": "code",
   "execution_count": 69,
   "id": "f3646dc8-5e1a-41d5-b008-e9d1cf34f6d0",
   "metadata": {},
   "outputs": [
    {
     "data": {
      "text/plain": [
       "count    932.000000\n",
       "mean     445.225322\n",
       "std      107.758645\n",
       "min        0.000000\n",
       "25%      375.750000\n",
       "50%      444.000000\n",
       "75%      531.000000\n",
       "max      625.000000\n",
       "Name: Mid_2021, dtype: float64"
      ]
     },
     "execution_count": 69,
     "metadata": {},
     "output_type": "execute_result"
    }
   ],
   "source": [
    "allcourses_notest['Mid_2021'].describe()"
   ]
  },
  {
   "cell_type": "markdown",
   "id": "b27eb120-df06-4bd0-b944-b929a839252a",
   "metadata": {},
   "source": [
    "#### Mid 2020"
   ]
  },
  {
   "cell_type": "code",
   "execution_count": 70,
   "id": "e1819ebc-725f-4c14-981d-5de77b245eef",
   "metadata": {},
   "outputs": [
    {
     "data": {
      "text/plain": [
       "count    917.000000\n",
       "mean     422.950927\n",
       "std       96.431939\n",
       "min        0.000000\n",
       "25%      358.000000\n",
       "50%      413.000000\n",
       "75%      495.000000\n",
       "max      625.000000\n",
       "Name: Mid_2020, dtype: float64"
      ]
     },
     "execution_count": 70,
     "metadata": {},
     "output_type": "execute_result"
    }
   ],
   "source": [
    "allcourses_notest['Mid_2020'].describe()"
   ]
  },
  {
   "cell_type": "markdown",
   "id": "cdb4687a-ed39-4865-bb15-2aadcf6b67c5",
   "metadata": {},
   "source": [
    "#### Mid 2019"
   ]
  },
  {
   "cell_type": "code",
   "execution_count": 71,
   "id": "08127323-9619-48ff-aa62-0cf2674fced2",
   "metadata": {},
   "outputs": [
    {
     "data": {
      "text/plain": [
       "count    831.000000\n",
       "mean     400.966306\n",
       "std       84.497060\n",
       "min        0.000000\n",
       "25%      337.000000\n",
       "50%      388.000000\n",
       "75%      465.000000\n",
       "max      613.000000\n",
       "Name: Mid_2019, dtype: float64"
      ]
     },
     "execution_count": 71,
     "metadata": {},
     "output_type": "execute_result"
    }
   ],
   "source": [
    "allcourses_notest['Mid_2019'].describe()"
   ]
  },
  {
   "cell_type": "markdown",
   "id": "12749121-eee3-4726-ba03-b30995df6321",
   "metadata": {},
   "source": [
    "<br><br>"
   ]
  },
  {
   "cell_type": "markdown",
   "id": "83ced306-e432-4857-8224-dcc9df89d3d0",
   "metadata": {},
   "source": [
    "### Getting higher scores \\[16\\]"
   ]
  },
  {
   "cell_type": "markdown",
   "id": "ae86c8ee-6d54-404e-ab29-a7465d068143",
   "metadata": {},
   "source": [
    "#### EOS points"
   ]
  },
  {
   "cell_type": "code",
   "execution_count": 91,
   "id": "eb00be71-2cd5-40dd-961b-6d0a339fc8ce",
   "metadata": {},
   "outputs": [
    {
     "name": "stdout",
     "output_type": "stream",
     "text": [
      "These are the top 20 EOS for 2021: \n",
      " code\n",
      "TR664    966.0\n",
      "TR198    954.0\n",
      "TR565    949.0\n",
      "CK702    625.0\n",
      "DN670    625.0\n",
      "TR034    625.0\n",
      "TR052    625.0\n",
      "TR580    625.0\n",
      "TR581    625.0\n",
      "TR582    625.0\n",
      "TR599    625.0\n",
      "CK703    613.0\n",
      "DC116    613.0\n",
      "DN230    613.0\n",
      "DN440    613.0\n",
      "GY303    613.0\n",
      "TR015    613.0\n",
      "TR072    613.0\n",
      "TR080    613.0\n",
      "TR207    613.0\n",
      "Name: EOS_2021, dtype: float64\n",
      "\n",
      "These are the top 20 EOS for 2020: \n",
      " code\n",
      "CK702    613.0\n",
      "DN670    613.0\n",
      "TR034    613.0\n",
      "TR052    613.0\n",
      "TR017    602.0\n",
      "DN230    601.0\n",
      "TR020    601.0\n",
      "TR072    590.0\n",
      "CK703    589.0\n",
      "DN440    589.0\n",
      "LM100    589.0\n",
      "TR015    589.0\n",
      "TR080    589.0\n",
      "MI008    588.0\n",
      "DC116    579.0\n",
      "RC005    578.0\n",
      "TU870    578.0\n",
      "MI004    577.0\n",
      "DN420    568.0\n",
      "RC004    566.0\n",
      "Name: EOS_2020, dtype: float64\n",
      "\n",
      "These are the top 20 EOS for 2019: \n",
      " code\n",
      "DN670    601.0\n",
      "CK702    590.0\n",
      "TR052    590.0\n",
      "TR034    589.0\n",
      "DC116    578.0\n",
      "CK703    577.0\n",
      "DN230    577.0\n",
      "TR017    576.0\n",
      "TR020    567.0\n",
      "DC119    566.0\n",
      "TR015    566.0\n",
      "TR031    566.0\n",
      "DN440    565.0\n",
      "LM100    565.0\n",
      "TR080    565.0\n",
      "RC005    555.0\n",
      "TR006    555.0\n",
      "TR072    555.0\n",
      "TR035    554.0\n",
      "DT223    553.0\n",
      "Name: EOS_2019, dtype: float64\n"
     ]
    }
   ],
   "source": [
    "#Top 20 EOS for 2021\n",
    "top_eos2021 = allcourses_notest['EOS_2021'].nlargest(20)\n",
    "print(f'These are the top 20 EOS for 2021: \\n {top_eos2021}')\n",
    "\n",
    "#Top 20 EOS for 2020\n",
    "top_eos2020 = allcourses_notest['EOS_2020'].nlargest(20)\n",
    "print(f'\\nThese are the top 20 EOS for 2020: \\n {top_eos2020}')\n",
    "\n",
    "#Top 20 EOS for 2019\n",
    "top_eos2019 = allcourses_notest['EOS_2019'].nlargest(20)\n",
    "print(f'\\nThese are the top 20 EOS for 2019: \\n {top_eos2019}')"
   ]
  },
  {
   "cell_type": "markdown",
   "id": "cba18c09-3ded-49ed-8800-1b361605a699",
   "metadata": {},
   "source": [
    "#### Mid points"
   ]
  },
  {
   "cell_type": "code",
   "execution_count": 92,
   "id": "02904a55-901b-4ed8-8ff6-7570736a3894",
   "metadata": {},
   "outputs": [
    {
     "name": "stdout",
     "output_type": "stream",
     "text": [
      "These are the top 20 Mid for 2021: \n",
      " code\n",
      "CK702    625.0\n",
      "CK703    625.0\n",
      "DC116    625.0\n",
      "DN230    625.0\n",
      "DN670    625.0\n",
      "TR015    625.0\n",
      "TR034    625.0\n",
      "TR052    625.0\n",
      "TR072    625.0\n",
      "TR080    625.0\n",
      "TR117    625.0\n",
      "TR202    625.0\n",
      "TR207    625.0\n",
      "TR580    625.0\n",
      "TR581    625.0\n",
      "TR582    625.0\n",
      "TR599    625.0\n",
      "DN440    618.0\n",
      "DN420    613.0\n",
      "GY303    613.0\n",
      "Name: Mid_2021, dtype: float64\n",
      "\n",
      "These are the top 20 Mid for 2020: \n",
      " code\n",
      "DN670    625.0\n",
      "TR034    625.0\n",
      "TR052    625.0\n",
      "TR325    625.0\n",
      "TR597    625.0\n",
      "CK702    613.0\n",
      "DN230    613.0\n",
      "TR017    613.0\n",
      "TR020    613.0\n",
      "TR072    613.0\n",
      "TR639    613.0\n",
      "CK703    602.0\n",
      "CK407    601.0\n",
      "DC116    601.0\n",
      "DN440    601.0\n",
      "LM100    601.0\n",
      "MI008    601.0\n",
      "TR015    601.0\n",
      "TR035    601.0\n",
      "TR080    601.0\n",
      "Name: Mid_2020, dtype: float64\n",
      "\n",
      "These are the top 20 Mid for 2019: \n",
      " code\n",
      "DN670    601.0\n",
      "CK702    590.0\n",
      "TR052    590.0\n",
      "TR034    589.0\n",
      "DC116    578.0\n",
      "CK703    577.0\n",
      "DN230    577.0\n",
      "TR017    576.0\n",
      "TR020    567.0\n",
      "DC119    566.0\n",
      "TR015    566.0\n",
      "TR031    566.0\n",
      "DN440    565.0\n",
      "LM100    565.0\n",
      "TR080    565.0\n",
      "RC005    555.0\n",
      "TR006    555.0\n",
      "TR072    555.0\n",
      "TR035    554.0\n",
      "DT223    553.0\n",
      "Name: EOS_2019, dtype: float64\n"
     ]
    }
   ],
   "source": [
    "#Top 20 Mid for 2021\n",
    "top_mid2021 = allcourses_notest['Mid_2021'].nlargest(20)\n",
    "print(f'These are the top 20 Mid for 2021: \\n {top_mid2021}')\n",
    "\n",
    "#Top 20 Mid for 2020\n",
    "top_mid2020 = allcourses_notest['Mid_2020'].nlargest(20)\n",
    "print(f'\\nThese are the top 20 Mid for 2020: \\n {top_mid2020}')\n",
    "\n",
    "#Top 20 Mid for 2019\n",
    "top_mid2019 = allcourses_notest['Mid_2019'].nlargest(20)\n",
    "print(f'\\nThese are the top 20 Mid for 2019: \\n {top_eos2019}')"
   ]
  },
  {
   "cell_type": "markdown",
   "id": "2ea1d84d-13d4-4e1e-87cc-97de68e1d4e5",
   "metadata": {},
   "source": [
    "<br>"
   ]
  },
  {
   "cell_type": "markdown",
   "id": "47588253-49da-4ce9-912c-02e4c089076d",
   "metadata": {},
   "source": [
    "Scores above 600 are considered very high, so it might be worth checking how this has evolved in these 3 years - i.e. how many courses had an entry score of at least 600 \\[17\\]."
   ]
  },
  {
   "cell_type": "code",
   "execution_count": 85,
   "id": "ab0f72c5-4ddf-4a84-90cf-6d2ac8b014da",
   "metadata": {},
   "outputs": [
    {
     "name": "stdout",
     "output_type": "stream",
     "text": [
      "34 courses had an entry score above 600 in 2021, 7 in 2020, and 1 in 2019.\n"
     ]
    }
   ],
   "source": [
    "above600_2021 = allcourses_notest[allcourses_notest['EOS_2021'] >= 600.0]['course name'].count()\n",
    "\n",
    "above600_2020 = allcourses_notest[allcourses_notest['EOS_2020'] >= 600.0]['course name'].count()\n",
    "\n",
    "above600_2019 = allcourses_notest[allcourses_notest['EOS_2019'] >= 600.0]['course name'].count()\n",
    "\n",
    "print(f'{above600_2021} courses had an entry score above 600 in 2021, {above600_2020} in 2020, and {above600_2019} in 2019.')"
   ]
  },
  {
   "cell_type": "markdown",
   "id": "16e23c91-94d9-4e85-af6b-ae8994ac7288",
   "metadata": {},
   "source": [
    "<br>"
   ]
  },
  {
   "cell_type": "markdown",
   "id": "679aefbf-8648-4cbb-aad4-b36aaab7169b",
   "metadata": {},
   "source": [
    "It is also worth checking how many courses, if any, had an entry score of 625 (the maximum possible score) each year."
   ]
  },
  {
   "cell_type": "code",
   "execution_count": 84,
   "id": "2d7a6db1-d859-4c69-8c1e-4154ba6fe008",
   "metadata": {},
   "outputs": [
    {
     "name": "stdout",
     "output_type": "stream",
     "text": [
      "8 courses had an entry score of 625 in 2021, 0 in 2020, and 0 in 2019.\n"
     ]
    }
   ],
   "source": [
    "max625_2021 = allcourses_notest[allcourses_notest['EOS_2021'] == 625.0]['course name'].count()\n",
    "\n",
    "max625_2020 = allcourses_notest[allcourses_notest['EOS_2020'] == 625.0]['course name'].count()\n",
    "\n",
    "max625_2019 = allcourses_notest[allcourses_notest['EOS_2019'] == 625.0]['course name'].count()\n",
    "\n",
    "print(f'{max625_2021} courses had an entry score of 625 in 2021, {max625_2020} in 2020, and {max625_2019} in 2019.')"
   ]
  },
  {
   "cell_type": "markdown",
   "id": "a0c9ee6c-e18e-405b-b0ba-aef6cd7b8c13",
   "metadata": {},
   "source": [
    "<br><br>"
   ]
  },
  {
   "cell_type": "markdown",
   "id": "cca251e4-84a8-4de2-82a0-7717572742ee",
   "metadata": {},
   "source": [
    "### Plotting"
   ]
  },
  {
   "cell_type": "markdown",
   "id": "c5e9419e-7733-4745-950e-7858d9a8a336",
   "metadata": {},
   "source": [
    "#### EOS distribution"
   ]
  },
  {
   "cell_type": "code",
   "execution_count": 77,
   "id": "7b9a0829-6d3e-408a-8664-3a8eed0be9c7",
   "metadata": {},
   "outputs": [
    {
     "data": {
      "image/png": "[encoded data removed]",
      "text/plain": [
       "<Figure size 1080x360 with 3 Axes>"
      ]
     },
     "metadata": {
      "needs_background": "light"
     },
     "output_type": "display_data"
    }
   ],
   "source": [
    "fig, ([ax1, ax2, ax3]) = plt.subplots(1, 3, figsize=(15, 5))\n",
    "\n",
    "ax1.set_title('EOS 2021')\n",
    "ax2.set_title('EOS 2020')\n",
    "ax3.set_title('EOS 2019')\n",
    "\n",
    "ax1.hist(allcourses_notest['EOS_2021'])\n",
    "ax2.hist(allcourses_notest['EOS_2020'])\n",
    "ax3.hist(allcourses_notest['EOS_2019'])\n",
    "\n",
    "plt.show()"
   ]
  },
  {
   "cell_type": "markdown",
   "id": "197f2fd2-5d71-4da7-84a8-e132529ce316",
   "metadata": {},
   "source": [
    "<br>"
   ]
  },
  {
   "cell_type": "markdown",
   "id": "a53e82aa-bb6a-4548-b42c-4c670c08c285",
   "metadata": {},
   "source": [
    "#### Mid distribution"
   ]
  },
  {
   "cell_type": "code",
   "execution_count": 86,
   "id": "dbbecb23-8a4f-4e92-b300-0de3fb531bad",
   "metadata": {},
   "outputs": [
    {
     "data": {
      "image/png": "[encoded data removed]",
      "text/plain": [
       "<Figure size 1080x360 with 3 Axes>"
      ]
     },
     "metadata": {
      "needs_background": "light"
     },
     "output_type": "display_data"
    }
   ],
   "source": [
    "fig, ([ax1, ax2, ax3]) = plt.subplots(1, 3, figsize=(15, 5))\n",
    "\n",
    "ax1.set_title('Mid 2021')\n",
    "ax2.set_title('Mid 2020')\n",
    "ax3.set_title('Mid 2019')\n",
    "\n",
    "ax1.hist(allcourses_notest['Mid_2021'])\n",
    "ax2.hist(allcourses_notest['Mid_2020'])\n",
    "ax3.hist(allcourses_notest['Mid_2019'])\n",
    "\n",
    "plt.show()"
   ]
  },
  {
   "cell_type": "markdown",
   "id": "39738276-0dd8-468d-b09d-9bee9a59bc78",
   "metadata": {},
   "source": [
    "<br>"
   ]
  },
  {
   "cell_type": "markdown",
   "id": "3e511dad-31f3-4735-9c7a-4be447d9c138",
   "metadata": {},
   "source": [
    "#### EOS above 600"
   ]
  },
  {
   "cell_type": "code",
   "execution_count": 82,
   "id": "c6080c58-e702-46ad-bf94-e1980b32ba3e",
   "metadata": {},
   "outputs": [
    {
     "data": {
      "image/png": "[encoded data removed]",
      "text/plain": [
       "<Figure size 432x288 with 1 Axes>"
      ]
     },
     "metadata": {
      "needs_background": "light"
     },
     "output_type": "display_data"
    }
   ],
   "source": [
    "x=np.array(['2019','2020','2021'])\n",
    "y=np.array([above600_2019,above600_2020,above600_2021])\n",
    "\n",
    "plt.title('Minimum entry score above 600')\n",
    "plt.bar(x,y, width=0.8)\n",
    "\n",
    "plt.show()"
   ]
  },
  {
   "cell_type": "markdown",
   "id": "d7073bed-dcd7-4a08-803c-02910c3ba59d",
   "metadata": {},
   "source": [
    "<br><br>"
   ]
  },
  {
   "cell_type": "markdown",
   "id": "17fb4468-2a9d-4fc9-825f-1131dbad8abe",
   "metadata": {},
   "source": [
    "## References\n",
    "\n",
    "***\n",
    "[1]: Reilly, G. (2013). Explainer: A beginner’s guide to the CAO Points system. *The Journal*. https://www.thejournal.ie/cao-points-system-explained-563406-Aug2013/. Access on 1 Jan, 2022.\n",
    "\n",
    "[2]: pandas.DataFrame (n.d.). *Pandas Official Documentation*. https://pandas.pydata.org/docs/reference/api/pandas.DataFrame.html. Access on 2 Jan, 2022.\n",
    "\n",
    "[3]: 10 minutes to pandas (n.d.). *Pandas Official Documentation*. https://pandas.pydata.org/pandas-docs/stable/user_guide/10min.html. Access on 2 Jan, 2022.\n",
    "\n",
    "[4]: How to replace text in a string column of a Pandas dataframe? (2015). *StackOverflow*. https://stackoverflow.com/questions/28986489/how-to-replace-text-in-a-column-of-a-pandas-dataframe. Access on 2 Jan, 2022.\n",
    "\n",
    "[5]: pandas.DataFrame.fillna (n.d.). *Pandas Official Documentation*. https://pandas.pydata.org/docs/reference/api/pandas.DataFrame.fillna.html. Access on 2 Jan, 2022.\n",
    "\n",
    "[6]: pandas.DataFrame.dtypes (n.d.). *Pandas Official Documentation*. https://pandas.pydata.org/docs/reference/api/pandas.DataFrame.dtypes.html. Access on 2 Jan, 2022.\n",
    "\n",
    "[7]: pandas.DataFrame.replace (n.d.). *Pandas Official Documentation*. https://pandas.pydata.org/pandas-docs/stable/reference/api/pandas.DataFrame.replace.html. Access on 2 Jan, 2022.\n",
    "\n",
    "[8]: Replace NaN Values with Zeros in Pandas DataFrame (2021). *Data to Fish*. https://datatofish.com/replace-nan-values-with-zeros/. Access on 2 Jan, 2022.\n",
    "\n",
    "[9]: Missing data (n.d.). *Pandas Official Documentation*. https://pandas.pydata.org/pandas-docs/stable/user_guide/missing_data.html. Access on 2 Jan, 2022.\n",
    "\n",
    "[10]: pandas.DataFrame.astype (n.d.). *Pandas Official Documentation*. https://pandas.pydata.org/docs/reference/api/pandas.DataFrame.astype.html. Access on 2 Jan, 2022.\n",
    "\n",
    "[11]: How to change the data type of columns in a Pandas DataFrame in Python (n.d.). *Kite*. https://www.kite.com/python/answers/how-to-change-the-data-type-of-columns-in-a-pandas-dataframe-in-python. Access on 2 Jan, 2022.\n",
    "\n",
    "[12]: What is dtype('O'), in pandas? (2016). *StackOverflow*. https://stackoverflow.com/questions/37561991/what-is-dtypeo-in-pandas. Access on 2 Jan, 2022.\n",
    "\n",
    "[13]: Indexing and selecting data (n.d.). *Pandas Official Documentation*. https://pandas.pydata.org/pandas-docs/stable/user_guide/indexing.html?highlight=query%20method. Access on 2 Jan, 2022.\n",
    "\n",
    "[14]: Myrianthous,G. (2021). How To Delete Rows From Pandas DataFrames Based on Column Values. *Towards Data Science*. https://towardsdatascience.com/delete-row-from-pandas-dataframes-based-on-column-value-4b18bb1eb602. Access on 2 Jan, 2022.\n",
    "\n",
    "[15]: pandas.DataFrame.describe (n.d.). *Pandas Official Documentation*. https://pandas.pydata.org/docs/reference/api/pandas.DataFrame.describe.html. Access on 2 Jan, 2022.\n",
    "\n",
    "[16]: pandas.DataFrame.nlargest (n.d.). *Pandas Official Documentation*.https://pandas.pydata.org/docs/reference/api/pandas.DataFrame.nlargest.html. Access on 2 Jan, 2022.\n",
    "\n",
    "[17]: O'Brien, C. (2021). Record-breaking grades and high demand see significant rise in CAO points requirements. *Irish Times*. https://www.irishtimes.com/news/education/record-breaking-grades-and-high-demand-see-significant-rise-in-cao-points-requirements-1.4667346. Access on 2 Jan, 2022."
   ]
  },
  {
   "cell_type": "markdown",
   "id": "9c77f47b-cd66-484e-84e3-77f01f04a0e1",
   "metadata": {},
   "source": [
    "***\n",
    "\n",
    "## End of notebook"
   ]
  }
 ],
 "metadata": {
  "kernelspec": {
   "display_name": "Python 3",
   "language": "python",
   "name": "python3"
  },
  "language_info": {
   "codemirror_mode": {
    "name": "ipython",
    "version": 3
   },
   "file_extension": ".py",
   "mimetype": "text/x-python",
   "name": "python",
   "nbconvert_exporter": "python",
   "pygments_lexer": "ipython3",
   "version": "3.8.8"
  }
 },
 "nbformat": 4,
 "nbformat_minor": 5
}
