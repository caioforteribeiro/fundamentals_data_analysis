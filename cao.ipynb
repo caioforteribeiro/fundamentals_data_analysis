{
 "cells": [
  {
   "cell_type": "markdown",
   "id": "65912bc6-1662-44d1-969d-c7a0e73de98e",
   "metadata": {},
   "source": [
    "# CAO Points Notebook"
   ]
  },
  {
   "cell_type": "markdown",
   "id": "eb7b85a7-7d93-48a4-a2d7-1e22987b7d19",
   "metadata": {},
   "source": [
    "## How to load CAO points into pandas\n",
    "***\n",
    "[CAO website](http://www.cao.ie/)"
   ]
  },
  {
   "cell_type": "markdown",
   "id": "a5dfa889-b8f8-40bd-85e7-4238efeecbc4",
   "metadata": {},
   "source": [
    "PLACEHOLDER CONTENT - ADD EXPLANATION"
   ]
  },
  {
   "cell_type": "markdown",
   "id": "a8252a60-3f71-4b5d-b938-09b0b7c5d6ad",
   "metadata": {},
   "source": [
    "### Importing packages\n",
    "***"
   ]
  },
  {
   "cell_type": "code",
   "execution_count": 1,
   "id": "a7e72fab-6e3f-4cd7-8e01-bf42f7be20e2",
   "metadata": {},
   "outputs": [],
   "source": [
    "#Download Excel spreadsheeet\n",
    "import urllib.request as urlrq\n",
    "\n",
    "#PDF table extraction\n",
    "import camelot\n",
    "\n",
    "#Handle ZIP files\n",
    "import zipfile\n",
    "\n",
    "#Date and time for file names\n",
    "import datetime as dt\n",
    "\n",
    "#Arrays\n",
    "import numpy as np\n",
    "\n",
    "#Dataframes\n",
    "import pandas as pd\n",
    "\n",
    "#Plotting\n",
    "import matplotlib.pyplot as plt\n",
    "\n",
    "#Ignore warnings\n",
    "import warnings\n",
    "warnings.filterwarnings('ignore')"
   ]
  },
  {
   "cell_type": "markdown",
   "id": "06f0fd5d-ef97-4499-b880-cedf655739b7",
   "metadata": {},
   "source": [
    "## Saving and backing-up files\n",
    "***"
   ]
  },
  {
   "cell_type": "code",
   "execution_count": 2,
   "id": "9b9b7673-ccf1-47e5-89ef-7bb788a2b3c2",
   "metadata": {},
   "outputs": [],
   "source": [
    "# Current date and time\n",
    "now = dt.datetime.now()\n",
    "\n",
    "# Format as string\n",
    "nowstr = now.strftime('%Y%m%d_%H%M%S')"
   ]
  },
  {
   "cell_type": "markdown",
   "id": "a8835282-eec7-4d31-9acb-193298041c95",
   "metadata": {},
   "source": [
    "## CAO 2021\n",
    "***"
   ]
  },
  {
   "cell_type": "markdown",
   "id": "f5bcd901-2ef2-4ad5-a52a-01a3ffa6b17a",
   "metadata": {},
   "source": [
    "### Data source\n",
    "http://www.cao.ie/index.php?page=points&p=2021"
   ]
  },
  {
   "cell_type": "code",
   "execution_count": 3,
   "id": "503e692d-2462-4c4c-add7-020eb025b28c",
   "metadata": {},
   "outputs": [],
   "source": [
    "#Original file\n",
    "url2021 = 'http://www2.cao.ie/points/CAOPointsCharts2021.xlsx'"
   ]
  },
  {
   "cell_type": "markdown",
   "id": "74501014-fe0e-4759-8d76-e89aab274cbf",
   "metadata": {},
   "source": [
    "### Save original file"
   ]
  },
  {
   "cell_type": "code",
   "execution_count": 4,
   "id": "b15cc8b1-c6c5-48ca-8d5d-f318acbb7377",
   "metadata": {},
   "outputs": [
    {
     "data": {
      "text/plain": [
       "('data/2021/cao2021_original_20211226_172002.xlsx',\n",
       " <http.client.HTTPMessage at 0x161f9b89130>)"
      ]
     },
     "execution_count": 4,
     "metadata": {},
     "output_type": "execute_result"
    }
   ],
   "source": [
    "# Create a file path for the original data\n",
    "pathxlsx2021 = 'data/2021/cao2021_original_' + nowstr + '.xlsx'\n",
    "\n",
    "urlrq.urlretrieve(url2021, pathxlsx2021)\n"
   ]
  },
  {
   "cell_type": "markdown",
   "id": "8a3bb128-25a2-4e08-a1fd-4f4a8fc963a8",
   "metadata": {},
   "source": [
    "### Load data with pandas"
   ]
  },
  {
   "cell_type": "code",
   "execution_count": 5,
   "id": "9ac2a828-6022-4658-bd7a-f5653df9d682",
   "metadata": {},
   "outputs": [],
   "source": [
    "# Download and parse the excel spreadsheet.\n",
    "df2021 = pd.read_excel(url2021, skiprows=11)"
   ]
  },
  {
   "cell_type": "code",
   "execution_count": 6,
   "id": "295712a2-9ae6-4384-9d96-0fb070c03e9f",
   "metadata": {},
   "outputs": [
    {
     "data": {
      "text/html": [
       "<div>\n",
       "<style scoped>\n",
       "    .dataframe tbody tr th:only-of-type {\n",
       "        vertical-align: middle;\n",
       "    }\n",
       "\n",
       "    .dataframe tbody tr th {\n",
       "        vertical-align: top;\n",
       "    }\n",
       "\n",
       "    .dataframe thead th {\n",
       "        text-align: right;\n",
       "    }\n",
       "</style>\n",
       "<table border=\"1\" class=\"dataframe\">\n",
       "  <thead>\n",
       "    <tr style=\"text-align: right;\">\n",
       "      <th></th>\n",
       "      <th>CATEGORY (ISCED Description)</th>\n",
       "      <th>Course Title</th>\n",
       "      <th>Course Code</th>\n",
       "      <th>R1 Points</th>\n",
       "      <th>R1 Random</th>\n",
       "      <th>R2 Points</th>\n",
       "      <th>R2 Random</th>\n",
       "      <th>EOS Points</th>\n",
       "      <th>EOS Random</th>\n",
       "      <th>EOS Midpoints</th>\n",
       "      <th>Course Level</th>\n",
       "      <th>HEI</th>\n",
       "      <th>Test/Interview</th>\n",
       "      <th>AVP</th>\n",
       "      <th>v</th>\n",
       "    </tr>\n",
       "  </thead>\n",
       "  <tbody>\n",
       "    <tr>\n",
       "      <th>0</th>\n",
       "      <td>Engineering and engineering trades</td>\n",
       "      <td>Music and Instrument Technology</td>\n",
       "      <td>AL605</td>\n",
       "      <td>211</td>\n",
       "      <td>NaN</td>\n",
       "      <td>NaN</td>\n",
       "      <td>NaN</td>\n",
       "      <td>211</td>\n",
       "      <td>NaN</td>\n",
       "      <td>319</td>\n",
       "      <td>6</td>\n",
       "      <td>Athlone Institute of Technology</td>\n",
       "      <td>NaN</td>\n",
       "      <td>NaN</td>\n",
       "      <td>NaN</td>\n",
       "    </tr>\n",
       "    <tr>\n",
       "      <th>1</th>\n",
       "      <td>Health</td>\n",
       "      <td>Pharmacy Technician</td>\n",
       "      <td>AL630</td>\n",
       "      <td>308</td>\n",
       "      <td>NaN</td>\n",
       "      <td>NaN</td>\n",
       "      <td>NaN</td>\n",
       "      <td>308</td>\n",
       "      <td>NaN</td>\n",
       "      <td>409</td>\n",
       "      <td>6</td>\n",
       "      <td>Athlone Institute of Technology</td>\n",
       "      <td>NaN</td>\n",
       "      <td>NaN</td>\n",
       "      <td>NaN</td>\n",
       "    </tr>\n",
       "    <tr>\n",
       "      <th>2</th>\n",
       "      <td>Health</td>\n",
       "      <td>Dental Nursing</td>\n",
       "      <td>AL631</td>\n",
       "      <td>311</td>\n",
       "      <td>NaN</td>\n",
       "      <td>NaN</td>\n",
       "      <td>NaN</td>\n",
       "      <td>311</td>\n",
       "      <td>NaN</td>\n",
       "      <td>400</td>\n",
       "      <td>6</td>\n",
       "      <td>Athlone Institute of Technology</td>\n",
       "      <td>NaN</td>\n",
       "      <td>NaN</td>\n",
       "      <td>NaN</td>\n",
       "    </tr>\n",
       "    <tr>\n",
       "      <th>3</th>\n",
       "      <td>Biological and related sciences</td>\n",
       "      <td>Applied Science</td>\n",
       "      <td>AL632</td>\n",
       "      <td>297</td>\n",
       "      <td>NaN</td>\n",
       "      <td>NaN</td>\n",
       "      <td>NaN</td>\n",
       "      <td>297</td>\n",
       "      <td>NaN</td>\n",
       "      <td>454</td>\n",
       "      <td>6</td>\n",
       "      <td>Athlone Institute of Technology</td>\n",
       "      <td>NaN</td>\n",
       "      <td>NaN</td>\n",
       "      <td>NaN</td>\n",
       "    </tr>\n",
       "    <tr>\n",
       "      <th>4</th>\n",
       "      <td>Business and administration</td>\n",
       "      <td>Business</td>\n",
       "      <td>AL650</td>\n",
       "      <td>AQA</td>\n",
       "      <td>NaN</td>\n",
       "      <td>AQA</td>\n",
       "      <td>NaN</td>\n",
       "      <td>AQA</td>\n",
       "      <td>NaN</td>\n",
       "      <td>351</td>\n",
       "      <td>6</td>\n",
       "      <td>Athlone Institute of Technology</td>\n",
       "      <td>NaN</td>\n",
       "      <td>avp</td>\n",
       "      <td>NaN</td>\n",
       "    </tr>\n",
       "  </tbody>\n",
       "</table>\n",
       "</div>"
      ],
      "text/plain": [
       "         CATEGORY (ISCED Description)                     Course Title  \\\n",
       "0  Engineering and engineering trades  Music and Instrument Technology   \n",
       "1                              Health              Pharmacy Technician   \n",
       "2                              Health                   Dental Nursing   \n",
       "3     Biological and related sciences                  Applied Science   \n",
       "4         Business and administration                         Business   \n",
       "\n",
       "  Course Code R1 Points R1 Random R2 Points  R2 Random EOS Points EOS Random  \\\n",
       "0       AL605       211       NaN        NaN       NaN        211        NaN   \n",
       "1       AL630       308       NaN        NaN       NaN        308        NaN   \n",
       "2       AL631       311       NaN        NaN       NaN        311        NaN   \n",
       "3       AL632       297       NaN        NaN       NaN        297        NaN   \n",
       "4       AL650       AQA       NaN        AQA       NaN        AQA        NaN   \n",
       "\n",
       "  EOS Midpoints  Course Level                              HEI Test/Interview  \\\n",
       "0           319             6  Athlone Institute of Technology            NaN   \n",
       "1           409             6  Athlone Institute of Technology            NaN   \n",
       "2           400             6  Athlone Institute of Technology            NaN   \n",
       "3           454             6  Athlone Institute of Technology            NaN   \n",
       "4           351             6  Athlone Institute of Technology            NaN   \n",
       "\n",
       "   AVP    v  \n",
       "0  NaN  NaN  \n",
       "1  NaN  NaN  \n",
       "2  NaN  NaN  \n",
       "3  NaN  NaN  \n",
       "4  avp  NaN  "
      ]
     },
     "execution_count": 6,
     "metadata": {},
     "output_type": "execute_result"
    }
   ],
   "source": [
    "df2021.head()"
   ]
  },
  {
   "cell_type": "code",
   "execution_count": 7,
   "id": "8a48c72a-b28d-402b-895a-d300c36ab5b8",
   "metadata": {},
   "outputs": [
    {
     "data": {
      "text/plain": [
       "CATEGORY (ISCED Description)                      Arts\n",
       "Course Title                       Economics/Geography\n",
       "Course Code                                      TR198\n",
       "R1 Points                                          968\n",
       "R1 Random                                          NaN\n",
       "R2 Points                                          956\n",
       "R2 Random                                          NaN\n",
       "EOS Points                                         954\n",
       "EOS Random                                         NaN\n",
       "EOS Midpoints                                      NaN\n",
       "Course Level                                         8\n",
       "HEI                             Trinity College Dublin\n",
       "Test/Interview                                     NaN\n",
       "AVP                                                NaN\n",
       "v                                                  NaN\n",
       "Name: 690, dtype: object"
      ]
     },
     "execution_count": 7,
     "metadata": {},
     "output_type": "execute_result"
    }
   ],
   "source": [
    "#Spotcheck\n",
    "#Courses start from line 13 in the original dataset\n",
    "df2021.iloc[690]"
   ]
  },
  {
   "cell_type": "code",
   "execution_count": 8,
   "id": "8e7fcf58-160c-40aa-95c2-3b118b3d1b91",
   "metadata": {},
   "outputs": [
    {
     "data": {
      "text/plain": [
       "CATEGORY (ISCED Description)          Business and administration\n",
       "Course Title                         Business Information Systems\n",
       "Course Code                                                 WD232\n",
       "R1 Points                                                     261\n",
       "R1 Random                                                     NaN\n",
       "R2 Points                                                     261\n",
       "R2 Random                                                     NaN\n",
       "EOS Points                                                    261\n",
       "EOS Random                                                    NaN\n",
       "EOS Midpoints                                                 329\n",
       "Course Level                                                    8\n",
       "HEI                             Waterford Institute of Technology\n",
       "Test/Interview                                                NaN\n",
       "AVP                                                           avp\n",
       "v                                                             NaN\n",
       "Name: 1450, dtype: object"
      ]
     },
     "execution_count": 8,
     "metadata": {},
     "output_type": "execute_result"
    }
   ],
   "source": [
    "#Spotcheck last row\n",
    "df2021.iloc[-1]"
   ]
  },
  {
   "cell_type": "markdown",
   "id": "2b33aa21-a87a-4a5d-b677-d5594e8d29cf",
   "metadata": {},
   "source": [
    "### Cleaning up dataframe"
   ]
  },
  {
   "cell_type": "code",
   "execution_count": 9,
   "id": "131bd8ec-7110-4016-89a7-9dffc485cb95",
   "metadata": {},
   "outputs": [
    {
     "data": {
      "text/html": [
       "<div>\n",
       "<style scoped>\n",
       "    .dataframe tbody tr th:only-of-type {\n",
       "        vertical-align: middle;\n",
       "    }\n",
       "\n",
       "    .dataframe tbody tr th {\n",
       "        vertical-align: top;\n",
       "    }\n",
       "\n",
       "    .dataframe thead th {\n",
       "        text-align: right;\n",
       "    }\n",
       "</style>\n",
       "<table border=\"1\" class=\"dataframe\">\n",
       "  <thead>\n",
       "    <tr style=\"text-align: right;\">\n",
       "      <th></th>\n",
       "      <th>CATEGORY (ISCED Description)</th>\n",
       "      <th>Course Title</th>\n",
       "      <th>Course Code</th>\n",
       "      <th>R1 Points</th>\n",
       "      <th>R1 Random</th>\n",
       "      <th>R2 Points</th>\n",
       "      <th>R2 Random</th>\n",
       "      <th>EOS Points</th>\n",
       "      <th>EOS Random</th>\n",
       "      <th>EOS Midpoints</th>\n",
       "      <th>level</th>\n",
       "      <th>HEI</th>\n",
       "      <th>Test/Interview</th>\n",
       "      <th>AVP</th>\n",
       "      <th>v</th>\n",
       "    </tr>\n",
       "  </thead>\n",
       "  <tbody>\n",
       "    <tr>\n",
       "      <th>29</th>\n",
       "      <td>Information and Communication Technologies (ICTs)</td>\n",
       "      <td>Software Design for Virtual Reality and Gaming</td>\n",
       "      <td>AL801</td>\n",
       "      <td>300</td>\n",
       "      <td>NaN</td>\n",
       "      <td>NaN</td>\n",
       "      <td>NaN</td>\n",
       "      <td>300</td>\n",
       "      <td>NaN</td>\n",
       "      <td>359</td>\n",
       "      <td>8</td>\n",
       "      <td>Athlone Institute of Technology</td>\n",
       "      <td>NaN</td>\n",
       "      <td>NaN</td>\n",
       "      <td>NaN</td>\n",
       "    </tr>\n",
       "    <tr>\n",
       "      <th>30</th>\n",
       "      <td>Information and Communication Technologies (ICTs)</td>\n",
       "      <td>Software Design in Artificial Intelligence for...</td>\n",
       "      <td>AL802</td>\n",
       "      <td>313</td>\n",
       "      <td>NaN</td>\n",
       "      <td>NaN</td>\n",
       "      <td>NaN</td>\n",
       "      <td>313</td>\n",
       "      <td>NaN</td>\n",
       "      <td>381</td>\n",
       "      <td>8</td>\n",
       "      <td>Athlone Institute of Technology</td>\n",
       "      <td>NaN</td>\n",
       "      <td>NaN</td>\n",
       "      <td>NaN</td>\n",
       "    </tr>\n",
       "    <tr>\n",
       "      <th>31</th>\n",
       "      <td>Information and Communication Technologies (ICTs)</td>\n",
       "      <td>Software Design for Mobile Apps and Connected ...</td>\n",
       "      <td>AL803</td>\n",
       "      <td>350</td>\n",
       "      <td>NaN</td>\n",
       "      <td>NaN</td>\n",
       "      <td>NaN</td>\n",
       "      <td>350</td>\n",
       "      <td>NaN</td>\n",
       "      <td>398</td>\n",
       "      <td>8</td>\n",
       "      <td>Athlone Institute of Technology</td>\n",
       "      <td>NaN</td>\n",
       "      <td>NaN</td>\n",
       "      <td>NaN</td>\n",
       "    </tr>\n",
       "    <tr>\n",
       "      <th>32</th>\n",
       "      <td>Information and Communication Technologies (ICTs)</td>\n",
       "      <td>Computer Engineering for Network Infrastructure</td>\n",
       "      <td>AL805</td>\n",
       "      <td>321</td>\n",
       "      <td>NaN</td>\n",
       "      <td>NaN</td>\n",
       "      <td>NaN</td>\n",
       "      <td>321</td>\n",
       "      <td>NaN</td>\n",
       "      <td>381</td>\n",
       "      <td>8</td>\n",
       "      <td>Athlone Institute of Technology</td>\n",
       "      <td>NaN</td>\n",
       "      <td>NaN</td>\n",
       "      <td>NaN</td>\n",
       "    </tr>\n",
       "    <tr>\n",
       "      <th>33</th>\n",
       "      <td>Architecture and construction</td>\n",
       "      <td>Quantity Surveying</td>\n",
       "      <td>AL810</td>\n",
       "      <td>328</td>\n",
       "      <td>NaN</td>\n",
       "      <td>NaN</td>\n",
       "      <td>NaN</td>\n",
       "      <td>328</td>\n",
       "      <td>NaN</td>\n",
       "      <td>377</td>\n",
       "      <td>8</td>\n",
       "      <td>Athlone Institute of Technology</td>\n",
       "      <td>NaN</td>\n",
       "      <td>NaN</td>\n",
       "      <td>NaN</td>\n",
       "    </tr>\n",
       "  </tbody>\n",
       "</table>\n",
       "</div>"
      ],
      "text/plain": [
       "                         CATEGORY (ISCED Description)  \\\n",
       "29  Information and Communication Technologies (ICTs)   \n",
       "30  Information and Communication Technologies (ICTs)   \n",
       "31  Information and Communication Technologies (ICTs)   \n",
       "32  Information and Communication Technologies (ICTs)   \n",
       "33                      Architecture and construction   \n",
       "\n",
       "                                         Course Title Course Code R1 Points  \\\n",
       "29     Software Design for Virtual Reality and Gaming       AL801       300   \n",
       "30  Software Design in Artificial Intelligence for...       AL802       313   \n",
       "31  Software Design for Mobile Apps and Connected ...       AL803       350   \n",
       "32    Computer Engineering for Network Infrastructure       AL805       321   \n",
       "33                                 Quantity Surveying       AL810       328   \n",
       "\n",
       "   R1 Random R2 Points  R2 Random EOS Points EOS Random EOS Midpoints  level  \\\n",
       "29       NaN        NaN       NaN        300        NaN           359      8   \n",
       "30       NaN        NaN       NaN        313        NaN           381      8   \n",
       "31       NaN        NaN       NaN        350        NaN           398      8   \n",
       "32       NaN        NaN       NaN        321        NaN           381      8   \n",
       "33       NaN        NaN       NaN        328        NaN           377      8   \n",
       "\n",
       "                                HEI Test/Interview  AVP    v  \n",
       "29  Athlone Institute of Technology            NaN  NaN  NaN  \n",
       "30  Athlone Institute of Technology            NaN  NaN  NaN  \n",
       "31  Athlone Institute of Technology            NaN  NaN  NaN  \n",
       "32  Athlone Institute of Technology            NaN  NaN  NaN  \n",
       "33  Athlone Institute of Technology            NaN  NaN  NaN  "
      ]
     },
     "execution_count": 9,
     "metadata": {},
     "output_type": "execute_result"
    }
   ],
   "source": [
    "#Remove space from Course Level header\n",
    "df2021_l8 = df2021.rename(columns={'Course Level': 'level'})\n",
    "\n",
    "#Select only level 8 courses\n",
    "df2021_l8 = df2021_l8[df2021_l8.level == 8]\n",
    "df2021_l8.head()"
   ]
  },
  {
   "cell_type": "code",
   "execution_count": 10,
   "id": "f4ce24ba-dfaa-4f54-9909-dcc9df5467f8",
   "metadata": {},
   "outputs": [],
   "source": [
    "#Select only relevant columns and reorder\n",
    "#These are columns common to all 3 years\n",
    "df2021 = df2021_l8[['Course Code','Course Title', 'EOS Points', 'EOS Midpoints', 'Test/Interview']]\n",
    "\n",
    "#Change headers\n",
    "df2021.columns = ['code', 'course name', 'EOS', 'Mid','test']\n",
    "\n",
    "#Replace AQA values with 0\n",
    "df2021 = df2021.replace('AQA',0)"
   ]
  },
  {
   "cell_type": "code",
   "execution_count": 11,
   "id": "56ae0c4c-ae53-4f00-80ba-5b31d9c5d1e7",
   "metadata": {},
   "outputs": [
    {
     "data": {
      "text/html": [
       "<div>\n",
       "<style scoped>\n",
       "    .dataframe tbody tr th:only-of-type {\n",
       "        vertical-align: middle;\n",
       "    }\n",
       "\n",
       "    .dataframe tbody tr th {\n",
       "        vertical-align: top;\n",
       "    }\n",
       "\n",
       "    .dataframe thead th {\n",
       "        text-align: right;\n",
       "    }\n",
       "</style>\n",
       "<table border=\"1\" class=\"dataframe\">\n",
       "  <thead>\n",
       "    <tr style=\"text-align: right;\">\n",
       "      <th></th>\n",
       "      <th>code</th>\n",
       "      <th>course name</th>\n",
       "      <th>EOS</th>\n",
       "      <th>Mid</th>\n",
       "      <th>test</th>\n",
       "    </tr>\n",
       "  </thead>\n",
       "  <tbody>\n",
       "    <tr>\n",
       "      <th>29</th>\n",
       "      <td>AL801</td>\n",
       "      <td>Software Design for Virtual Reality and Gaming</td>\n",
       "      <td>300</td>\n",
       "      <td>359</td>\n",
       "      <td>NaN</td>\n",
       "    </tr>\n",
       "    <tr>\n",
       "      <th>30</th>\n",
       "      <td>AL802</td>\n",
       "      <td>Software Design in Artificial Intelligence for...</td>\n",
       "      <td>313</td>\n",
       "      <td>381</td>\n",
       "      <td>NaN</td>\n",
       "    </tr>\n",
       "    <tr>\n",
       "      <th>31</th>\n",
       "      <td>AL803</td>\n",
       "      <td>Software Design for Mobile Apps and Connected ...</td>\n",
       "      <td>350</td>\n",
       "      <td>398</td>\n",
       "      <td>NaN</td>\n",
       "    </tr>\n",
       "    <tr>\n",
       "      <th>32</th>\n",
       "      <td>AL805</td>\n",
       "      <td>Computer Engineering for Network Infrastructure</td>\n",
       "      <td>321</td>\n",
       "      <td>381</td>\n",
       "      <td>NaN</td>\n",
       "    </tr>\n",
       "    <tr>\n",
       "      <th>33</th>\n",
       "      <td>AL810</td>\n",
       "      <td>Quantity Surveying</td>\n",
       "      <td>328</td>\n",
       "      <td>377</td>\n",
       "      <td>NaN</td>\n",
       "    </tr>\n",
       "  </tbody>\n",
       "</table>\n",
       "</div>"
      ],
      "text/plain": [
       "     code                                        course name  EOS  Mid test\n",
       "29  AL801     Software Design for Virtual Reality and Gaming  300  359  NaN\n",
       "30  AL802  Software Design in Artificial Intelligence for...  313  381  NaN\n",
       "31  AL803  Software Design for Mobile Apps and Connected ...  350  398  NaN\n",
       "32  AL805    Computer Engineering for Network Infrastructure  321  381  NaN\n",
       "33  AL810                                 Quantity Surveying  328  377  NaN"
      ]
     },
     "execution_count": 11,
     "metadata": {},
     "output_type": "execute_result"
    }
   ],
   "source": [
    "df2021.head()"
   ]
  },
  {
   "cell_type": "code",
   "execution_count": 12,
   "id": "89ad5642-d528-43a4-b328-d6a1112a1905",
   "metadata": {},
   "outputs": [
    {
     "data": {
      "text/html": [
       "<div>\n",
       "<style scoped>\n",
       "    .dataframe tbody tr th:only-of-type {\n",
       "        vertical-align: middle;\n",
       "    }\n",
       "\n",
       "    .dataframe tbody tr th {\n",
       "        vertical-align: top;\n",
       "    }\n",
       "\n",
       "    .dataframe thead th {\n",
       "        text-align: right;\n",
       "    }\n",
       "</style>\n",
       "<table border=\"1\" class=\"dataframe\">\n",
       "  <thead>\n",
       "    <tr style=\"text-align: right;\">\n",
       "      <th></th>\n",
       "      <th>code</th>\n",
       "      <th>course name</th>\n",
       "      <th>EOS</th>\n",
       "      <th>Mid</th>\n",
       "      <th>test</th>\n",
       "    </tr>\n",
       "  </thead>\n",
       "  <tbody>\n",
       "    <tr>\n",
       "      <th>29</th>\n",
       "      <td>AL801</td>\n",
       "      <td>Software Design for Virtual Reality and Gaming</td>\n",
       "      <td>300</td>\n",
       "      <td>359</td>\n",
       "      <td>NaN</td>\n",
       "    </tr>\n",
       "    <tr>\n",
       "      <th>30</th>\n",
       "      <td>AL802</td>\n",
       "      <td>Software Design in Artificial Intelligence for...</td>\n",
       "      <td>313</td>\n",
       "      <td>381</td>\n",
       "      <td>NaN</td>\n",
       "    </tr>\n",
       "    <tr>\n",
       "      <th>31</th>\n",
       "      <td>AL803</td>\n",
       "      <td>Software Design for Mobile Apps and Connected ...</td>\n",
       "      <td>350</td>\n",
       "      <td>398</td>\n",
       "      <td>NaN</td>\n",
       "    </tr>\n",
       "    <tr>\n",
       "      <th>32</th>\n",
       "      <td>AL805</td>\n",
       "      <td>Computer Engineering for Network Infrastructure</td>\n",
       "      <td>321</td>\n",
       "      <td>381</td>\n",
       "      <td>NaN</td>\n",
       "    </tr>\n",
       "    <tr>\n",
       "      <th>33</th>\n",
       "      <td>AL810</td>\n",
       "      <td>Quantity Surveying</td>\n",
       "      <td>328</td>\n",
       "      <td>377</td>\n",
       "      <td>NaN</td>\n",
       "    </tr>\n",
       "  </tbody>\n",
       "</table>\n",
       "</div>"
      ],
      "text/plain": [
       "     code                                        course name  EOS  Mid test\n",
       "29  AL801     Software Design for Virtual Reality and Gaming  300  359  NaN\n",
       "30  AL802  Software Design in Artificial Intelligence for...  313  381  NaN\n",
       "31  AL803  Software Design for Mobile Apps and Connected ...  350  398  NaN\n",
       "32  AL805    Computer Engineering for Network Infrastructure  321  381  NaN\n",
       "33  AL810                                 Quantity Surveying  328  377  NaN"
      ]
     },
     "execution_count": 12,
     "metadata": {},
     "output_type": "execute_result"
    }
   ],
   "source": [
    "#If value in EOS column is '#', modify value in 'test' column\n",
    "#This is because some of the '#' were misplaced in the original dataset\n",
    "df2021.loc[df2021.EOS == '#', 'test'] = '#'\n",
    "df2021.head()"
   ]
  },
  {
   "cell_type": "code",
   "execution_count": 13,
   "id": "2cdaf608-855f-4845-bf6e-56f406079bdb",
   "metadata": {},
   "outputs": [
    {
     "data": {
      "text/plain": [
       "code                                  DN411\n",
       "course name    Radiography - Graduate Entry\n",
       "EOS                                       #\n",
       "Mid                                     NaN\n",
       "test                                      #\n",
       "Name: 786, dtype: object"
      ]
     },
     "execution_count": 13,
     "metadata": {},
     "output_type": "execute_result"
    }
   ],
   "source": [
    "#Spotcheck known value\n",
    "df2021.loc[786]"
   ]
  },
  {
   "cell_type": "code",
   "execution_count": 14,
   "id": "28e154c9-096a-4bad-8f05-8dbde018ca30",
   "metadata": {},
   "outputs": [
    {
     "data": {
      "text/html": [
       "<div>\n",
       "<style scoped>\n",
       "    .dataframe tbody tr th:only-of-type {\n",
       "        vertical-align: middle;\n",
       "    }\n",
       "\n",
       "    .dataframe tbody tr th {\n",
       "        vertical-align: top;\n",
       "    }\n",
       "\n",
       "    .dataframe thead th {\n",
       "        text-align: right;\n",
       "    }\n",
       "</style>\n",
       "<table border=\"1\" class=\"dataframe\">\n",
       "  <thead>\n",
       "    <tr style=\"text-align: right;\">\n",
       "      <th></th>\n",
       "      <th>code</th>\n",
       "      <th>course name</th>\n",
       "      <th>EOS</th>\n",
       "      <th>Mid</th>\n",
       "      <th>test</th>\n",
       "    </tr>\n",
       "  </thead>\n",
       "  <tbody>\n",
       "    <tr>\n",
       "      <th>29</th>\n",
       "      <td>AL801</td>\n",
       "      <td>Software Design for Virtual Reality and Gaming</td>\n",
       "      <td>300.0</td>\n",
       "      <td>359.0</td>\n",
       "      <td>NaN</td>\n",
       "    </tr>\n",
       "    <tr>\n",
       "      <th>30</th>\n",
       "      <td>AL802</td>\n",
       "      <td>Software Design in Artificial Intelligence for...</td>\n",
       "      <td>313.0</td>\n",
       "      <td>381.0</td>\n",
       "      <td>NaN</td>\n",
       "    </tr>\n",
       "    <tr>\n",
       "      <th>31</th>\n",
       "      <td>AL803</td>\n",
       "      <td>Software Design for Mobile Apps and Connected ...</td>\n",
       "      <td>350.0</td>\n",
       "      <td>398.0</td>\n",
       "      <td>NaN</td>\n",
       "    </tr>\n",
       "    <tr>\n",
       "      <th>32</th>\n",
       "      <td>AL805</td>\n",
       "      <td>Computer Engineering for Network Infrastructure</td>\n",
       "      <td>321.0</td>\n",
       "      <td>381.0</td>\n",
       "      <td>NaN</td>\n",
       "    </tr>\n",
       "    <tr>\n",
       "      <th>33</th>\n",
       "      <td>AL810</td>\n",
       "      <td>Quantity Surveying</td>\n",
       "      <td>328.0</td>\n",
       "      <td>377.0</td>\n",
       "      <td>NaN</td>\n",
       "    </tr>\n",
       "  </tbody>\n",
       "</table>\n",
       "</div>"
      ],
      "text/plain": [
       "     code                                        course name    EOS    Mid  \\\n",
       "29  AL801     Software Design for Virtual Reality and Gaming  300.0  359.0   \n",
       "30  AL802  Software Design in Artificial Intelligence for...  313.0  381.0   \n",
       "31  AL803  Software Design for Mobile Apps and Connected ...  350.0  398.0   \n",
       "32  AL805    Computer Engineering for Network Infrastructure  321.0  381.0   \n",
       "33  AL810                                 Quantity Surveying  328.0  377.0   \n",
       "\n",
       "   test  \n",
       "29  NaN  \n",
       "30  NaN  \n",
       "31  NaN  \n",
       "32  NaN  \n",
       "33  NaN  "
      ]
     },
     "execution_count": 14,
     "metadata": {},
     "output_type": "execute_result"
    }
   ],
   "source": [
    "#Now we replace the '#' values on numerical columns with zeros\n",
    "df2021[['EOS','Mid']] = df2021[['EOS','Mid']].replace('#',0).fillna(0)\n",
    "df2021.head()"
   ]
  },
  {
   "cell_type": "code",
   "execution_count": 15,
   "id": "8825017a-80ce-4b96-ab0a-e4092072b9ad",
   "metadata": {},
   "outputs": [
    {
     "data": {
      "text/plain": [
       "EOS    float64\n",
       "Mid    float64\n",
       "dtype: object"
      ]
     },
     "execution_count": 15,
     "metadata": {},
     "output_type": "execute_result"
    }
   ],
   "source": [
    "#Check if all points are numericals\n",
    "df2021[['EOS','Mid']].dtypes"
   ]
  },
  {
   "cell_type": "code",
   "execution_count": 16,
   "id": "9cd0292f-cf72-4926-ba02-6bad9c22d25b",
   "metadata": {},
   "outputs": [
    {
     "data": {
      "text/html": [
       "<div>\n",
       "<style scoped>\n",
       "    .dataframe tbody tr th:only-of-type {\n",
       "        vertical-align: middle;\n",
       "    }\n",
       "\n",
       "    .dataframe tbody tr th {\n",
       "        vertical-align: top;\n",
       "    }\n",
       "\n",
       "    .dataframe thead th {\n",
       "        text-align: right;\n",
       "    }\n",
       "</style>\n",
       "<table border=\"1\" class=\"dataframe\">\n",
       "  <thead>\n",
       "    <tr style=\"text-align: right;\">\n",
       "      <th></th>\n",
       "      <th>code</th>\n",
       "      <th>course name</th>\n",
       "      <th>EOS</th>\n",
       "      <th>Mid</th>\n",
       "      <th>test</th>\n",
       "    </tr>\n",
       "  </thead>\n",
       "  <tbody>\n",
       "    <tr>\n",
       "      <th>29</th>\n",
       "      <td>AL801</td>\n",
       "      <td>Software Design for Virtual Reality and Gaming</td>\n",
       "      <td>300.0</td>\n",
       "      <td>359.0</td>\n",
       "      <td>no</td>\n",
       "    </tr>\n",
       "    <tr>\n",
       "      <th>30</th>\n",
       "      <td>AL802</td>\n",
       "      <td>Software Design in Artificial Intelligence for...</td>\n",
       "      <td>313.0</td>\n",
       "      <td>381.0</td>\n",
       "      <td>no</td>\n",
       "    </tr>\n",
       "    <tr>\n",
       "      <th>31</th>\n",
       "      <td>AL803</td>\n",
       "      <td>Software Design for Mobile Apps and Connected ...</td>\n",
       "      <td>350.0</td>\n",
       "      <td>398.0</td>\n",
       "      <td>no</td>\n",
       "    </tr>\n",
       "    <tr>\n",
       "      <th>32</th>\n",
       "      <td>AL805</td>\n",
       "      <td>Computer Engineering for Network Infrastructure</td>\n",
       "      <td>321.0</td>\n",
       "      <td>381.0</td>\n",
       "      <td>no</td>\n",
       "    </tr>\n",
       "    <tr>\n",
       "      <th>33</th>\n",
       "      <td>AL810</td>\n",
       "      <td>Quantity Surveying</td>\n",
       "      <td>328.0</td>\n",
       "      <td>377.0</td>\n",
       "      <td>no</td>\n",
       "    </tr>\n",
       "  </tbody>\n",
       "</table>\n",
       "</div>"
      ],
      "text/plain": [
       "     code                                        course name    EOS    Mid  \\\n",
       "29  AL801     Software Design for Virtual Reality and Gaming  300.0  359.0   \n",
       "30  AL802  Software Design in Artificial Intelligence for...  313.0  381.0   \n",
       "31  AL803  Software Design for Mobile Apps and Connected ...  350.0  398.0   \n",
       "32  AL805    Computer Engineering for Network Infrastructure  321.0  381.0   \n",
       "33  AL810                                 Quantity Surveying  328.0  377.0   \n",
       "\n",
       "   test  \n",
       "29   no  \n",
       "30   no  \n",
       "31   no  \n",
       "32   no  \n",
       "33   no  "
      ]
     },
     "execution_count": 16,
     "metadata": {},
     "output_type": "execute_result"
    }
   ],
   "source": [
    "#Replace NaN values in column test with 'no', and '#' values with string 'yes'\n",
    "df2021['test'] = df2021['test'].replace('#','yes').fillna('no')\n",
    "df2021.head()"
   ]
  },
  {
   "cell_type": "code",
   "execution_count": 17,
   "id": "f3a00189-3477-40df-acdc-eef4674a1340",
   "metadata": {},
   "outputs": [],
   "source": [
    "# File path for csv dataset\n",
    "path2021 = 'data/2021/cao2021_' + nowstr + '.csv'"
   ]
  },
  {
   "cell_type": "code",
   "execution_count": 18,
   "id": "04ca581f-e249-44b8-a84c-a139dfcdd804",
   "metadata": {},
   "outputs": [],
   "source": [
    "# Save pandas dataframe\n",
    "df2021.to_csv(path2021)"
   ]
  },
  {
   "cell_type": "markdown",
   "id": "0ce2175b-a69c-4c5d-9d23-403bad06ec88",
   "metadata": {},
   "source": [
    "## CAO 2020\n",
    "***"
   ]
  },
  {
   "cell_type": "markdown",
   "id": "333e51e4-eb9a-40b1-aa92-94cfbd5f3033",
   "metadata": {},
   "source": [
    "### Data source\n",
    "https://www.cao.ie/index.php?page=points&p=2020"
   ]
  },
  {
   "cell_type": "code",
   "execution_count": 19,
   "id": "59627a40-5ec6-4ffc-8997-bbc3978728b5",
   "metadata": {},
   "outputs": [],
   "source": [
    "#Original file\n",
    "url2020 = 'http://www2.cao.ie/points/CAOPointsCharts2020.xlsx'"
   ]
  },
  {
   "cell_type": "markdown",
   "id": "69a55561-fa29-44fa-bb69-74a351cce112",
   "metadata": {},
   "source": [
    "### Save original file"
   ]
  },
  {
   "cell_type": "code",
   "execution_count": 20,
   "id": "434e4ac5-c6cf-4dfa-92df-9b28f29cc94a",
   "metadata": {},
   "outputs": [
    {
     "data": {
      "text/plain": [
       "('data/2020/cao2020_original_20211226_172002.xlsx',\n",
       " <http.client.HTTPMessage at 0x161fa3db7f0>)"
      ]
     },
     "execution_count": 20,
     "metadata": {},
     "output_type": "execute_result"
    }
   ],
   "source": [
    "#Repeat steps from CAO 2021\n",
    "pathxlsx2020 = 'data/2020/cao2020_original_' + nowstr + '.xlsx'\n",
    "urlrq.urlretrieve(url2020, pathxlsx2020)"
   ]
  },
  {
   "cell_type": "markdown",
   "id": "c30f4757-dc4b-492b-a922-b21a6eff4915",
   "metadata": {},
   "source": [
    "### Load data with pandas"
   ]
  },
  {
   "cell_type": "code",
   "execution_count": 21,
   "id": "fe53f190-9ecc-43fb-b2bb-e24523f255f6",
   "metadata": {},
   "outputs": [
    {
     "data": {
      "text/html": [
       "<div>\n",
       "<style scoped>\n",
       "    .dataframe tbody tr th:only-of-type {\n",
       "        vertical-align: middle;\n",
       "    }\n",
       "\n",
       "    .dataframe tbody tr th {\n",
       "        vertical-align: top;\n",
       "    }\n",
       "\n",
       "    .dataframe thead th {\n",
       "        text-align: right;\n",
       "    }\n",
       "</style>\n",
       "<table border=\"1\" class=\"dataframe\">\n",
       "  <thead>\n",
       "    <tr style=\"text-align: right;\">\n",
       "      <th></th>\n",
       "      <th>CATEGORY (i.e.ISCED description)</th>\n",
       "      <th>COURSE TITLE</th>\n",
       "      <th>COURSE CODE2</th>\n",
       "      <th>R1 POINTS</th>\n",
       "      <th>R1 Random *</th>\n",
       "      <th>R2 POINTS</th>\n",
       "      <th>R2 Random*</th>\n",
       "      <th>EOS</th>\n",
       "      <th>EOS Random *</th>\n",
       "      <th>EOS Mid-point</th>\n",
       "      <th>...</th>\n",
       "      <th>avp</th>\n",
       "      <th>v</th>\n",
       "      <th>Column1</th>\n",
       "      <th>Column2</th>\n",
       "      <th>Column3</th>\n",
       "      <th>Column4</th>\n",
       "      <th>Column5</th>\n",
       "      <th>Column6</th>\n",
       "      <th>Column7</th>\n",
       "      <th>Column8</th>\n",
       "    </tr>\n",
       "  </thead>\n",
       "  <tbody>\n",
       "    <tr>\n",
       "      <th>0</th>\n",
       "      <td>Business and administration</td>\n",
       "      <td>International Business</td>\n",
       "      <td>AC120</td>\n",
       "      <td>209</td>\n",
       "      <td>NaN</td>\n",
       "      <td>NaN</td>\n",
       "      <td>NaN</td>\n",
       "      <td>209</td>\n",
       "      <td>NaN</td>\n",
       "      <td>280</td>\n",
       "      <td>...</td>\n",
       "      <td>NaN</td>\n",
       "      <td>NaN</td>\n",
       "      <td>NaN</td>\n",
       "      <td>NaN</td>\n",
       "      <td>NaN</td>\n",
       "      <td>NaN</td>\n",
       "      <td>NaN</td>\n",
       "      <td>NaN</td>\n",
       "      <td>NaN</td>\n",
       "      <td>NaN</td>\n",
       "    </tr>\n",
       "    <tr>\n",
       "      <th>1</th>\n",
       "      <td>Humanities (except languages)</td>\n",
       "      <td>Liberal Arts</td>\n",
       "      <td>AC137</td>\n",
       "      <td>252</td>\n",
       "      <td>NaN</td>\n",
       "      <td>NaN</td>\n",
       "      <td>NaN</td>\n",
       "      <td>252</td>\n",
       "      <td>NaN</td>\n",
       "      <td>270</td>\n",
       "      <td>...</td>\n",
       "      <td>NaN</td>\n",
       "      <td>NaN</td>\n",
       "      <td>NaN</td>\n",
       "      <td>NaN</td>\n",
       "      <td>NaN</td>\n",
       "      <td>NaN</td>\n",
       "      <td>NaN</td>\n",
       "      <td>NaN</td>\n",
       "      <td>NaN</td>\n",
       "      <td>NaN</td>\n",
       "    </tr>\n",
       "    <tr>\n",
       "      <th>2</th>\n",
       "      <td>Arts</td>\n",
       "      <td>First Year Art &amp; Design (Common Entry,portfolio)</td>\n",
       "      <td>AD101</td>\n",
       "      <td>#+matric</td>\n",
       "      <td>NaN</td>\n",
       "      <td>NaN</td>\n",
       "      <td>NaN</td>\n",
       "      <td>#+matric</td>\n",
       "      <td>NaN</td>\n",
       "      <td>#+matric</td>\n",
       "      <td>...</td>\n",
       "      <td>NaN</td>\n",
       "      <td>NaN</td>\n",
       "      <td>NaN</td>\n",
       "      <td>NaN</td>\n",
       "      <td>NaN</td>\n",
       "      <td>NaN</td>\n",
       "      <td>NaN</td>\n",
       "      <td>NaN</td>\n",
       "      <td>NaN</td>\n",
       "      <td>NaN</td>\n",
       "    </tr>\n",
       "    <tr>\n",
       "      <th>3</th>\n",
       "      <td>Arts</td>\n",
       "      <td>Graphic Design and Moving Image Design (portfo...</td>\n",
       "      <td>AD102</td>\n",
       "      <td>#+matric</td>\n",
       "      <td>NaN</td>\n",
       "      <td>NaN</td>\n",
       "      <td>NaN</td>\n",
       "      <td>#+matric</td>\n",
       "      <td>NaN</td>\n",
       "      <td>#+matric</td>\n",
       "      <td>...</td>\n",
       "      <td>NaN</td>\n",
       "      <td>NaN</td>\n",
       "      <td>NaN</td>\n",
       "      <td>NaN</td>\n",
       "      <td>NaN</td>\n",
       "      <td>NaN</td>\n",
       "      <td>NaN</td>\n",
       "      <td>NaN</td>\n",
       "      <td>NaN</td>\n",
       "      <td>NaN</td>\n",
       "    </tr>\n",
       "    <tr>\n",
       "      <th>4</th>\n",
       "      <td>Arts</td>\n",
       "      <td>Textile &amp; Surface Design and Jewellery &amp; Objec...</td>\n",
       "      <td>AD103</td>\n",
       "      <td>#+matric</td>\n",
       "      <td>NaN</td>\n",
       "      <td>NaN</td>\n",
       "      <td>NaN</td>\n",
       "      <td>#+matric</td>\n",
       "      <td>NaN</td>\n",
       "      <td>#+matric</td>\n",
       "      <td>...</td>\n",
       "      <td>NaN</td>\n",
       "      <td>NaN</td>\n",
       "      <td>NaN</td>\n",
       "      <td>NaN</td>\n",
       "      <td>NaN</td>\n",
       "      <td>NaN</td>\n",
       "      <td>NaN</td>\n",
       "      <td>NaN</td>\n",
       "      <td>NaN</td>\n",
       "      <td>NaN</td>\n",
       "    </tr>\n",
       "  </tbody>\n",
       "</table>\n",
       "<p>5 rows × 23 columns</p>\n",
       "</div>"
      ],
      "text/plain": [
       "  CATEGORY (i.e.ISCED description)  \\\n",
       "0      Business and administration   \n",
       "1    Humanities (except languages)   \n",
       "2                             Arts   \n",
       "3                             Arts   \n",
       "4                             Arts   \n",
       "\n",
       "                                        COURSE TITLE COURSE CODE2 R1 POINTS  \\\n",
       "0                             International Business        AC120       209   \n",
       "1                                       Liberal Arts        AC137       252   \n",
       "2   First Year Art & Design (Common Entry,portfolio)        AD101  #+matric   \n",
       "3  Graphic Design and Moving Image Design (portfo...        AD102  #+matric   \n",
       "4  Textile & Surface Design and Jewellery & Objec...        AD103  #+matric   \n",
       "\n",
       "  R1 Random * R2 POINTS R2 Random*       EOS EOS Random * EOS Mid-point  ...  \\\n",
       "0         NaN       NaN        NaN       209          NaN           280  ...   \n",
       "1         NaN       NaN        NaN       252          NaN           270  ...   \n",
       "2         NaN       NaN        NaN  #+matric          NaN      #+matric  ...   \n",
       "3         NaN       NaN        NaN  #+matric          NaN      #+matric  ...   \n",
       "4         NaN       NaN        NaN  #+matric          NaN      #+matric  ...   \n",
       "\n",
       "   avp    v Column1 Column2 Column3  Column4  Column5  Column6  Column7  \\\n",
       "0  NaN  NaN     NaN     NaN     NaN      NaN      NaN      NaN      NaN   \n",
       "1  NaN  NaN     NaN     NaN     NaN      NaN      NaN      NaN      NaN   \n",
       "2  NaN  NaN     NaN     NaN     NaN      NaN      NaN      NaN      NaN   \n",
       "3  NaN  NaN     NaN     NaN     NaN      NaN      NaN      NaN      NaN   \n",
       "4  NaN  NaN     NaN     NaN     NaN      NaN      NaN      NaN      NaN   \n",
       "\n",
       "   Column8  \n",
       "0      NaN  \n",
       "1      NaN  \n",
       "2      NaN  \n",
       "3      NaN  \n",
       "4      NaN  \n",
       "\n",
       "[5 rows x 23 columns]"
      ]
     },
     "execution_count": 21,
     "metadata": {},
     "output_type": "execute_result"
    }
   ],
   "source": [
    "df2020 = pd.read_excel(url2020, skiprows=10)\n",
    "df2020.head()"
   ]
  },
  {
   "cell_type": "markdown",
   "id": "22cc62f8-70db-4208-bc24-f2439e1c398a",
   "metadata": {},
   "source": [
    "### Cleaning up dataframe"
   ]
  },
  {
   "cell_type": "code",
   "execution_count": 22,
   "id": "88b4bdfc-0fa2-484d-877d-f874174af7a6",
   "metadata": {},
   "outputs": [
    {
     "data": {
      "text/html": [
       "<div>\n",
       "<style scoped>\n",
       "    .dataframe tbody tr th:only-of-type {\n",
       "        vertical-align: middle;\n",
       "    }\n",
       "\n",
       "    .dataframe tbody tr th {\n",
       "        vertical-align: top;\n",
       "    }\n",
       "\n",
       "    .dataframe thead th {\n",
       "        text-align: right;\n",
       "    }\n",
       "</style>\n",
       "<table border=\"1\" class=\"dataframe\">\n",
       "  <thead>\n",
       "    <tr style=\"text-align: right;\">\n",
       "      <th></th>\n",
       "      <th>CATEGORY (i.e.ISCED description)</th>\n",
       "      <th>COURSE TITLE</th>\n",
       "      <th>COURSE CODE2</th>\n",
       "      <th>R1 POINTS</th>\n",
       "      <th>R1 Random *</th>\n",
       "      <th>R2 POINTS</th>\n",
       "      <th>R2 Random*</th>\n",
       "      <th>EOS</th>\n",
       "      <th>EOS Random *</th>\n",
       "      <th>EOS Mid-point</th>\n",
       "      <th>...</th>\n",
       "      <th>avp</th>\n",
       "      <th>v</th>\n",
       "      <th>Column1</th>\n",
       "      <th>Column2</th>\n",
       "      <th>Column3</th>\n",
       "      <th>Column4</th>\n",
       "      <th>Column5</th>\n",
       "      <th>Column6</th>\n",
       "      <th>Column7</th>\n",
       "      <th>Column8</th>\n",
       "    </tr>\n",
       "  </thead>\n",
       "  <tbody>\n",
       "    <tr>\n",
       "      <th>0</th>\n",
       "      <td>Business and administration</td>\n",
       "      <td>International Business</td>\n",
       "      <td>AC120</td>\n",
       "      <td>209</td>\n",
       "      <td>NaN</td>\n",
       "      <td>NaN</td>\n",
       "      <td>NaN</td>\n",
       "      <td>209</td>\n",
       "      <td>NaN</td>\n",
       "      <td>280</td>\n",
       "      <td>...</td>\n",
       "      <td>NaN</td>\n",
       "      <td>NaN</td>\n",
       "      <td>NaN</td>\n",
       "      <td>NaN</td>\n",
       "      <td>NaN</td>\n",
       "      <td>NaN</td>\n",
       "      <td>NaN</td>\n",
       "      <td>NaN</td>\n",
       "      <td>NaN</td>\n",
       "      <td>NaN</td>\n",
       "    </tr>\n",
       "    <tr>\n",
       "      <th>1</th>\n",
       "      <td>Humanities (except languages)</td>\n",
       "      <td>Liberal Arts</td>\n",
       "      <td>AC137</td>\n",
       "      <td>252</td>\n",
       "      <td>NaN</td>\n",
       "      <td>NaN</td>\n",
       "      <td>NaN</td>\n",
       "      <td>252</td>\n",
       "      <td>NaN</td>\n",
       "      <td>270</td>\n",
       "      <td>...</td>\n",
       "      <td>NaN</td>\n",
       "      <td>NaN</td>\n",
       "      <td>NaN</td>\n",
       "      <td>NaN</td>\n",
       "      <td>NaN</td>\n",
       "      <td>NaN</td>\n",
       "      <td>NaN</td>\n",
       "      <td>NaN</td>\n",
       "      <td>NaN</td>\n",
       "      <td>NaN</td>\n",
       "    </tr>\n",
       "    <tr>\n",
       "      <th>2</th>\n",
       "      <td>Arts</td>\n",
       "      <td>First Year Art &amp; Design (Common Entry,portfolio)</td>\n",
       "      <td>AD101</td>\n",
       "      <td>#+matric</td>\n",
       "      <td>NaN</td>\n",
       "      <td>NaN</td>\n",
       "      <td>NaN</td>\n",
       "      <td>#+matric</td>\n",
       "      <td>NaN</td>\n",
       "      <td>#+matric</td>\n",
       "      <td>...</td>\n",
       "      <td>NaN</td>\n",
       "      <td>NaN</td>\n",
       "      <td>NaN</td>\n",
       "      <td>NaN</td>\n",
       "      <td>NaN</td>\n",
       "      <td>NaN</td>\n",
       "      <td>NaN</td>\n",
       "      <td>NaN</td>\n",
       "      <td>NaN</td>\n",
       "      <td>NaN</td>\n",
       "    </tr>\n",
       "    <tr>\n",
       "      <th>3</th>\n",
       "      <td>Arts</td>\n",
       "      <td>Graphic Design and Moving Image Design (portfo...</td>\n",
       "      <td>AD102</td>\n",
       "      <td>#+matric</td>\n",
       "      <td>NaN</td>\n",
       "      <td>NaN</td>\n",
       "      <td>NaN</td>\n",
       "      <td>#+matric</td>\n",
       "      <td>NaN</td>\n",
       "      <td>#+matric</td>\n",
       "      <td>...</td>\n",
       "      <td>NaN</td>\n",
       "      <td>NaN</td>\n",
       "      <td>NaN</td>\n",
       "      <td>NaN</td>\n",
       "      <td>NaN</td>\n",
       "      <td>NaN</td>\n",
       "      <td>NaN</td>\n",
       "      <td>NaN</td>\n",
       "      <td>NaN</td>\n",
       "      <td>NaN</td>\n",
       "    </tr>\n",
       "    <tr>\n",
       "      <th>4</th>\n",
       "      <td>Arts</td>\n",
       "      <td>Textile &amp; Surface Design and Jewellery &amp; Objec...</td>\n",
       "      <td>AD103</td>\n",
       "      <td>#+matric</td>\n",
       "      <td>NaN</td>\n",
       "      <td>NaN</td>\n",
       "      <td>NaN</td>\n",
       "      <td>#+matric</td>\n",
       "      <td>NaN</td>\n",
       "      <td>#+matric</td>\n",
       "      <td>...</td>\n",
       "      <td>NaN</td>\n",
       "      <td>NaN</td>\n",
       "      <td>NaN</td>\n",
       "      <td>NaN</td>\n",
       "      <td>NaN</td>\n",
       "      <td>NaN</td>\n",
       "      <td>NaN</td>\n",
       "      <td>NaN</td>\n",
       "      <td>NaN</td>\n",
       "      <td>NaN</td>\n",
       "    </tr>\n",
       "  </tbody>\n",
       "</table>\n",
       "<p>5 rows × 23 columns</p>\n",
       "</div>"
      ],
      "text/plain": [
       "  CATEGORY (i.e.ISCED description)  \\\n",
       "0      Business and administration   \n",
       "1    Humanities (except languages)   \n",
       "2                             Arts   \n",
       "3                             Arts   \n",
       "4                             Arts   \n",
       "\n",
       "                                        COURSE TITLE COURSE CODE2 R1 POINTS  \\\n",
       "0                             International Business        AC120       209   \n",
       "1                                       Liberal Arts        AC137       252   \n",
       "2   First Year Art & Design (Common Entry,portfolio)        AD101  #+matric   \n",
       "3  Graphic Design and Moving Image Design (portfo...        AD102  #+matric   \n",
       "4  Textile & Surface Design and Jewellery & Objec...        AD103  #+matric   \n",
       "\n",
       "  R1 Random * R2 POINTS R2 Random*       EOS EOS Random * EOS Mid-point  ...  \\\n",
       "0         NaN       NaN        NaN       209          NaN           280  ...   \n",
       "1         NaN       NaN        NaN       252          NaN           270  ...   \n",
       "2         NaN       NaN        NaN  #+matric          NaN      #+matric  ...   \n",
       "3         NaN       NaN        NaN  #+matric          NaN      #+matric  ...   \n",
       "4         NaN       NaN        NaN  #+matric          NaN      #+matric  ...   \n",
       "\n",
       "   avp    v Column1 Column2 Column3  Column4  Column5  Column6  Column7  \\\n",
       "0  NaN  NaN     NaN     NaN     NaN      NaN      NaN      NaN      NaN   \n",
       "1  NaN  NaN     NaN     NaN     NaN      NaN      NaN      NaN      NaN   \n",
       "2  NaN  NaN     NaN     NaN     NaN      NaN      NaN      NaN      NaN   \n",
       "3  NaN  NaN     NaN     NaN     NaN      NaN      NaN      NaN      NaN   \n",
       "4  NaN  NaN     NaN     NaN     NaN      NaN      NaN      NaN      NaN   \n",
       "\n",
       "   Column8  \n",
       "0      NaN  \n",
       "1      NaN  \n",
       "2      NaN  \n",
       "3      NaN  \n",
       "4      NaN  \n",
       "\n",
       "[5 rows x 23 columns]"
      ]
     },
     "execution_count": 22,
     "metadata": {},
     "output_type": "execute_result"
    }
   ],
   "source": [
    "#Repeat steps from 2021 dataframe\n",
    "\n",
    "#Select only L8 courses\n",
    "df2020_l8 = df2020[df2020.LEVEL == 8]\n",
    "df2020_l8.head()"
   ]
  },
  {
   "cell_type": "code",
   "execution_count": 23,
   "id": "e3ded502-d1a0-44ee-b761-fb9cf2ca63ed",
   "metadata": {},
   "outputs": [
    {
     "data": {
      "text/html": [
       "<div>\n",
       "<style scoped>\n",
       "    .dataframe tbody tr th:only-of-type {\n",
       "        vertical-align: middle;\n",
       "    }\n",
       "\n",
       "    .dataframe tbody tr th {\n",
       "        vertical-align: top;\n",
       "    }\n",
       "\n",
       "    .dataframe thead th {\n",
       "        text-align: right;\n",
       "    }\n",
       "</style>\n",
       "<table border=\"1\" class=\"dataframe\">\n",
       "  <thead>\n",
       "    <tr style=\"text-align: right;\">\n",
       "      <th></th>\n",
       "      <th>code</th>\n",
       "      <th>course name</th>\n",
       "      <th>EOS</th>\n",
       "      <th>Mid</th>\n",
       "      <th>test</th>\n",
       "    </tr>\n",
       "  </thead>\n",
       "  <tbody>\n",
       "    <tr>\n",
       "      <th>0</th>\n",
       "      <td>AC120</td>\n",
       "      <td>International Business</td>\n",
       "      <td>209</td>\n",
       "      <td>280</td>\n",
       "      <td>NaN</td>\n",
       "    </tr>\n",
       "    <tr>\n",
       "      <th>1</th>\n",
       "      <td>AC137</td>\n",
       "      <td>Liberal Arts</td>\n",
       "      <td>252</td>\n",
       "      <td>270</td>\n",
       "      <td>NaN</td>\n",
       "    </tr>\n",
       "    <tr>\n",
       "      <th>2</th>\n",
       "      <td>AD101</td>\n",
       "      <td>First Year Art &amp; Design (Common Entry,portfolio)</td>\n",
       "      <td>#+matric</td>\n",
       "      <td>#+matric</td>\n",
       "      <td>#</td>\n",
       "    </tr>\n",
       "    <tr>\n",
       "      <th>3</th>\n",
       "      <td>AD102</td>\n",
       "      <td>Graphic Design and Moving Image Design (portfo...</td>\n",
       "      <td>#+matric</td>\n",
       "      <td>#+matric</td>\n",
       "      <td>#</td>\n",
       "    </tr>\n",
       "    <tr>\n",
       "      <th>4</th>\n",
       "      <td>AD103</td>\n",
       "      <td>Textile &amp; Surface Design and Jewellery &amp; Objec...</td>\n",
       "      <td>#+matric</td>\n",
       "      <td>#+matric</td>\n",
       "      <td>#</td>\n",
       "    </tr>\n",
       "  </tbody>\n",
       "</table>\n",
       "</div>"
      ],
      "text/plain": [
       "    code                                        course name       EOS  \\\n",
       "0  AC120                             International Business       209   \n",
       "1  AC137                                       Liberal Arts       252   \n",
       "2  AD101   First Year Art & Design (Common Entry,portfolio)  #+matric   \n",
       "3  AD102  Graphic Design and Moving Image Design (portfo...  #+matric   \n",
       "4  AD103  Textile & Surface Design and Jewellery & Objec...  #+matric   \n",
       "\n",
       "        Mid test  \n",
       "0       280  NaN  \n",
       "1       270  NaN  \n",
       "2  #+matric    #  \n",
       "3  #+matric    #  \n",
       "4  #+matric    #  "
      ]
     },
     "execution_count": 23,
     "metadata": {},
     "output_type": "execute_result"
    }
   ],
   "source": [
    "#Change headers\n",
    "df2020 = df2020_l8[['COURSE CODE2','COURSE TITLE', 'EOS', 'EOS Mid-point', 'Test/Interview #']]\n",
    "df2020.columns = ['code', 'course name', 'EOS', 'Mid', 'test']\n",
    "df2020.head()"
   ]
  },
  {
   "cell_type": "markdown",
   "id": "6d85b566-0804-4874-a6bf-902393eb2627",
   "metadata": {},
   "source": [
    "**NB:** 'test' column was fine in the original dataset, so we just need to remove nun-numerical values from columns with points."
   ]
  },
  {
   "cell_type": "code",
   "execution_count": 24,
   "id": "7e585db3-097e-445f-a58e-3d17b71d33f0",
   "metadata": {},
   "outputs": [],
   "source": [
    "#Replace non-numerical values with 0 for selected columns\n",
    "df2020[['EOS','Mid']] = df2020[['EOS','Mid']].replace(['#','#+matric','AQA'],0).fillna(0)"
   ]
  },
  {
   "cell_type": "markdown",
   "id": "029ab327-250f-4092-82c8-176af2ef96f8",
   "metadata": {},
   "source": [
    "**NB:** Some values in the EOS column have the '#' character in front of the number, so we need to remove that too."
   ]
  },
  {
   "cell_type": "code",
   "execution_count": 25,
   "id": "a108e496-6e4d-434e-bb42-f3c8f7d7c5cb",
   "metadata": {},
   "outputs": [],
   "source": [
    "#Use regex to remove particular character instead of matching whole value\n",
    "df2020.EOS = df2020.EOS.replace('#','', regex=True)"
   ]
  },
  {
   "cell_type": "code",
   "execution_count": 26,
   "id": "c18c182c-3b2c-49bd-a496-5fb7f496257c",
   "metadata": {},
   "outputs": [
    {
     "data": {
      "text/plain": [
       "code                        TR311\n",
       "course name    Film/Drama Studies\n",
       "EOS                           521\n",
       "Mid                         557.0\n",
       "test                            #\n",
       "Name: 1158, dtype: object"
      ]
     },
     "execution_count": 26,
     "metadata": {},
     "output_type": "execute_result"
    }
   ],
   "source": [
    "#Check known value\n",
    "df2020.loc[1158]"
   ]
  },
  {
   "cell_type": "code",
   "execution_count": 27,
   "id": "2e738ca0-defd-459a-b3ca-4eec46a13f1a",
   "metadata": {},
   "outputs": [],
   "source": [
    "#Change dtype of column EOS to float\n",
    "df2020 = df2020.astype({'EOS': float})"
   ]
  },
  {
   "cell_type": "code",
   "execution_count": 28,
   "id": "c45a3dc5-3923-45fe-b239-33e9b4c7a120",
   "metadata": {},
   "outputs": [
    {
     "data": {
      "text/html": [
       "<div>\n",
       "<style scoped>\n",
       "    .dataframe tbody tr th:only-of-type {\n",
       "        vertical-align: middle;\n",
       "    }\n",
       "\n",
       "    .dataframe tbody tr th {\n",
       "        vertical-align: top;\n",
       "    }\n",
       "\n",
       "    .dataframe thead th {\n",
       "        text-align: right;\n",
       "    }\n",
       "</style>\n",
       "<table border=\"1\" class=\"dataframe\">\n",
       "  <thead>\n",
       "    <tr style=\"text-align: right;\">\n",
       "      <th></th>\n",
       "      <th>code</th>\n",
       "      <th>course name</th>\n",
       "      <th>EOS</th>\n",
       "      <th>Mid</th>\n",
       "      <th>test</th>\n",
       "    </tr>\n",
       "  </thead>\n",
       "  <tbody>\n",
       "    <tr>\n",
       "      <th>0</th>\n",
       "      <td>AC120</td>\n",
       "      <td>International Business</td>\n",
       "      <td>209.0</td>\n",
       "      <td>280.0</td>\n",
       "      <td>no</td>\n",
       "    </tr>\n",
       "    <tr>\n",
       "      <th>1</th>\n",
       "      <td>AC137</td>\n",
       "      <td>Liberal Arts</td>\n",
       "      <td>252.0</td>\n",
       "      <td>270.0</td>\n",
       "      <td>no</td>\n",
       "    </tr>\n",
       "    <tr>\n",
       "      <th>2</th>\n",
       "      <td>AD101</td>\n",
       "      <td>First Year Art &amp; Design (Common Entry,portfolio)</td>\n",
       "      <td>0.0</td>\n",
       "      <td>0.0</td>\n",
       "      <td>yes</td>\n",
       "    </tr>\n",
       "    <tr>\n",
       "      <th>3</th>\n",
       "      <td>AD102</td>\n",
       "      <td>Graphic Design and Moving Image Design (portfo...</td>\n",
       "      <td>0.0</td>\n",
       "      <td>0.0</td>\n",
       "      <td>yes</td>\n",
       "    </tr>\n",
       "    <tr>\n",
       "      <th>4</th>\n",
       "      <td>AD103</td>\n",
       "      <td>Textile &amp; Surface Design and Jewellery &amp; Objec...</td>\n",
       "      <td>0.0</td>\n",
       "      <td>0.0</td>\n",
       "      <td>yes</td>\n",
       "    </tr>\n",
       "  </tbody>\n",
       "</table>\n",
       "</div>"
      ],
      "text/plain": [
       "    code                                        course name    EOS    Mid test\n",
       "0  AC120                             International Business  209.0  280.0   no\n",
       "1  AC137                                       Liberal Arts  252.0  270.0   no\n",
       "2  AD101   First Year Art & Design (Common Entry,portfolio)    0.0    0.0  yes\n",
       "3  AD102  Graphic Design and Moving Image Design (portfo...    0.0    0.0  yes\n",
       "4  AD103  Textile & Surface Design and Jewellery & Objec...    0.0    0.0  yes"
      ]
     },
     "execution_count": 28,
     "metadata": {},
     "output_type": "execute_result"
    }
   ],
   "source": [
    "#Replace NaN values in column test with 'no', and '#' values with string 'yes'\n",
    "df2020['test'] = df2020['test'].replace('#','yes').fillna('no')\n",
    "df2020.head()"
   ]
  },
  {
   "cell_type": "code",
   "execution_count": 29,
   "id": "7a4cfd7e-9aa3-497e-86ef-c566709cfcad",
   "metadata": {},
   "outputs": [],
   "source": [
    "#Save as csv\n",
    "path2020 = 'data/2020/cao2020_' + nowstr + '.csv'\n",
    "df2020.to_csv(path2020)"
   ]
  },
  {
   "cell_type": "markdown",
   "id": "593df88d-885c-4893-8080-a79356931739",
   "metadata": {},
   "source": [
    "## CAO 2019\n",
    "***"
   ]
  },
  {
   "cell_type": "markdown",
   "id": "f098b373-9013-480f-b105-6c07ce4d6bec",
   "metadata": {},
   "source": [
    "### Data source\n",
    "https://www.cao.ie/index.php?page=points&p=2019"
   ]
  },
  {
   "cell_type": "code",
   "execution_count": 30,
   "id": "6e614ad0-47ec-44ba-9c44-c6fb70d08efd",
   "metadata": {},
   "outputs": [],
   "source": [
    "#Original file\n",
    "url2019 = 'http://www2.cao.ie/points/lvl8_19.pdf'"
   ]
  },
  {
   "cell_type": "code",
   "execution_count": 31,
   "id": "91e3de29-8e16-4008-a7fc-51cf157b74c1",
   "metadata": {},
   "outputs": [
    {
     "data": {
      "text/plain": [
       "('data/2019/cao2019_original_20211226_172002.pdf',\n",
       " <http.client.HTTPMessage at 0x161fa3dbf10>)"
      ]
     },
     "execution_count": 31,
     "metadata": {},
     "output_type": "execute_result"
    }
   ],
   "source": [
    "#Save original file\n",
    "pathpdf2019 = 'data/2019/cao2019_original_' + nowstr + '.pdf'\n",
    "urlrq.urlretrieve(url2019, pathpdf2019)"
   ]
  },
  {
   "cell_type": "code",
   "execution_count": 32,
   "id": "d996fb51-f293-41ec-8945-5eac79cd722c",
   "metadata": {
    "tags": []
   },
   "outputs": [
    {
     "data": {
      "text/plain": [
       "<TableList n=18>"
      ]
     },
     "execution_count": 32,
     "metadata": {},
     "output_type": "execute_result"
    }
   ],
   "source": [
    "#Extract PDF table with multiple pages\n",
    "#Camelot creates 1 table per PDF page\n",
    "tables = camelot.read_pdf('http://www2.cao.ie/points/lvl8_19.pdf', pages = '1-end')\n",
    "\n",
    "#Check number of tables in the list\n",
    "tables"
   ]
  },
  {
   "cell_type": "code",
   "execution_count": 33,
   "id": "9ad214e0-1af3-410e-bf53-47d36751ef44",
   "metadata": {},
   "outputs": [
    {
     "data": {
      "text/plain": [
       "{'accuracy': 99.61, 'whitespace': 3.98, 'order': 1, 'page': 1}"
      ]
     },
     "execution_count": 33,
     "metadata": {},
     "output_type": "execute_result"
    }
   ],
   "source": [
    "#Get a parsing report for the first and last pages\n",
    "tables[0].parsing_report"
   ]
  },
  {
   "cell_type": "code",
   "execution_count": 34,
   "id": "1e24b66c-9610-4af9-96b2-a3ba6cd9db9d",
   "metadata": {},
   "outputs": [
    {
     "data": {
      "text/plain": [
       "{'accuracy': 100.0, 'whitespace': 2.38, 'order': 1, 'page': 18}"
      ]
     },
     "execution_count": 34,
     "metadata": {},
     "output_type": "execute_result"
    }
   ],
   "source": [
    "tables[-1].parsing_report"
   ]
  },
  {
   "cell_type": "code",
   "execution_count": 35,
   "id": "9694a4c9-430e-4af2-99b3-a175c6f1f85d",
   "metadata": {},
   "outputs": [],
   "source": [
    "#Concat multiple tables in a single dataframe\n",
    "\n",
    "empty_list = []\n",
    "for t in range(tables.n):\n",
    "    data = tables[t].df\n",
    "    \n",
    "    empty_list.append(data)\n",
    "    df2019 = pd.concat(empty_list, ignore_index=False, sort=False)\n",
    "    "
   ]
  },
  {
   "cell_type": "markdown",
   "id": "675bf5b2-f5fc-48c2-a4f8-3ea86ceec085",
   "metadata": {},
   "source": [
    "### Cleaning up dataframe"
   ]
  },
  {
   "cell_type": "markdown",
   "id": "d808b6ac-890d-47f7-9f0a-3870498a7357",
   "metadata": {},
   "source": [
    "**NB:** The original dataset had only 4 columns, and missed one specifically to deal with courses that required Tests/Interviews. This was indicated with a '#' character in the EOS column values - in some cases, with the '#' character preceding the actual points. Where this happens, we should move this information to a separate column and only keep numerical values for points.<br>\n",
    "Also, the '\\*' character denoted courses where not all on the point score were offered places. We won't need this information for our analysis and will remove this character from our dataframe.<br>"
   ]
  },
  {
   "cell_type": "code",
   "execution_count": 36,
   "id": "058e79ba-c3bc-4e0f-819c-1d42703d31cb",
   "metadata": {},
   "outputs": [],
   "source": [
    "#Add new column to store courses with Test/Interview\n",
    "df2019.insert(4, 'test','')\n",
    "\n",
    "#Headers are blank, so we first change them\n",
    "df2019.columns = ['code','course name', 'EOS', 'Mid','test']"
   ]
  },
  {
   "cell_type": "code",
   "execution_count": 37,
   "id": "c52c59dc-e6bb-4d34-900d-447a70086bb4",
   "metadata": {},
   "outputs": [
    {
     "data": {
      "text/html": [
       "<div>\n",
       "<style scoped>\n",
       "    .dataframe tbody tr th:only-of-type {\n",
       "        vertical-align: middle;\n",
       "    }\n",
       "\n",
       "    .dataframe tbody tr th {\n",
       "        vertical-align: top;\n",
       "    }\n",
       "\n",
       "    .dataframe thead th {\n",
       "        text-align: right;\n",
       "    }\n",
       "</style>\n",
       "<table border=\"1\" class=\"dataframe\">\n",
       "  <thead>\n",
       "    <tr style=\"text-align: right;\">\n",
       "      <th></th>\n",
       "      <th>code</th>\n",
       "      <th>course name</th>\n",
       "      <th>EOS</th>\n",
       "      <th>Mid</th>\n",
       "      <th>test</th>\n",
       "    </tr>\n",
       "  </thead>\n",
       "  <tbody>\n",
       "    <tr>\n",
       "      <th>0</th>\n",
       "      <td>Course Code INSTITUTION and COURSE</td>\n",
       "      <td></td>\n",
       "      <td>EOS</td>\n",
       "      <td>Mid</td>\n",
       "      <td></td>\n",
       "    </tr>\n",
       "    <tr>\n",
       "      <th>1</th>\n",
       "      <td></td>\n",
       "      <td>Athlone Institute of Technology</td>\n",
       "      <td></td>\n",
       "      <td></td>\n",
       "      <td></td>\n",
       "    </tr>\n",
       "    <tr>\n",
       "      <th>2</th>\n",
       "      <td>AL801</td>\n",
       "      <td>Software Design with Virtual Reality and Gaming</td>\n",
       "      <td>304</td>\n",
       "      <td>328</td>\n",
       "      <td></td>\n",
       "    </tr>\n",
       "    <tr>\n",
       "      <th>3</th>\n",
       "      <td>AL802</td>\n",
       "      <td>Software Design with Cloud Computing</td>\n",
       "      <td>301</td>\n",
       "      <td>306</td>\n",
       "      <td></td>\n",
       "    </tr>\n",
       "    <tr>\n",
       "      <th>4</th>\n",
       "      <td>AL803</td>\n",
       "      <td>Software Design with Mobile Apps and Connected...</td>\n",
       "      <td>309</td>\n",
       "      <td>337</td>\n",
       "      <td></td>\n",
       "    </tr>\n",
       "  </tbody>\n",
       "</table>\n",
       "</div>"
      ],
      "text/plain": [
       "                                 code  \\\n",
       "0  Course Code INSTITUTION and COURSE   \n",
       "1                                       \n",
       "2                               AL801   \n",
       "3                               AL802   \n",
       "4                               AL803   \n",
       "\n",
       "                                         course name  EOS  Mid test  \n",
       "0                                                     EOS  Mid       \n",
       "1                    Athlone Institute of Technology                 \n",
       "2    Software Design with Virtual Reality and Gaming  304  328       \n",
       "3               Software Design with Cloud Computing  301  306       \n",
       "4  Software Design with Mobile Apps and Connected...  309  337       "
      ]
     },
     "execution_count": 37,
     "metadata": {},
     "output_type": "execute_result"
    }
   ],
   "source": [
    "#Restart index\n",
    "df2019 = df2019.reset_index(drop=True)\n",
    "df2019.head()"
   ]
  },
  {
   "cell_type": "code",
   "execution_count": 38,
   "id": "01ab3a27-7a48-48a3-a352-15313a409c7d",
   "metadata": {},
   "outputs": [],
   "source": [
    "#If no value in column 'code', remove row\n",
    "#Also, remove first row with messed up headers\n",
    "df2019 = df2019[df2019.code != ''].drop(labels=[0], axis=0)"
   ]
  },
  {
   "cell_type": "code",
   "execution_count": 39,
   "id": "80530b0a-bc01-4698-9ffb-01a68eb7320b",
   "metadata": {},
   "outputs": [
    {
     "data": {
      "text/html": [
       "<div>\n",
       "<style scoped>\n",
       "    .dataframe tbody tr th:only-of-type {\n",
       "        vertical-align: middle;\n",
       "    }\n",
       "\n",
       "    .dataframe tbody tr th {\n",
       "        vertical-align: top;\n",
       "    }\n",
       "\n",
       "    .dataframe thead th {\n",
       "        text-align: right;\n",
       "    }\n",
       "</style>\n",
       "<table border=\"1\" class=\"dataframe\">\n",
       "  <thead>\n",
       "    <tr style=\"text-align: right;\">\n",
       "      <th></th>\n",
       "      <th>code</th>\n",
       "      <th>course name</th>\n",
       "      <th>EOS</th>\n",
       "      <th>Mid</th>\n",
       "      <th>test</th>\n",
       "    </tr>\n",
       "  </thead>\n",
       "  <tbody>\n",
       "    <tr>\n",
       "      <th>2</th>\n",
       "      <td>AL801</td>\n",
       "      <td>Software Design with Virtual Reality and Gaming</td>\n",
       "      <td>304</td>\n",
       "      <td>328</td>\n",
       "      <td></td>\n",
       "    </tr>\n",
       "    <tr>\n",
       "      <th>3</th>\n",
       "      <td>AL802</td>\n",
       "      <td>Software Design with Cloud Computing</td>\n",
       "      <td>301</td>\n",
       "      <td>306</td>\n",
       "      <td></td>\n",
       "    </tr>\n",
       "    <tr>\n",
       "      <th>4</th>\n",
       "      <td>AL803</td>\n",
       "      <td>Software Design with Mobile Apps and Connected...</td>\n",
       "      <td>309</td>\n",
       "      <td>337</td>\n",
       "      <td></td>\n",
       "    </tr>\n",
       "    <tr>\n",
       "      <th>5</th>\n",
       "      <td>AL805</td>\n",
       "      <td>Network Management and Cloud Infrastructure</td>\n",
       "      <td>329</td>\n",
       "      <td>442</td>\n",
       "      <td></td>\n",
       "    </tr>\n",
       "    <tr>\n",
       "      <th>6</th>\n",
       "      <td>AL810</td>\n",
       "      <td>Quantity Surveying</td>\n",
       "      <td>307</td>\n",
       "      <td>349</td>\n",
       "      <td></td>\n",
       "    </tr>\n",
       "  </tbody>\n",
       "</table>\n",
       "</div>"
      ],
      "text/plain": [
       "    code                                        course name  EOS  Mid test\n",
       "2  AL801    Software Design with Virtual Reality and Gaming  304  328     \n",
       "3  AL802               Software Design with Cloud Computing  301  306     \n",
       "4  AL803  Software Design with Mobile Apps and Connected...  309  337     \n",
       "5  AL805        Network Management and Cloud Infrastructure  329  442     \n",
       "6  AL810                                 Quantity Surveying  307  349     "
      ]
     },
     "execution_count": 39,
     "metadata": {},
     "output_type": "execute_result"
    }
   ],
   "source": [
    "df2019.head()"
   ]
  },
  {
   "cell_type": "code",
   "execution_count": 40,
   "id": "a535899d-00f3-45da-9c9e-65ebbd3a78a1",
   "metadata": {},
   "outputs": [],
   "source": [
    "#Camelot read some empty values as empty strings\n",
    "#We replace these with 0 for points columns\n",
    "df2019[['EOS','Mid']] = df2019[['EOS','Mid']].replace('',0).fillna(0)"
   ]
  },
  {
   "cell_type": "code",
   "execution_count": 41,
   "id": "134ae47f-f1d1-440d-9e5c-51127ec20cb8",
   "metadata": {},
   "outputs": [
    {
     "data": {
      "text/plain": [
       "code                   AD217\n",
       "course name     Illustration\n",
       "EOS            # +matric 625\n",
       "Mid                        0\n",
       "test                        \n",
       "Name: 440, dtype: object"
      ]
     },
     "execution_count": 41,
     "metadata": {},
     "output_type": "execute_result"
    }
   ],
   "source": [
    "#Check known value\n",
    "df2019.loc[440]"
   ]
  },
  {
   "cell_type": "code",
   "execution_count": 42,
   "id": "750566b7-3eaa-44af-99fe-8fa6c0988875",
   "metadata": {},
   "outputs": [],
   "source": [
    "#Remove '*' characters\n",
    "df2019 = df2019.replace('\\*','', regex=True)"
   ]
  },
  {
   "cell_type": "code",
   "execution_count": 43,
   "id": "a56e706b-4b77-4aad-b0de-0f4ec89b3c0e",
   "metadata": {},
   "outputs": [
    {
     "data": {
      "text/plain": [
       "code              CK201\n",
       "course name    Commerce\n",
       "EOS                 465\n",
       "Mid                 489\n",
       "test                   \n",
       "Name: 130, dtype: object"
      ]
     },
     "execution_count": 43,
     "metadata": {},
     "output_type": "execute_result"
    }
   ],
   "source": [
    "#Check known value\n",
    "df2019.loc[130]"
   ]
  },
  {
   "cell_type": "code",
   "execution_count": 44,
   "id": "7f08a958-ca4f-4a1d-8b17-dcef65b418a3",
   "metadata": {},
   "outputs": [],
   "source": [
    "#Replace the expression '#\\+matric ' with '#'\n",
    "#They seem to refer to the same thing\n",
    "df2019 = df2019.replace('# \\+matric ','#', regex=True)"
   ]
  },
  {
   "cell_type": "code",
   "execution_count": 45,
   "id": "c55d0bbd-4989-42ee-aef6-46485922f847",
   "metadata": {},
   "outputs": [
    {
     "data": {
      "text/plain": [
       "code                  AD217\n",
       "course name    Illustration\n",
       "EOS                    #625\n",
       "Mid                       0\n",
       "test                       \n",
       "Name: 440, dtype: object"
      ]
     },
     "execution_count": 45,
     "metadata": {},
     "output_type": "execute_result"
    }
   ],
   "source": [
    "#Check known value\n",
    "df2019.loc[440]"
   ]
  },
  {
   "cell_type": "code",
   "execution_count": 46,
   "id": "ee445379-cbad-4911-bbd1-04e692cfefea",
   "metadata": {},
   "outputs": [],
   "source": [
    "#If '#' values in EOS column, add it to test column\n",
    "df2019.loc[df2019.EOS == '#', 'test'] = '#'"
   ]
  },
  {
   "cell_type": "code",
   "execution_count": 47,
   "id": "d2e0b460-5acb-405d-bdb8-1b2fe64ef75c",
   "metadata": {},
   "outputs": [
    {
     "data": {
      "text/plain": [
       "code                                                       TL889\n",
       "course name    Counselling with Addiction - Mature applicants...\n",
       "EOS                                                            #\n",
       "Mid                                                            0\n",
       "test                                                           #\n",
       "Name: 925, dtype: object"
      ]
     },
     "execution_count": 47,
     "metadata": {},
     "output_type": "execute_result"
    }
   ],
   "source": [
    "#Check known value\n",
    "df2019.loc[925]"
   ]
  },
  {
   "cell_type": "code",
   "execution_count": 48,
   "id": "3d2c6300-6975-44ff-b22e-bba9f1359014",
   "metadata": {},
   "outputs": [],
   "source": [
    "#Replace '#' values from EOS column with 0\n",
    "df2019['EOS'] = df2019['EOS'].replace('#',0)"
   ]
  },
  {
   "cell_type": "code",
   "execution_count": 49,
   "id": "5e5a61c3-f8c0-425e-aa95-98984266f25e",
   "metadata": {},
   "outputs": [
    {
     "data": {
      "text/plain": [
       "code                                                       TL889\n",
       "course name    Counselling with Addiction - Mature applicants...\n",
       "EOS                                                            0\n",
       "Mid                                                            0\n",
       "test                                                           #\n",
       "Name: 925, dtype: object"
      ]
     },
     "execution_count": 49,
     "metadata": {},
     "output_type": "execute_result"
    }
   ],
   "source": [
    "#Check known value\n",
    "df2019.loc[925]"
   ]
  },
  {
   "cell_type": "code",
   "execution_count": 50,
   "id": "0292550e-1150-489b-894e-32ce9bdba7ae",
   "metadata": {},
   "outputs": [],
   "source": [
    "#Move remaining '#' characters in EOS column to test column\n",
    "df2019.loc[df2019['EOS'].str.contains('#', na=False), 'test'] = '#'\n",
    "df2019['EOS'] = df2019['EOS'].str.replace('#', '')"
   ]
  },
  {
   "cell_type": "code",
   "execution_count": 51,
   "id": "2a7e8024-f23e-4918-b207-312c19103174",
   "metadata": {},
   "outputs": [
    {
     "data": {
      "text/plain": [
       "code                                         LM026\n",
       "course name    Performing Arts (audition required)\n",
       "EOS                                            307\n",
       "Mid                                            367\n",
       "test                                             #\n",
       "Name: 783, dtype: object"
      ]
     },
     "execution_count": 51,
     "metadata": {},
     "output_type": "execute_result"
    }
   ],
   "source": [
    "#Check known value\n",
    "df2019.loc[783]"
   ]
  },
  {
   "cell_type": "markdown",
   "id": "bc37771b-94d0-44cb-a101-e6e83a6ec01a",
   "metadata": {},
   "source": [
    "**NB:** In the original dataset, '\\ +matric' values were in the EOS column and Mid points were provided in the Mid column for rows 432-438, 440 and 441. Camelot read it wrongly and put what was supposed to be in the Mid column in the EOS column."
   ]
  },
  {
   "cell_type": "code",
   "execution_count": 52,
   "id": "a9dbed6d-5503-4f0c-8d95-1265505b9c95",
   "metadata": {},
   "outputs": [
    {
     "data": {
      "text/plain": [
       "code                  AD217\n",
       "course name    Illustration\n",
       "EOS                     625\n",
       "Mid                       0\n",
       "test                      #\n",
       "Name: 440, dtype: object"
      ]
     },
     "execution_count": 52,
     "metadata": {},
     "output_type": "execute_result"
    }
   ],
   "source": [
    "df2019.loc[440]"
   ]
  },
  {
   "cell_type": "code",
   "execution_count": 53,
   "id": "d2f9c674-39a1-426e-8ff6-dddbd1c3eaa2",
   "metadata": {},
   "outputs": [],
   "source": [
    "#Swap values between columns for selected rows\n",
    "df2019.loc[[432,433,434,435,436,437,438,440,441],['EOS','Mid']] = df2019.loc[[432,433,434,435,436,437,438,440,441],['Mid','EOS']].values"
   ]
  },
  {
   "cell_type": "code",
   "execution_count": 54,
   "id": "0f914b91-06f3-4151-8fc2-fc6918a9f2dc",
   "metadata": {},
   "outputs": [
    {
     "data": {
      "text/plain": [
       "code                  AD217\n",
       "course name    Illustration\n",
       "EOS                       0\n",
       "Mid                     625\n",
       "test                      #\n",
       "Name: 440, dtype: object"
      ]
     },
     "execution_count": 54,
     "metadata": {},
     "output_type": "execute_result"
    }
   ],
   "source": [
    "df2019.loc[440]"
   ]
  },
  {
   "cell_type": "code",
   "execution_count": 55,
   "id": "d8de091f-7031-4604-a88f-db2ec255d4ec",
   "metadata": {},
   "outputs": [],
   "source": [
    "df2019 = df2019.astype({'EOS': float, 'Mid': float})"
   ]
  },
  {
   "cell_type": "code",
   "execution_count": 56,
   "id": "9cb72ba5-d909-447c-ba9e-39f22f22362f",
   "metadata": {},
   "outputs": [
    {
     "data": {
      "text/plain": [
       "dtype('float64')"
      ]
     },
     "execution_count": 56,
     "metadata": {},
     "output_type": "execute_result"
    }
   ],
   "source": [
    "df2019['Mid'].dtypes"
   ]
  },
  {
   "cell_type": "code",
   "execution_count": 57,
   "id": "07ae02f8-909c-48ef-b531-91a0d03b26f2",
   "metadata": {},
   "outputs": [
    {
     "data": {
      "text/html": [
       "<div>\n",
       "<style scoped>\n",
       "    .dataframe tbody tr th:only-of-type {\n",
       "        vertical-align: middle;\n",
       "    }\n",
       "\n",
       "    .dataframe tbody tr th {\n",
       "        vertical-align: top;\n",
       "    }\n",
       "\n",
       "    .dataframe thead th {\n",
       "        text-align: right;\n",
       "    }\n",
       "</style>\n",
       "<table border=\"1\" class=\"dataframe\">\n",
       "  <thead>\n",
       "    <tr style=\"text-align: right;\">\n",
       "      <th></th>\n",
       "      <th>code</th>\n",
       "      <th>course name</th>\n",
       "      <th>EOS</th>\n",
       "      <th>Mid</th>\n",
       "      <th>test</th>\n",
       "    </tr>\n",
       "  </thead>\n",
       "  <tbody>\n",
       "    <tr>\n",
       "      <th>2</th>\n",
       "      <td>AL801</td>\n",
       "      <td>Software Design with Virtual Reality and Gaming</td>\n",
       "      <td>304.0</td>\n",
       "      <td>328.0</td>\n",
       "      <td>no</td>\n",
       "    </tr>\n",
       "    <tr>\n",
       "      <th>3</th>\n",
       "      <td>AL802</td>\n",
       "      <td>Software Design with Cloud Computing</td>\n",
       "      <td>301.0</td>\n",
       "      <td>306.0</td>\n",
       "      <td>no</td>\n",
       "    </tr>\n",
       "    <tr>\n",
       "      <th>4</th>\n",
       "      <td>AL803</td>\n",
       "      <td>Software Design with Mobile Apps and Connected...</td>\n",
       "      <td>309.0</td>\n",
       "      <td>337.0</td>\n",
       "      <td>no</td>\n",
       "    </tr>\n",
       "    <tr>\n",
       "      <th>5</th>\n",
       "      <td>AL805</td>\n",
       "      <td>Network Management and Cloud Infrastructure</td>\n",
       "      <td>329.0</td>\n",
       "      <td>442.0</td>\n",
       "      <td>no</td>\n",
       "    </tr>\n",
       "    <tr>\n",
       "      <th>6</th>\n",
       "      <td>AL810</td>\n",
       "      <td>Quantity Surveying</td>\n",
       "      <td>307.0</td>\n",
       "      <td>349.0</td>\n",
       "      <td>no</td>\n",
       "    </tr>\n",
       "  </tbody>\n",
       "</table>\n",
       "</div>"
      ],
      "text/plain": [
       "    code                                        course name    EOS    Mid test\n",
       "2  AL801    Software Design with Virtual Reality and Gaming  304.0  328.0   no\n",
       "3  AL802               Software Design with Cloud Computing  301.0  306.0   no\n",
       "4  AL803  Software Design with Mobile Apps and Connected...  309.0  337.0   no\n",
       "5  AL805        Network Management and Cloud Infrastructure  329.0  442.0   no\n",
       "6  AL810                                 Quantity Surveying  307.0  349.0   no"
      ]
     },
     "execution_count": 57,
     "metadata": {},
     "output_type": "execute_result"
    }
   ],
   "source": [
    "#Replace '' values in column test with 'no', and '#' values with string 'yes'\n",
    "#Eventual NaN values also to be replaced with 'no'\n",
    "df2019['test'] = df2019['test'].replace(['#',''],['yes','no']).fillna('no')\n",
    "df2019.head()"
   ]
  },
  {
   "cell_type": "code",
   "execution_count": 58,
   "id": "c61564fa-7699-4187-b5e1-966f2ccd0359",
   "metadata": {},
   "outputs": [
    {
     "data": {
      "text/plain": [
       "code                  AD217\n",
       "course name    Illustration\n",
       "EOS                     0.0\n",
       "Mid                   625.0\n",
       "test                    yes\n",
       "Name: 440, dtype: object"
      ]
     },
     "execution_count": 58,
     "metadata": {},
     "output_type": "execute_result"
    }
   ],
   "source": [
    "#Check known value\n",
    "df2019.loc[440]"
   ]
  },
  {
   "cell_type": "code",
   "execution_count": 59,
   "id": "e34223eb-623e-4273-9a32-3e3e9178411f",
   "metadata": {},
   "outputs": [],
   "source": [
    "pathcsv2019 = 'data/2019/cao2019_' + nowstr + '.csv'"
   ]
  },
  {
   "cell_type": "code",
   "execution_count": 60,
   "id": "ad4a0500-b31c-4812-b0eb-2b037ad9b264",
   "metadata": {},
   "outputs": [],
   "source": [
    "df2019.to_csv(pathcsv2019)"
   ]
  },
  {
   "cell_type": "markdown",
   "id": "cef7e010-62b4-43ac-b653-2d32529c1746",
   "metadata": {},
   "source": [
    "## Consolidating data frames"
   ]
  },
  {
   "cell_type": "code",
   "execution_count": 61,
   "id": "25118a40-77db-43ee-9535-d02a0cc4a48c",
   "metadata": {},
   "outputs": [
    {
     "data": {
      "text/html": [
       "<div>\n",
       "<style scoped>\n",
       "    .dataframe tbody tr th:only-of-type {\n",
       "        vertical-align: middle;\n",
       "    }\n",
       "\n",
       "    .dataframe tbody tr th {\n",
       "        vertical-align: top;\n",
       "    }\n",
       "\n",
       "    .dataframe thead th {\n",
       "        text-align: right;\n",
       "    }\n",
       "</style>\n",
       "<table border=\"1\" class=\"dataframe\">\n",
       "  <thead>\n",
       "    <tr style=\"text-align: right;\">\n",
       "      <th></th>\n",
       "      <th>code</th>\n",
       "      <th>course name</th>\n",
       "    </tr>\n",
       "  </thead>\n",
       "  <tbody>\n",
       "    <tr>\n",
       "      <th>29</th>\n",
       "      <td>AL801</td>\n",
       "      <td>Software Design for Virtual Reality and Gaming</td>\n",
       "    </tr>\n",
       "    <tr>\n",
       "      <th>30</th>\n",
       "      <td>AL802</td>\n",
       "      <td>Software Design in Artificial Intelligence for...</td>\n",
       "    </tr>\n",
       "    <tr>\n",
       "      <th>31</th>\n",
       "      <td>AL803</td>\n",
       "      <td>Software Design for Mobile Apps and Connected ...</td>\n",
       "    </tr>\n",
       "    <tr>\n",
       "      <th>32</th>\n",
       "      <td>AL805</td>\n",
       "      <td>Computer Engineering for Network Infrastructure</td>\n",
       "    </tr>\n",
       "    <tr>\n",
       "      <th>33</th>\n",
       "      <td>AL810</td>\n",
       "      <td>Quantity Surveying</td>\n",
       "    </tr>\n",
       "  </tbody>\n",
       "</table>\n",
       "</div>"
      ],
      "text/plain": [
       "     code                                        course name\n",
       "29  AL801     Software Design for Virtual Reality and Gaming\n",
       "30  AL802  Software Design in Artificial Intelligence for...\n",
       "31  AL803  Software Design for Mobile Apps and Connected ...\n",
       "32  AL805    Computer Engineering for Network Infrastructure\n",
       "33  AL810                                 Quantity Surveying"
      ]
     },
     "execution_count": 61,
     "metadata": {},
     "output_type": "execute_result"
    }
   ],
   "source": [
    "courses2021 = df2021[['code', 'course name']]\n",
    "courses2021.head()"
   ]
  },
  {
   "cell_type": "code",
   "execution_count": 62,
   "id": "5b79c167-ea15-4e2e-9072-e0e21ad97182",
   "metadata": {},
   "outputs": [
    {
     "data": {
      "text/html": [
       "<div>\n",
       "<style scoped>\n",
       "    .dataframe tbody tr th:only-of-type {\n",
       "        vertical-align: middle;\n",
       "    }\n",
       "\n",
       "    .dataframe tbody tr th {\n",
       "        vertical-align: top;\n",
       "    }\n",
       "\n",
       "    .dataframe thead th {\n",
       "        text-align: right;\n",
       "    }\n",
       "</style>\n",
       "<table border=\"1\" class=\"dataframe\">\n",
       "  <thead>\n",
       "    <tr style=\"text-align: right;\">\n",
       "      <th></th>\n",
       "      <th>code</th>\n",
       "      <th>course name</th>\n",
       "    </tr>\n",
       "  </thead>\n",
       "  <tbody>\n",
       "    <tr>\n",
       "      <th>0</th>\n",
       "      <td>AC120</td>\n",
       "      <td>International Business</td>\n",
       "    </tr>\n",
       "    <tr>\n",
       "      <th>1</th>\n",
       "      <td>AC137</td>\n",
       "      <td>Liberal Arts</td>\n",
       "    </tr>\n",
       "    <tr>\n",
       "      <th>2</th>\n",
       "      <td>AD101</td>\n",
       "      <td>First Year Art &amp; Design (Common Entry,portfolio)</td>\n",
       "    </tr>\n",
       "    <tr>\n",
       "      <th>3</th>\n",
       "      <td>AD102</td>\n",
       "      <td>Graphic Design and Moving Image Design (portfo...</td>\n",
       "    </tr>\n",
       "    <tr>\n",
       "      <th>4</th>\n",
       "      <td>AD103</td>\n",
       "      <td>Textile &amp; Surface Design and Jewellery &amp; Objec...</td>\n",
       "    </tr>\n",
       "  </tbody>\n",
       "</table>\n",
       "</div>"
      ],
      "text/plain": [
       "    code                                        course name\n",
       "0  AC120                             International Business\n",
       "1  AC137                                       Liberal Arts\n",
       "2  AD101   First Year Art & Design (Common Entry,portfolio)\n",
       "3  AD102  Graphic Design and Moving Image Design (portfo...\n",
       "4  AD103  Textile & Surface Design and Jewellery & Objec..."
      ]
     },
     "execution_count": 62,
     "metadata": {},
     "output_type": "execute_result"
    }
   ],
   "source": [
    "courses2020 = df2020[['code', 'course name']]\n",
    "courses2020.head()"
   ]
  },
  {
   "cell_type": "code",
   "execution_count": 63,
   "id": "4bfc9f8f-44c3-4196-a333-5b8d1d9464d4",
   "metadata": {},
   "outputs": [
    {
     "data": {
      "text/html": [
       "<div>\n",
       "<style scoped>\n",
       "    .dataframe tbody tr th:only-of-type {\n",
       "        vertical-align: middle;\n",
       "    }\n",
       "\n",
       "    .dataframe tbody tr th {\n",
       "        vertical-align: top;\n",
       "    }\n",
       "\n",
       "    .dataframe thead th {\n",
       "        text-align: right;\n",
       "    }\n",
       "</style>\n",
       "<table border=\"1\" class=\"dataframe\">\n",
       "  <thead>\n",
       "    <tr style=\"text-align: right;\">\n",
       "      <th></th>\n",
       "      <th>code</th>\n",
       "      <th>course name</th>\n",
       "    </tr>\n",
       "  </thead>\n",
       "  <tbody>\n",
       "    <tr>\n",
       "      <th>2</th>\n",
       "      <td>AL801</td>\n",
       "      <td>Software Design with Virtual Reality and Gaming</td>\n",
       "    </tr>\n",
       "    <tr>\n",
       "      <th>3</th>\n",
       "      <td>AL802</td>\n",
       "      <td>Software Design with Cloud Computing</td>\n",
       "    </tr>\n",
       "    <tr>\n",
       "      <th>4</th>\n",
       "      <td>AL803</td>\n",
       "      <td>Software Design with Mobile Apps and Connected...</td>\n",
       "    </tr>\n",
       "    <tr>\n",
       "      <th>5</th>\n",
       "      <td>AL805</td>\n",
       "      <td>Network Management and Cloud Infrastructure</td>\n",
       "    </tr>\n",
       "    <tr>\n",
       "      <th>6</th>\n",
       "      <td>AL810</td>\n",
       "      <td>Quantity Surveying</td>\n",
       "    </tr>\n",
       "  </tbody>\n",
       "</table>\n",
       "</div>"
      ],
      "text/plain": [
       "    code                                        course name\n",
       "2  AL801    Software Design with Virtual Reality and Gaming\n",
       "3  AL802               Software Design with Cloud Computing\n",
       "4  AL803  Software Design with Mobile Apps and Connected...\n",
       "5  AL805        Network Management and Cloud Infrastructure\n",
       "6  AL810                                 Quantity Surveying"
      ]
     },
     "execution_count": 63,
     "metadata": {},
     "output_type": "execute_result"
    }
   ],
   "source": [
    "courses2019 = df2019[['code', 'course name']]\n",
    "courses2019.head()"
   ]
  },
  {
   "cell_type": "code",
   "execution_count": 64,
   "id": "1e9dd472-8358-4984-8b34-8e8303fbad1c",
   "metadata": {},
   "outputs": [
    {
     "data": {
      "text/html": [
       "<div>\n",
       "<style scoped>\n",
       "    .dataframe tbody tr th:only-of-type {\n",
       "        vertical-align: middle;\n",
       "    }\n",
       "\n",
       "    .dataframe tbody tr th {\n",
       "        vertical-align: top;\n",
       "    }\n",
       "\n",
       "    .dataframe thead th {\n",
       "        text-align: right;\n",
       "    }\n",
       "</style>\n",
       "<table border=\"1\" class=\"dataframe\">\n",
       "  <thead>\n",
       "    <tr style=\"text-align: right;\">\n",
       "      <th></th>\n",
       "      <th>code</th>\n",
       "      <th>course name</th>\n",
       "    </tr>\n",
       "  </thead>\n",
       "  <tbody>\n",
       "    <tr>\n",
       "      <th>0</th>\n",
       "      <td>AL801</td>\n",
       "      <td>Software Design for Virtual Reality and Gaming</td>\n",
       "    </tr>\n",
       "    <tr>\n",
       "      <th>1</th>\n",
       "      <td>AL802</td>\n",
       "      <td>Software Design in Artificial Intelligence for...</td>\n",
       "    </tr>\n",
       "    <tr>\n",
       "      <th>2</th>\n",
       "      <td>AL803</td>\n",
       "      <td>Software Design for Mobile Apps and Connected ...</td>\n",
       "    </tr>\n",
       "    <tr>\n",
       "      <th>3</th>\n",
       "      <td>AL805</td>\n",
       "      <td>Computer Engineering for Network Infrastructure</td>\n",
       "    </tr>\n",
       "    <tr>\n",
       "      <th>4</th>\n",
       "      <td>AL810</td>\n",
       "      <td>Quantity Surveying</td>\n",
       "    </tr>\n",
       "    <tr>\n",
       "      <th>...</th>\n",
       "      <td>...</td>\n",
       "      <td>...</td>\n",
       "    </tr>\n",
       "    <tr>\n",
       "      <th>2986</th>\n",
       "      <td>WD200</td>\n",
       "      <td>Arts (options)</td>\n",
       "    </tr>\n",
       "    <tr>\n",
       "      <th>2987</th>\n",
       "      <td>WD210</td>\n",
       "      <td>Software Systems Development</td>\n",
       "    </tr>\n",
       "    <tr>\n",
       "      <th>2988</th>\n",
       "      <td>WD211</td>\n",
       "      <td>Creative Computing</td>\n",
       "    </tr>\n",
       "    <tr>\n",
       "      <th>2989</th>\n",
       "      <td>WD212</td>\n",
       "      <td>Recreation and Sport Management</td>\n",
       "    </tr>\n",
       "    <tr>\n",
       "      <th>2990</th>\n",
       "      <td>WD230</td>\n",
       "      <td>Mechanical and Manufacturing Engineering</td>\n",
       "    </tr>\n",
       "  </tbody>\n",
       "</table>\n",
       "<p>2991 rows × 2 columns</p>\n",
       "</div>"
      ],
      "text/plain": [
       "       code                                        course name\n",
       "0     AL801     Software Design for Virtual Reality and Gaming\n",
       "1     AL802  Software Design in Artificial Intelligence for...\n",
       "2     AL803  Software Design for Mobile Apps and Connected ...\n",
       "3     AL805    Computer Engineering for Network Infrastructure\n",
       "4     AL810                                 Quantity Surveying\n",
       "...     ...                                                ...\n",
       "2986  WD200                                     Arts (options)\n",
       "2987  WD210                       Software Systems Development\n",
       "2988  WD211                                 Creative Computing\n",
       "2989  WD212                    Recreation and Sport Management\n",
       "2990  WD230           Mechanical and Manufacturing Engineering\n",
       "\n",
       "[2991 rows x 2 columns]"
      ]
     },
     "execution_count": 64,
     "metadata": {},
     "output_type": "execute_result"
    }
   ],
   "source": [
    "allcourses = pd.concat([courses2021, courses2020, courses2019], ignore_index=True)\n",
    "allcourses"
   ]
  },
  {
   "cell_type": "code",
   "execution_count": 65,
   "id": "60cd69db-a53a-4a15-bcfa-4a89f482249e",
   "metadata": {},
   "outputs": [
    {
     "data": {
      "text/html": [
       "<div>\n",
       "<style scoped>\n",
       "    .dataframe tbody tr th:only-of-type {\n",
       "        vertical-align: middle;\n",
       "    }\n",
       "\n",
       "    .dataframe tbody tr th {\n",
       "        vertical-align: top;\n",
       "    }\n",
       "\n",
       "    .dataframe thead th {\n",
       "        text-align: right;\n",
       "    }\n",
       "</style>\n",
       "<table border=\"1\" class=\"dataframe\">\n",
       "  <thead>\n",
       "    <tr style=\"text-align: right;\">\n",
       "      <th></th>\n",
       "      <th>code</th>\n",
       "      <th>course name</th>\n",
       "    </tr>\n",
       "  </thead>\n",
       "  <tbody>\n",
       "    <tr>\n",
       "      <th>1034</th>\n",
       "      <td>AC120</td>\n",
       "      <td>International Business</td>\n",
       "    </tr>\n",
       "    <tr>\n",
       "      <th>2229</th>\n",
       "      <td>AC120</td>\n",
       "      <td>International Business</td>\n",
       "    </tr>\n",
       "    <tr>\n",
       "      <th>175</th>\n",
       "      <td>AC120</td>\n",
       "      <td>International Business</td>\n",
       "    </tr>\n",
       "    <tr>\n",
       "      <th>1035</th>\n",
       "      <td>AC137</td>\n",
       "      <td>Liberal Arts</td>\n",
       "    </tr>\n",
       "    <tr>\n",
       "      <th>2230</th>\n",
       "      <td>AC137</td>\n",
       "      <td>Liberal Arts</td>\n",
       "    </tr>\n",
       "    <tr>\n",
       "      <th>...</th>\n",
       "      <td>...</td>\n",
       "      <td>...</td>\n",
       "    </tr>\n",
       "    <tr>\n",
       "      <th>2990</th>\n",
       "      <td>WD230</td>\n",
       "      <td>Mechanical and Manufacturing Engineering</td>\n",
       "    </tr>\n",
       "    <tr>\n",
       "      <th>2060</th>\n",
       "      <td>WD230</td>\n",
       "      <td>Mechanical and Manufacturing Engineering</td>\n",
       "    </tr>\n",
       "    <tr>\n",
       "      <th>1031</th>\n",
       "      <td>WD230</td>\n",
       "      <td>Mechanical and Manufacturing Engineering</td>\n",
       "    </tr>\n",
       "    <tr>\n",
       "      <th>1032</th>\n",
       "      <td>WD231</td>\n",
       "      <td>Early Childhood Care and Education</td>\n",
       "    </tr>\n",
       "    <tr>\n",
       "      <th>1033</th>\n",
       "      <td>WD232</td>\n",
       "      <td>Business Information Systems</td>\n",
       "    </tr>\n",
       "  </tbody>\n",
       "</table>\n",
       "<p>2991 rows × 2 columns</p>\n",
       "</div>"
      ],
      "text/plain": [
       "       code                               course name\n",
       "1034  AC120                    International Business\n",
       "2229  AC120                    International Business\n",
       "175   AC120                    International Business\n",
       "1035  AC137                              Liberal Arts\n",
       "2230  AC137                              Liberal Arts\n",
       "...     ...                                       ...\n",
       "2990  WD230  Mechanical and Manufacturing Engineering\n",
       "2060  WD230  Mechanical and Manufacturing Engineering\n",
       "1031  WD230  Mechanical and Manufacturing Engineering\n",
       "1032  WD231        Early Childhood Care and Education\n",
       "1033  WD232              Business Information Systems\n",
       "\n",
       "[2991 rows x 2 columns]"
      ]
     },
     "execution_count": 65,
     "metadata": {},
     "output_type": "execute_result"
    }
   ],
   "source": [
    "allcourses.sort_values('code')"
   ]
  },
  {
   "cell_type": "code",
   "execution_count": 66,
   "id": "9dd73f4d-2c4f-4cd2-914c-9afa29d0924f",
   "metadata": {},
   "outputs": [
    {
     "data": {
      "text/html": [
       "<div>\n",
       "<style scoped>\n",
       "    .dataframe tbody tr th:only-of-type {\n",
       "        vertical-align: middle;\n",
       "    }\n",
       "\n",
       "    .dataframe tbody tr th {\n",
       "        vertical-align: top;\n",
       "    }\n",
       "\n",
       "    .dataframe thead th {\n",
       "        text-align: right;\n",
       "    }\n",
       "</style>\n",
       "<table border=\"1\" class=\"dataframe\">\n",
       "  <thead>\n",
       "    <tr style=\"text-align: right;\">\n",
       "      <th></th>\n",
       "      <th>code</th>\n",
       "      <th>course name</th>\n",
       "    </tr>\n",
       "  </thead>\n",
       "  <tbody>\n",
       "    <tr>\n",
       "      <th>1034</th>\n",
       "      <td>AC120</td>\n",
       "      <td>International Business</td>\n",
       "    </tr>\n",
       "    <tr>\n",
       "      <th>1035</th>\n",
       "      <td>AC137</td>\n",
       "      <td>Liberal Arts</td>\n",
       "    </tr>\n",
       "    <tr>\n",
       "      <th>1037</th>\n",
       "      <td>AD102</td>\n",
       "      <td>Graphic Design and Moving Image Design (portfo...</td>\n",
       "    </tr>\n",
       "    <tr>\n",
       "      <th>1040</th>\n",
       "      <td>AD204</td>\n",
       "      <td>Fine Art (portfolio)</td>\n",
       "    </tr>\n",
       "    <tr>\n",
       "      <th>1041</th>\n",
       "      <td>AD211</td>\n",
       "      <td>Fashion Design (portfolio)</td>\n",
       "    </tr>\n",
       "    <tr>\n",
       "      <th>...</th>\n",
       "      <td>...</td>\n",
       "      <td>...</td>\n",
       "    </tr>\n",
       "    <tr>\n",
       "      <th>2986</th>\n",
       "      <td>WD200</td>\n",
       "      <td>Arts (options)</td>\n",
       "    </tr>\n",
       "    <tr>\n",
       "      <th>2987</th>\n",
       "      <td>WD210</td>\n",
       "      <td>Software Systems Development</td>\n",
       "    </tr>\n",
       "    <tr>\n",
       "      <th>2988</th>\n",
       "      <td>WD211</td>\n",
       "      <td>Creative Computing</td>\n",
       "    </tr>\n",
       "    <tr>\n",
       "      <th>2989</th>\n",
       "      <td>WD212</td>\n",
       "      <td>Recreation and Sport Management</td>\n",
       "    </tr>\n",
       "    <tr>\n",
       "      <th>2990</th>\n",
       "      <td>WD230</td>\n",
       "      <td>Mechanical and Manufacturing Engineering</td>\n",
       "    </tr>\n",
       "  </tbody>\n",
       "</table>\n",
       "<p>1570 rows × 2 columns</p>\n",
       "</div>"
      ],
      "text/plain": [
       "       code                                        course name\n",
       "1034  AC120                             International Business\n",
       "1035  AC137                                       Liberal Arts\n",
       "1037  AD102  Graphic Design and Moving Image Design (portfo...\n",
       "1040  AD204                               Fine Art (portfolio)\n",
       "1041  AD211                         Fashion Design (portfolio)\n",
       "...     ...                                                ...\n",
       "2986  WD200                                     Arts (options)\n",
       "2987  WD210                       Software Systems Development\n",
       "2988  WD211                                 Creative Computing\n",
       "2989  WD212                    Recreation and Sport Management\n",
       "2990  WD230           Mechanical and Manufacturing Engineering\n",
       "\n",
       "[1570 rows x 2 columns]"
      ]
     },
     "execution_count": 66,
     "metadata": {},
     "output_type": "execute_result"
    }
   ],
   "source": [
    "# Finds all extra copies of duplicated rows.\n",
    "allcourses[allcourses.duplicated()]"
   ]
  },
  {
   "cell_type": "code",
   "execution_count": 67,
   "id": "b0851491-3c9b-45b5-ab7e-ef0ef25b0cd7",
   "metadata": {},
   "outputs": [
    {
     "data": {
      "text/html": [
       "<div>\n",
       "<style scoped>\n",
       "    .dataframe tbody tr th:only-of-type {\n",
       "        vertical-align: middle;\n",
       "    }\n",
       "\n",
       "    .dataframe tbody tr th {\n",
       "        vertical-align: top;\n",
       "    }\n",
       "\n",
       "    .dataframe thead th {\n",
       "        text-align: right;\n",
       "    }\n",
       "</style>\n",
       "<table border=\"1\" class=\"dataframe\">\n",
       "  <thead>\n",
       "    <tr style=\"text-align: right;\">\n",
       "      <th></th>\n",
       "      <th>code</th>\n",
       "      <th>course name</th>\n",
       "    </tr>\n",
       "  </thead>\n",
       "  <tbody>\n",
       "    <tr>\n",
       "      <th>0</th>\n",
       "      <td>AL801</td>\n",
       "      <td>Software Design for Virtual Reality and Gaming</td>\n",
       "    </tr>\n",
       "    <tr>\n",
       "      <th>1</th>\n",
       "      <td>AL802</td>\n",
       "      <td>Software Design in Artificial Intelligence for...</td>\n",
       "    </tr>\n",
       "    <tr>\n",
       "      <th>2</th>\n",
       "      <td>AL803</td>\n",
       "      <td>Software Design for Mobile Apps and Connected ...</td>\n",
       "    </tr>\n",
       "    <tr>\n",
       "      <th>3</th>\n",
       "      <td>AL805</td>\n",
       "      <td>Computer Engineering for Network Infrastructure</td>\n",
       "    </tr>\n",
       "    <tr>\n",
       "      <th>4</th>\n",
       "      <td>AL810</td>\n",
       "      <td>Quantity Surveying</td>\n",
       "    </tr>\n",
       "    <tr>\n",
       "      <th>...</th>\n",
       "      <td>...</td>\n",
       "      <td>...</td>\n",
       "    </tr>\n",
       "    <tr>\n",
       "      <th>2929</th>\n",
       "      <td>TL801</td>\n",
       "      <td>Animation Visual Effects and Motion Design</td>\n",
       "    </tr>\n",
       "    <tr>\n",
       "      <th>2930</th>\n",
       "      <td>TL802</td>\n",
       "      <td>TV, Radio and New Media</td>\n",
       "    </tr>\n",
       "    <tr>\n",
       "      <th>2931</th>\n",
       "      <td>TL803</td>\n",
       "      <td>Music Technology</td>\n",
       "    </tr>\n",
       "    <tr>\n",
       "      <th>2934</th>\n",
       "      <td>TL812</td>\n",
       "      <td>Computing with Digital Media</td>\n",
       "    </tr>\n",
       "    <tr>\n",
       "      <th>2972</th>\n",
       "      <td>WD148</td>\n",
       "      <td>Tourism Marketing</td>\n",
       "    </tr>\n",
       "  </tbody>\n",
       "</table>\n",
       "<p>1421 rows × 2 columns</p>\n",
       "</div>"
      ],
      "text/plain": [
       "       code                                        course name\n",
       "0     AL801     Software Design for Virtual Reality and Gaming\n",
       "1     AL802  Software Design in Artificial Intelligence for...\n",
       "2     AL803  Software Design for Mobile Apps and Connected ...\n",
       "3     AL805    Computer Engineering for Network Infrastructure\n",
       "4     AL810                                 Quantity Surveying\n",
       "...     ...                                                ...\n",
       "2929  TL801         Animation Visual Effects and Motion Design\n",
       "2930  TL802                            TV, Radio and New Media\n",
       "2931  TL803                                   Music Technology\n",
       "2934  TL812                       Computing with Digital Media\n",
       "2972  WD148                                  Tourism Marketing\n",
       "\n",
       "[1421 rows x 2 columns]"
      ]
     },
     "execution_count": 67,
     "metadata": {},
     "output_type": "execute_result"
    }
   ],
   "source": [
    "# Returns a copy of the data frame with duplciates removed.\n",
    "allcourses.drop_duplicates()"
   ]
  },
  {
   "cell_type": "code",
   "execution_count": 68,
   "id": "c528e705-1d59-4358-95d9-365fea1249f1",
   "metadata": {},
   "outputs": [
    {
     "data": {
      "text/html": [
       "<div>\n",
       "<style scoped>\n",
       "    .dataframe tbody tr th:only-of-type {\n",
       "        vertical-align: middle;\n",
       "    }\n",
       "\n",
       "    .dataframe tbody tr th {\n",
       "        vertical-align: top;\n",
       "    }\n",
       "\n",
       "    .dataframe thead th {\n",
       "        text-align: right;\n",
       "    }\n",
       "</style>\n",
       "<table border=\"1\" class=\"dataframe\">\n",
       "  <thead>\n",
       "    <tr style=\"text-align: right;\">\n",
       "      <th></th>\n",
       "      <th>code</th>\n",
       "      <th>course name</th>\n",
       "    </tr>\n",
       "  </thead>\n",
       "  <tbody>\n",
       "    <tr>\n",
       "      <th>1034</th>\n",
       "      <td>AC120</td>\n",
       "      <td>International Business</td>\n",
       "    </tr>\n",
       "    <tr>\n",
       "      <th>1035</th>\n",
       "      <td>AC137</td>\n",
       "      <td>Liberal Arts</td>\n",
       "    </tr>\n",
       "    <tr>\n",
       "      <th>1036</th>\n",
       "      <td>AD101</td>\n",
       "      <td>First Year Art &amp; Design (Common Entry,portfolio)</td>\n",
       "    </tr>\n",
       "    <tr>\n",
       "      <th>1037</th>\n",
       "      <td>AD102</td>\n",
       "      <td>Graphic Design and Moving Image Design (portfo...</td>\n",
       "    </tr>\n",
       "    <tr>\n",
       "      <th>1038</th>\n",
       "      <td>AD103</td>\n",
       "      <td>Textile &amp; Surface Design and Jewellery &amp; Objec...</td>\n",
       "    </tr>\n",
       "    <tr>\n",
       "      <th>...</th>\n",
       "      <td>...</td>\n",
       "      <td>...</td>\n",
       "    </tr>\n",
       "    <tr>\n",
       "      <th>2986</th>\n",
       "      <td>WD200</td>\n",
       "      <td>Arts (options)</td>\n",
       "    </tr>\n",
       "    <tr>\n",
       "      <th>2987</th>\n",
       "      <td>WD210</td>\n",
       "      <td>Software Systems Development</td>\n",
       "    </tr>\n",
       "    <tr>\n",
       "      <th>2988</th>\n",
       "      <td>WD211</td>\n",
       "      <td>Creative Computing</td>\n",
       "    </tr>\n",
       "    <tr>\n",
       "      <th>2989</th>\n",
       "      <td>WD212</td>\n",
       "      <td>Recreation and Sport Management</td>\n",
       "    </tr>\n",
       "    <tr>\n",
       "      <th>2990</th>\n",
       "      <td>WD230</td>\n",
       "      <td>Mechanical and Manufacturing Engineering</td>\n",
       "    </tr>\n",
       "  </tbody>\n",
       "</table>\n",
       "<p>1759 rows × 2 columns</p>\n",
       "</div>"
      ],
      "text/plain": [
       "       code                                        course name\n",
       "1034  AC120                             International Business\n",
       "1035  AC137                                       Liberal Arts\n",
       "1036  AD101   First Year Art & Design (Common Entry,portfolio)\n",
       "1037  AD102  Graphic Design and Moving Image Design (portfo...\n",
       "1038  AD103  Textile & Surface Design and Jewellery & Objec...\n",
       "...     ...                                                ...\n",
       "2986  WD200                                     Arts (options)\n",
       "2987  WD210                       Software Systems Development\n",
       "2988  WD211                                 Creative Computing\n",
       "2989  WD212                    Recreation and Sport Management\n",
       "2990  WD230           Mechanical and Manufacturing Engineering\n",
       "\n",
       "[1759 rows x 2 columns]"
      ]
     },
     "execution_count": 68,
     "metadata": {},
     "output_type": "execute_result"
    }
   ],
   "source": [
    "# Finds all extra copies of duplicated rows.\n",
    "allcourses[allcourses.duplicated(subset=['code'])]"
   ]
  },
  {
   "cell_type": "code",
   "execution_count": 69,
   "id": "943fb864-a2e7-4054-ab2e-92b611ba0b1f",
   "metadata": {},
   "outputs": [],
   "source": [
    "# Returns a copy of the data frame with duplicates removed for column code\n",
    "allcourses.drop_duplicates(subset=['code'], inplace=True, ignore_index=True)"
   ]
  },
  {
   "cell_type": "code",
   "execution_count": 70,
   "id": "33d56842-750d-4ee9-8050-c86036b8a46f",
   "metadata": {},
   "outputs": [
    {
     "data": {
      "text/html": [
       "<div>\n",
       "<style scoped>\n",
       "    .dataframe tbody tr th:only-of-type {\n",
       "        vertical-align: middle;\n",
       "    }\n",
       "\n",
       "    .dataframe tbody tr th {\n",
       "        vertical-align: top;\n",
       "    }\n",
       "\n",
       "    .dataframe thead th {\n",
       "        text-align: right;\n",
       "    }\n",
       "</style>\n",
       "<table border=\"1\" class=\"dataframe\">\n",
       "  <thead>\n",
       "    <tr style=\"text-align: right;\">\n",
       "      <th></th>\n",
       "      <th>code</th>\n",
       "      <th>course name</th>\n",
       "    </tr>\n",
       "  </thead>\n",
       "  <tbody>\n",
       "    <tr>\n",
       "      <th>0</th>\n",
       "      <td>AL801</td>\n",
       "      <td>Software Design for Virtual Reality and Gaming</td>\n",
       "    </tr>\n",
       "    <tr>\n",
       "      <th>1</th>\n",
       "      <td>AL802</td>\n",
       "      <td>Software Design in Artificial Intelligence for...</td>\n",
       "    </tr>\n",
       "    <tr>\n",
       "      <th>2</th>\n",
       "      <td>AL803</td>\n",
       "      <td>Software Design for Mobile Apps and Connected ...</td>\n",
       "    </tr>\n",
       "    <tr>\n",
       "      <th>3</th>\n",
       "      <td>AL805</td>\n",
       "      <td>Computer Engineering for Network Infrastructure</td>\n",
       "    </tr>\n",
       "    <tr>\n",
       "      <th>4</th>\n",
       "      <td>AL810</td>\n",
       "      <td>Quantity Surveying</td>\n",
       "    </tr>\n",
       "  </tbody>\n",
       "</table>\n",
       "</div>"
      ],
      "text/plain": [
       "    code                                        course name\n",
       "0  AL801     Software Design for Virtual Reality and Gaming\n",
       "1  AL802  Software Design in Artificial Intelligence for...\n",
       "2  AL803  Software Design for Mobile Apps and Connected ...\n",
       "3  AL805    Computer Engineering for Network Infrastructure\n",
       "4  AL810                                 Quantity Surveying"
      ]
     },
     "execution_count": 70,
     "metadata": {},
     "output_type": "execute_result"
    }
   ],
   "source": [
    "allcourses.head()"
   ]
  },
  {
   "cell_type": "markdown",
   "id": "cd2d2ca3-c573-4e95-9048-491dde1dd6a3",
   "metadata": {},
   "source": [
    "#### Add points"
   ]
  },
  {
   "cell_type": "code",
   "execution_count": 71,
   "id": "2e4cb2e1-6ad1-4f32-9aa8-ee418d8e8625",
   "metadata": {},
   "outputs": [],
   "source": [
    "# Set the index to the code column\n",
    "df2021.set_index('code', inplace=True)\n",
    "df2021.columns = ['course name', 'EOS_2021', 'Mid_2021', 'test_2021']"
   ]
  },
  {
   "cell_type": "code",
   "execution_count": 72,
   "id": "5738f8dd-fb60-472a-b0bd-5de210f15515",
   "metadata": {},
   "outputs": [],
   "source": [
    "#Set the index to the code column\n",
    "allcourses.set_index('code', inplace=True)"
   ]
  },
  {
   "cell_type": "code",
   "execution_count": 73,
   "id": "ec5f1b44-b841-47c6-8522-544cd6422df4",
   "metadata": {},
   "outputs": [
    {
     "data": {
      "text/html": [
       "<div>\n",
       "<style scoped>\n",
       "    .dataframe tbody tr th:only-of-type {\n",
       "        vertical-align: middle;\n",
       "    }\n",
       "\n",
       "    .dataframe tbody tr th {\n",
       "        vertical-align: top;\n",
       "    }\n",
       "\n",
       "    .dataframe thead th {\n",
       "        text-align: right;\n",
       "    }\n",
       "</style>\n",
       "<table border=\"1\" class=\"dataframe\">\n",
       "  <thead>\n",
       "    <tr style=\"text-align: right;\">\n",
       "      <th></th>\n",
       "      <th>course name</th>\n",
       "      <th>EOS_2021</th>\n",
       "      <th>Mid_2021</th>\n",
       "      <th>test_2021</th>\n",
       "    </tr>\n",
       "    <tr>\n",
       "      <th>code</th>\n",
       "      <th></th>\n",
       "      <th></th>\n",
       "      <th></th>\n",
       "      <th></th>\n",
       "    </tr>\n",
       "  </thead>\n",
       "  <tbody>\n",
       "    <tr>\n",
       "      <th>AL801</th>\n",
       "      <td>Software Design for Virtual Reality and Gaming</td>\n",
       "      <td>300.0</td>\n",
       "      <td>359.0</td>\n",
       "      <td>no</td>\n",
       "    </tr>\n",
       "    <tr>\n",
       "      <th>AL802</th>\n",
       "      <td>Software Design in Artificial Intelligence for...</td>\n",
       "      <td>313.0</td>\n",
       "      <td>381.0</td>\n",
       "      <td>no</td>\n",
       "    </tr>\n",
       "    <tr>\n",
       "      <th>AL803</th>\n",
       "      <td>Software Design for Mobile Apps and Connected ...</td>\n",
       "      <td>350.0</td>\n",
       "      <td>398.0</td>\n",
       "      <td>no</td>\n",
       "    </tr>\n",
       "    <tr>\n",
       "      <th>AL805</th>\n",
       "      <td>Computer Engineering for Network Infrastructure</td>\n",
       "      <td>321.0</td>\n",
       "      <td>381.0</td>\n",
       "      <td>no</td>\n",
       "    </tr>\n",
       "    <tr>\n",
       "      <th>AL810</th>\n",
       "      <td>Quantity Surveying</td>\n",
       "      <td>328.0</td>\n",
       "      <td>377.0</td>\n",
       "      <td>no</td>\n",
       "    </tr>\n",
       "  </tbody>\n",
       "</table>\n",
       "</div>"
      ],
      "text/plain": [
       "                                             course name  EOS_2021  Mid_2021  \\\n",
       "code                                                                           \n",
       "AL801     Software Design for Virtual Reality and Gaming     300.0     359.0   \n",
       "AL802  Software Design in Artificial Intelligence for...     313.0     381.0   \n",
       "AL803  Software Design for Mobile Apps and Connected ...     350.0     398.0   \n",
       "AL805    Computer Engineering for Network Infrastructure     321.0     381.0   \n",
       "AL810                                 Quantity Surveying     328.0     377.0   \n",
       "\n",
       "      test_2021  \n",
       "code             \n",
       "AL801        no  \n",
       "AL802        no  \n",
       "AL803        no  \n",
       "AL805        no  \n",
       "AL810        no  "
      ]
     },
     "execution_count": 73,
     "metadata": {},
     "output_type": "execute_result"
    }
   ],
   "source": [
    "allcourses = allcourses.join(df2021[['EOS_2021','Mid_2021','test_2021']])\n",
    "allcourses.head()"
   ]
  },
  {
   "cell_type": "code",
   "execution_count": 74,
   "id": "b1a796bf-3629-4bc0-9a22-baa0e3f98a93",
   "metadata": {},
   "outputs": [
    {
     "data": {
      "text/html": [
       "<div>\n",
       "<style scoped>\n",
       "    .dataframe tbody tr th:only-of-type {\n",
       "        vertical-align: middle;\n",
       "    }\n",
       "\n",
       "    .dataframe tbody tr th {\n",
       "        vertical-align: top;\n",
       "    }\n",
       "\n",
       "    .dataframe thead th {\n",
       "        text-align: right;\n",
       "    }\n",
       "</style>\n",
       "<table border=\"1\" class=\"dataframe\">\n",
       "  <thead>\n",
       "    <tr style=\"text-align: right;\">\n",
       "      <th></th>\n",
       "      <th>code</th>\n",
       "      <th>EOS_2020</th>\n",
       "      <th>Mid_2020</th>\n",
       "      <th>test_2020</th>\n",
       "    </tr>\n",
       "  </thead>\n",
       "  <tbody>\n",
       "    <tr>\n",
       "      <th>0</th>\n",
       "      <td>AC120</td>\n",
       "      <td>209.0</td>\n",
       "      <td>280.0</td>\n",
       "      <td>no</td>\n",
       "    </tr>\n",
       "    <tr>\n",
       "      <th>1</th>\n",
       "      <td>AC137</td>\n",
       "      <td>252.0</td>\n",
       "      <td>270.0</td>\n",
       "      <td>no</td>\n",
       "    </tr>\n",
       "    <tr>\n",
       "      <th>2</th>\n",
       "      <td>AD101</td>\n",
       "      <td>0.0</td>\n",
       "      <td>0.0</td>\n",
       "      <td>yes</td>\n",
       "    </tr>\n",
       "    <tr>\n",
       "      <th>3</th>\n",
       "      <td>AD102</td>\n",
       "      <td>0.0</td>\n",
       "      <td>0.0</td>\n",
       "      <td>yes</td>\n",
       "    </tr>\n",
       "    <tr>\n",
       "      <th>4</th>\n",
       "      <td>AD103</td>\n",
       "      <td>0.0</td>\n",
       "      <td>0.0</td>\n",
       "      <td>yes</td>\n",
       "    </tr>\n",
       "  </tbody>\n",
       "</table>\n",
       "</div>"
      ],
      "text/plain": [
       "    code  EOS_2020  Mid_2020 test_2020\n",
       "0  AC120     209.0     280.0        no\n",
       "1  AC137     252.0     270.0        no\n",
       "2  AD101       0.0       0.0       yes\n",
       "3  AD102       0.0       0.0       yes\n",
       "4  AD103       0.0       0.0       yes"
      ]
     },
     "execution_count": 74,
     "metadata": {},
     "output_type": "execute_result"
    }
   ],
   "source": [
    "#2020 points\n",
    "df2020_points = df2020[['code','EOS','Mid','test']]\n",
    "df2020_points.columns = ['code','EOS_2020','Mid_2020','test_2020']\n",
    "df2020_points.head()"
   ]
  },
  {
   "cell_type": "code",
   "execution_count": 75,
   "id": "4c73e2bc-fe78-4411-8fa2-8bbf5198fef6",
   "metadata": {},
   "outputs": [
    {
     "data": {
      "text/html": [
       "<div>\n",
       "<style scoped>\n",
       "    .dataframe tbody tr th:only-of-type {\n",
       "        vertical-align: middle;\n",
       "    }\n",
       "\n",
       "    .dataframe tbody tr th {\n",
       "        vertical-align: top;\n",
       "    }\n",
       "\n",
       "    .dataframe thead th {\n",
       "        text-align: right;\n",
       "    }\n",
       "</style>\n",
       "<table border=\"1\" class=\"dataframe\">\n",
       "  <thead>\n",
       "    <tr style=\"text-align: right;\">\n",
       "      <th></th>\n",
       "      <th>EOS_2020</th>\n",
       "      <th>Mid_2020</th>\n",
       "      <th>test_2020</th>\n",
       "    </tr>\n",
       "    <tr>\n",
       "      <th>code</th>\n",
       "      <th></th>\n",
       "      <th></th>\n",
       "      <th></th>\n",
       "    </tr>\n",
       "  </thead>\n",
       "  <tbody>\n",
       "    <tr>\n",
       "      <th>AC120</th>\n",
       "      <td>209.0</td>\n",
       "      <td>280.0</td>\n",
       "      <td>no</td>\n",
       "    </tr>\n",
       "    <tr>\n",
       "      <th>AC137</th>\n",
       "      <td>252.0</td>\n",
       "      <td>270.0</td>\n",
       "      <td>no</td>\n",
       "    </tr>\n",
       "    <tr>\n",
       "      <th>AD101</th>\n",
       "      <td>0.0</td>\n",
       "      <td>0.0</td>\n",
       "      <td>yes</td>\n",
       "    </tr>\n",
       "    <tr>\n",
       "      <th>AD102</th>\n",
       "      <td>0.0</td>\n",
       "      <td>0.0</td>\n",
       "      <td>yes</td>\n",
       "    </tr>\n",
       "    <tr>\n",
       "      <th>AD103</th>\n",
       "      <td>0.0</td>\n",
       "      <td>0.0</td>\n",
       "      <td>yes</td>\n",
       "    </tr>\n",
       "  </tbody>\n",
       "</table>\n",
       "</div>"
      ],
      "text/plain": [
       "       EOS_2020  Mid_2020 test_2020\n",
       "code                               \n",
       "AC120     209.0     280.0        no\n",
       "AC137     252.0     270.0        no\n",
       "AD101       0.0       0.0       yes\n",
       "AD102       0.0       0.0       yes\n",
       "AD103       0.0       0.0       yes"
      ]
     },
     "execution_count": 75,
     "metadata": {},
     "output_type": "execute_result"
    }
   ],
   "source": [
    "# Set the index to the code column.\n",
    "df2020_points.set_index('code', inplace=True)\n",
    "df2020_points.head()"
   ]
  },
  {
   "cell_type": "code",
   "execution_count": 76,
   "id": "029c9f65-cdf0-4dba-9ece-7b6112f983ed",
   "metadata": {},
   "outputs": [
    {
     "data": {
      "text/html": [
       "<div>\n",
       "<style scoped>\n",
       "    .dataframe tbody tr th:only-of-type {\n",
       "        vertical-align: middle;\n",
       "    }\n",
       "\n",
       "    .dataframe tbody tr th {\n",
       "        vertical-align: top;\n",
       "    }\n",
       "\n",
       "    .dataframe thead th {\n",
       "        text-align: right;\n",
       "    }\n",
       "</style>\n",
       "<table border=\"1\" class=\"dataframe\">\n",
       "  <thead>\n",
       "    <tr style=\"text-align: right;\">\n",
       "      <th></th>\n",
       "      <th>course name</th>\n",
       "      <th>EOS_2021</th>\n",
       "      <th>Mid_2021</th>\n",
       "      <th>test_2021</th>\n",
       "      <th>EOS_2020</th>\n",
       "      <th>Mid_2020</th>\n",
       "      <th>test_2020</th>\n",
       "    </tr>\n",
       "    <tr>\n",
       "      <th>code</th>\n",
       "      <th></th>\n",
       "      <th></th>\n",
       "      <th></th>\n",
       "      <th></th>\n",
       "      <th></th>\n",
       "      <th></th>\n",
       "      <th></th>\n",
       "    </tr>\n",
       "  </thead>\n",
       "  <tbody>\n",
       "    <tr>\n",
       "      <th>AL801</th>\n",
       "      <td>Software Design for Virtual Reality and Gaming</td>\n",
       "      <td>300.0</td>\n",
       "      <td>359.0</td>\n",
       "      <td>no</td>\n",
       "      <td>303.0</td>\n",
       "      <td>367.0</td>\n",
       "      <td>no</td>\n",
       "    </tr>\n",
       "    <tr>\n",
       "      <th>AL802</th>\n",
       "      <td>Software Design in Artificial Intelligence for...</td>\n",
       "      <td>313.0</td>\n",
       "      <td>381.0</td>\n",
       "      <td>no</td>\n",
       "      <td>332.0</td>\n",
       "      <td>382.0</td>\n",
       "      <td>no</td>\n",
       "    </tr>\n",
       "    <tr>\n",
       "      <th>AL803</th>\n",
       "      <td>Software Design for Mobile Apps and Connected ...</td>\n",
       "      <td>350.0</td>\n",
       "      <td>398.0</td>\n",
       "      <td>no</td>\n",
       "      <td>337.0</td>\n",
       "      <td>360.0</td>\n",
       "      <td>no</td>\n",
       "    </tr>\n",
       "    <tr>\n",
       "      <th>AL805</th>\n",
       "      <td>Computer Engineering for Network Infrastructure</td>\n",
       "      <td>321.0</td>\n",
       "      <td>381.0</td>\n",
       "      <td>no</td>\n",
       "      <td>333.0</td>\n",
       "      <td>360.0</td>\n",
       "      <td>no</td>\n",
       "    </tr>\n",
       "    <tr>\n",
       "      <th>AL810</th>\n",
       "      <td>Quantity Surveying</td>\n",
       "      <td>328.0</td>\n",
       "      <td>377.0</td>\n",
       "      <td>no</td>\n",
       "      <td>326.0</td>\n",
       "      <td>352.0</td>\n",
       "      <td>no</td>\n",
       "    </tr>\n",
       "  </tbody>\n",
       "</table>\n",
       "</div>"
      ],
      "text/plain": [
       "                                             course name  EOS_2021  Mid_2021  \\\n",
       "code                                                                           \n",
       "AL801     Software Design for Virtual Reality and Gaming     300.0     359.0   \n",
       "AL802  Software Design in Artificial Intelligence for...     313.0     381.0   \n",
       "AL803  Software Design for Mobile Apps and Connected ...     350.0     398.0   \n",
       "AL805    Computer Engineering for Network Infrastructure     321.0     381.0   \n",
       "AL810                                 Quantity Surveying     328.0     377.0   \n",
       "\n",
       "      test_2021  EOS_2020  Mid_2020 test_2020  \n",
       "code                                           \n",
       "AL801        no     303.0     367.0        no  \n",
       "AL802        no     332.0     382.0        no  \n",
       "AL803        no     337.0     360.0        no  \n",
       "AL805        no     333.0     360.0        no  \n",
       "AL810        no     326.0     352.0        no  "
      ]
     },
     "execution_count": 76,
     "metadata": {},
     "output_type": "execute_result"
    }
   ],
   "source": [
    "# Join 2020 points to allcourses\n",
    "allcourses = allcourses.join(df2020_points)\n",
    "allcourses.head()"
   ]
  },
  {
   "cell_type": "code",
   "execution_count": 77,
   "id": "7f5f8971-009e-48bc-adb2-e04060143986",
   "metadata": {},
   "outputs": [
    {
     "data": {
      "text/html": [
       "<div>\n",
       "<style scoped>\n",
       "    .dataframe tbody tr th:only-of-type {\n",
       "        vertical-align: middle;\n",
       "    }\n",
       "\n",
       "    .dataframe tbody tr th {\n",
       "        vertical-align: top;\n",
       "    }\n",
       "\n",
       "    .dataframe thead th {\n",
       "        text-align: right;\n",
       "    }\n",
       "</style>\n",
       "<table border=\"1\" class=\"dataframe\">\n",
       "  <thead>\n",
       "    <tr style=\"text-align: right;\">\n",
       "      <th></th>\n",
       "      <th>code</th>\n",
       "      <th>EOS_2019</th>\n",
       "      <th>Mid_2019</th>\n",
       "      <th>test_2019</th>\n",
       "    </tr>\n",
       "  </thead>\n",
       "  <tbody>\n",
       "    <tr>\n",
       "      <th>2</th>\n",
       "      <td>AL801</td>\n",
       "      <td>304.0</td>\n",
       "      <td>328.0</td>\n",
       "      <td>no</td>\n",
       "    </tr>\n",
       "    <tr>\n",
       "      <th>3</th>\n",
       "      <td>AL802</td>\n",
       "      <td>301.0</td>\n",
       "      <td>306.0</td>\n",
       "      <td>no</td>\n",
       "    </tr>\n",
       "    <tr>\n",
       "      <th>4</th>\n",
       "      <td>AL803</td>\n",
       "      <td>309.0</td>\n",
       "      <td>337.0</td>\n",
       "      <td>no</td>\n",
       "    </tr>\n",
       "    <tr>\n",
       "      <th>5</th>\n",
       "      <td>AL805</td>\n",
       "      <td>329.0</td>\n",
       "      <td>442.0</td>\n",
       "      <td>no</td>\n",
       "    </tr>\n",
       "    <tr>\n",
       "      <th>6</th>\n",
       "      <td>AL810</td>\n",
       "      <td>307.0</td>\n",
       "      <td>349.0</td>\n",
       "      <td>no</td>\n",
       "    </tr>\n",
       "  </tbody>\n",
       "</table>\n",
       "</div>"
      ],
      "text/plain": [
       "    code  EOS_2019  Mid_2019 test_2019\n",
       "2  AL801     304.0     328.0        no\n",
       "3  AL802     301.0     306.0        no\n",
       "4  AL803     309.0     337.0        no\n",
       "5  AL805     329.0     442.0        no\n",
       "6  AL810     307.0     349.0        no"
      ]
     },
     "execution_count": 77,
     "metadata": {},
     "output_type": "execute_result"
    }
   ],
   "source": [
    "#2019 points\n",
    "df2019_points = df2019[['code','EOS','Mid','test']]\n",
    "df2019_points.columns = ['code','EOS_2019','Mid_2019','test_2019']\n",
    "df2019_points.head()"
   ]
  },
  {
   "cell_type": "code",
   "execution_count": 78,
   "id": "f8cd3464-230d-42e7-98b2-937cde8c22d2",
   "metadata": {},
   "outputs": [
    {
     "data": {
      "text/html": [
       "<div>\n",
       "<style scoped>\n",
       "    .dataframe tbody tr th:only-of-type {\n",
       "        vertical-align: middle;\n",
       "    }\n",
       "\n",
       "    .dataframe tbody tr th {\n",
       "        vertical-align: top;\n",
       "    }\n",
       "\n",
       "    .dataframe thead th {\n",
       "        text-align: right;\n",
       "    }\n",
       "</style>\n",
       "<table border=\"1\" class=\"dataframe\">\n",
       "  <thead>\n",
       "    <tr style=\"text-align: right;\">\n",
       "      <th></th>\n",
       "      <th>EOS_2019</th>\n",
       "      <th>Mid_2019</th>\n",
       "      <th>test_2019</th>\n",
       "    </tr>\n",
       "    <tr>\n",
       "      <th>code</th>\n",
       "      <th></th>\n",
       "      <th></th>\n",
       "      <th></th>\n",
       "    </tr>\n",
       "  </thead>\n",
       "  <tbody>\n",
       "    <tr>\n",
       "      <th>AL801</th>\n",
       "      <td>304.0</td>\n",
       "      <td>328.0</td>\n",
       "      <td>no</td>\n",
       "    </tr>\n",
       "    <tr>\n",
       "      <th>AL802</th>\n",
       "      <td>301.0</td>\n",
       "      <td>306.0</td>\n",
       "      <td>no</td>\n",
       "    </tr>\n",
       "    <tr>\n",
       "      <th>AL803</th>\n",
       "      <td>309.0</td>\n",
       "      <td>337.0</td>\n",
       "      <td>no</td>\n",
       "    </tr>\n",
       "    <tr>\n",
       "      <th>AL805</th>\n",
       "      <td>329.0</td>\n",
       "      <td>442.0</td>\n",
       "      <td>no</td>\n",
       "    </tr>\n",
       "    <tr>\n",
       "      <th>AL810</th>\n",
       "      <td>307.0</td>\n",
       "      <td>349.0</td>\n",
       "      <td>no</td>\n",
       "    </tr>\n",
       "  </tbody>\n",
       "</table>\n",
       "</div>"
      ],
      "text/plain": [
       "       EOS_2019  Mid_2019 test_2019\n",
       "code                               \n",
       "AL801     304.0     328.0        no\n",
       "AL802     301.0     306.0        no\n",
       "AL803     309.0     337.0        no\n",
       "AL805     329.0     442.0        no\n",
       "AL810     307.0     349.0        no"
      ]
     },
     "execution_count": 78,
     "metadata": {},
     "output_type": "execute_result"
    }
   ],
   "source": [
    "# Set the index to the code column.\n",
    "df2019_points.set_index('code', inplace=True)\n",
    "df2019_points.head()"
   ]
  },
  {
   "cell_type": "code",
   "execution_count": 79,
   "id": "82cafd7c-9a9d-44ee-a5e4-01965a07a70a",
   "metadata": {},
   "outputs": [
    {
     "data": {
      "text/html": [
       "<div>\n",
       "<style scoped>\n",
       "    .dataframe tbody tr th:only-of-type {\n",
       "        vertical-align: middle;\n",
       "    }\n",
       "\n",
       "    .dataframe tbody tr th {\n",
       "        vertical-align: top;\n",
       "    }\n",
       "\n",
       "    .dataframe thead th {\n",
       "        text-align: right;\n",
       "    }\n",
       "</style>\n",
       "<table border=\"1\" class=\"dataframe\">\n",
       "  <thead>\n",
       "    <tr style=\"text-align: right;\">\n",
       "      <th></th>\n",
       "      <th>course name</th>\n",
       "      <th>EOS_2021</th>\n",
       "      <th>Mid_2021</th>\n",
       "      <th>test_2021</th>\n",
       "      <th>EOS_2020</th>\n",
       "      <th>Mid_2020</th>\n",
       "      <th>test_2020</th>\n",
       "      <th>EOS_2019</th>\n",
       "      <th>Mid_2019</th>\n",
       "      <th>test_2019</th>\n",
       "    </tr>\n",
       "    <tr>\n",
       "      <th>code</th>\n",
       "      <th></th>\n",
       "      <th></th>\n",
       "      <th></th>\n",
       "      <th></th>\n",
       "      <th></th>\n",
       "      <th></th>\n",
       "      <th></th>\n",
       "      <th></th>\n",
       "      <th></th>\n",
       "      <th></th>\n",
       "    </tr>\n",
       "  </thead>\n",
       "  <tbody>\n",
       "    <tr>\n",
       "      <th>AL801</th>\n",
       "      <td>Software Design for Virtual Reality and Gaming</td>\n",
       "      <td>300.0</td>\n",
       "      <td>359.0</td>\n",
       "      <td>no</td>\n",
       "      <td>303.0</td>\n",
       "      <td>367.0</td>\n",
       "      <td>no</td>\n",
       "      <td>304.0</td>\n",
       "      <td>328.0</td>\n",
       "      <td>no</td>\n",
       "    </tr>\n",
       "    <tr>\n",
       "      <th>AL802</th>\n",
       "      <td>Software Design in Artificial Intelligence for...</td>\n",
       "      <td>313.0</td>\n",
       "      <td>381.0</td>\n",
       "      <td>no</td>\n",
       "      <td>332.0</td>\n",
       "      <td>382.0</td>\n",
       "      <td>no</td>\n",
       "      <td>301.0</td>\n",
       "      <td>306.0</td>\n",
       "      <td>no</td>\n",
       "    </tr>\n",
       "    <tr>\n",
       "      <th>AL803</th>\n",
       "      <td>Software Design for Mobile Apps and Connected ...</td>\n",
       "      <td>350.0</td>\n",
       "      <td>398.0</td>\n",
       "      <td>no</td>\n",
       "      <td>337.0</td>\n",
       "      <td>360.0</td>\n",
       "      <td>no</td>\n",
       "      <td>309.0</td>\n",
       "      <td>337.0</td>\n",
       "      <td>no</td>\n",
       "    </tr>\n",
       "    <tr>\n",
       "      <th>AL805</th>\n",
       "      <td>Computer Engineering for Network Infrastructure</td>\n",
       "      <td>321.0</td>\n",
       "      <td>381.0</td>\n",
       "      <td>no</td>\n",
       "      <td>333.0</td>\n",
       "      <td>360.0</td>\n",
       "      <td>no</td>\n",
       "      <td>329.0</td>\n",
       "      <td>442.0</td>\n",
       "      <td>no</td>\n",
       "    </tr>\n",
       "    <tr>\n",
       "      <th>AL810</th>\n",
       "      <td>Quantity Surveying</td>\n",
       "      <td>328.0</td>\n",
       "      <td>377.0</td>\n",
       "      <td>no</td>\n",
       "      <td>326.0</td>\n",
       "      <td>352.0</td>\n",
       "      <td>no</td>\n",
       "      <td>307.0</td>\n",
       "      <td>349.0</td>\n",
       "      <td>no</td>\n",
       "    </tr>\n",
       "  </tbody>\n",
       "</table>\n",
       "</div>"
      ],
      "text/plain": [
       "                                             course name  EOS_2021  Mid_2021  \\\n",
       "code                                                                           \n",
       "AL801     Software Design for Virtual Reality and Gaming     300.0     359.0   \n",
       "AL802  Software Design in Artificial Intelligence for...     313.0     381.0   \n",
       "AL803  Software Design for Mobile Apps and Connected ...     350.0     398.0   \n",
       "AL805    Computer Engineering for Network Infrastructure     321.0     381.0   \n",
       "AL810                                 Quantity Surveying     328.0     377.0   \n",
       "\n",
       "      test_2021  EOS_2020  Mid_2020 test_2020  EOS_2019  Mid_2019 test_2019  \n",
       "code                                                                         \n",
       "AL801        no     303.0     367.0        no     304.0     328.0        no  \n",
       "AL802        no     332.0     382.0        no     301.0     306.0        no  \n",
       "AL803        no     337.0     360.0        no     309.0     337.0        no  \n",
       "AL805        no     333.0     360.0        no     329.0     442.0        no  \n",
       "AL810        no     326.0     352.0        no     307.0     349.0        no  "
      ]
     },
     "execution_count": 79,
     "metadata": {},
     "output_type": "execute_result"
    }
   ],
   "source": [
    "# Join 2019 points to allcourses\n",
    "allcourses = allcourses.join(df2019_points)\n",
    "allcourses.head()"
   ]
  },
  {
   "cell_type": "markdown",
   "id": "45d04581-b080-4294-99ae-ee8f9a880510",
   "metadata": {},
   "source": [
    "NaN values indicate that the course was not offered that year. We decided to keep them because such values are treated as floats by Pandas, and won't impact on the subsequent analysis."
   ]
  },
  {
   "cell_type": "code",
   "execution_count": 80,
   "id": "49f8969d-7a28-4300-8355-4be6e08fb8c3",
   "metadata": {},
   "outputs": [
    {
     "data": {
      "text/plain": [
       "course name    Environmental Science\n",
       "EOS_2021                         NaN\n",
       "Mid_2021                         NaN\n",
       "test_2021                        NaN\n",
       "EOS_2020                         NaN\n",
       "Mid_2020                         NaN\n",
       "test_2020                        NaN\n",
       "EOS_2019                       297.0\n",
       "Mid_2019                       358.0\n",
       "test_2019                         no\n",
       "Name: SG441, dtype: object"
      ]
     },
     "execution_count": 80,
     "metadata": {},
     "output_type": "execute_result"
    }
   ],
   "source": [
    "allcourses.loc['SG441']"
   ]
  },
  {
   "cell_type": "code",
   "execution_count": 81,
   "id": "0120d2bc-374a-453d-9c40-695018f108e3",
   "metadata": {},
   "outputs": [],
   "source": [
    "#Save consolidated dataframe\n",
    "pathcsvfinal = 'data/consolidated_' + nowstr + '.csv'\n",
    "allcourses.to_csv(pathcsvfinal)"
   ]
  },
  {
   "cell_type": "markdown",
   "id": "609a69b8-5a61-4190-bbde-f6284427077a",
   "metadata": {},
   "source": [
    "## Analysing consolidated dataframe"
   ]
  },
  {
   "cell_type": "code",
   "execution_count": 82,
   "id": "9cd00906-4fea-424e-937a-d7023dfea37f",
   "metadata": {},
   "outputs": [
    {
     "data": {
      "text/html": [
       "<div>\n",
       "<style scoped>\n",
       "    .dataframe tbody tr th:only-of-type {\n",
       "        vertical-align: middle;\n",
       "    }\n",
       "\n",
       "    .dataframe tbody tr th {\n",
       "        vertical-align: top;\n",
       "    }\n",
       "\n",
       "    .dataframe thead th {\n",
       "        text-align: right;\n",
       "    }\n",
       "</style>\n",
       "<table border=\"1\" class=\"dataframe\">\n",
       "  <thead>\n",
       "    <tr style=\"text-align: right;\">\n",
       "      <th></th>\n",
       "      <th>course name</th>\n",
       "      <th>EOS_2021</th>\n",
       "      <th>Mid_2021</th>\n",
       "      <th>test_2021</th>\n",
       "      <th>EOS_2020</th>\n",
       "      <th>Mid_2020</th>\n",
       "      <th>test_2020</th>\n",
       "      <th>EOS_2019</th>\n",
       "      <th>Mid_2019</th>\n",
       "      <th>test_2019</th>\n",
       "    </tr>\n",
       "    <tr>\n",
       "      <th>code</th>\n",
       "      <th></th>\n",
       "      <th></th>\n",
       "      <th></th>\n",
       "      <th></th>\n",
       "      <th></th>\n",
       "      <th></th>\n",
       "      <th></th>\n",
       "      <th></th>\n",
       "      <th></th>\n",
       "      <th></th>\n",
       "    </tr>\n",
       "  </thead>\n",
       "  <tbody>\n",
       "    <tr>\n",
       "      <th>AL801</th>\n",
       "      <td>Software Design for Virtual Reality and Gaming</td>\n",
       "      <td>300.0</td>\n",
       "      <td>359.0</td>\n",
       "      <td>no</td>\n",
       "      <td>303.0</td>\n",
       "      <td>367.0</td>\n",
       "      <td>no</td>\n",
       "      <td>304.0</td>\n",
       "      <td>328.0</td>\n",
       "      <td>no</td>\n",
       "    </tr>\n",
       "    <tr>\n",
       "      <th>AL802</th>\n",
       "      <td>Software Design in Artificial Intelligence for...</td>\n",
       "      <td>313.0</td>\n",
       "      <td>381.0</td>\n",
       "      <td>no</td>\n",
       "      <td>332.0</td>\n",
       "      <td>382.0</td>\n",
       "      <td>no</td>\n",
       "      <td>301.0</td>\n",
       "      <td>306.0</td>\n",
       "      <td>no</td>\n",
       "    </tr>\n",
       "    <tr>\n",
       "      <th>AL803</th>\n",
       "      <td>Software Design for Mobile Apps and Connected ...</td>\n",
       "      <td>350.0</td>\n",
       "      <td>398.0</td>\n",
       "      <td>no</td>\n",
       "      <td>337.0</td>\n",
       "      <td>360.0</td>\n",
       "      <td>no</td>\n",
       "      <td>309.0</td>\n",
       "      <td>337.0</td>\n",
       "      <td>no</td>\n",
       "    </tr>\n",
       "    <tr>\n",
       "      <th>AL805</th>\n",
       "      <td>Computer Engineering for Network Infrastructure</td>\n",
       "      <td>321.0</td>\n",
       "      <td>381.0</td>\n",
       "      <td>no</td>\n",
       "      <td>333.0</td>\n",
       "      <td>360.0</td>\n",
       "      <td>no</td>\n",
       "      <td>329.0</td>\n",
       "      <td>442.0</td>\n",
       "      <td>no</td>\n",
       "    </tr>\n",
       "    <tr>\n",
       "      <th>AL810</th>\n",
       "      <td>Quantity Surveying</td>\n",
       "      <td>328.0</td>\n",
       "      <td>377.0</td>\n",
       "      <td>no</td>\n",
       "      <td>326.0</td>\n",
       "      <td>352.0</td>\n",
       "      <td>no</td>\n",
       "      <td>307.0</td>\n",
       "      <td>349.0</td>\n",
       "      <td>no</td>\n",
       "    </tr>\n",
       "    <tr>\n",
       "      <th>...</th>\n",
       "      <td>...</td>\n",
       "      <td>...</td>\n",
       "      <td>...</td>\n",
       "      <td>...</td>\n",
       "      <td>...</td>\n",
       "      <td>...</td>\n",
       "      <td>...</td>\n",
       "      <td>...</td>\n",
       "      <td>...</td>\n",
       "      <td>...</td>\n",
       "    </tr>\n",
       "    <tr>\n",
       "      <th>SG441</th>\n",
       "      <td>Environmental Science</td>\n",
       "      <td>NaN</td>\n",
       "      <td>NaN</td>\n",
       "      <td>NaN</td>\n",
       "      <td>NaN</td>\n",
       "      <td>NaN</td>\n",
       "      <td>NaN</td>\n",
       "      <td>297.0</td>\n",
       "      <td>358.0</td>\n",
       "      <td>no</td>\n",
       "    </tr>\n",
       "    <tr>\n",
       "      <th>SG446</th>\n",
       "      <td>Applied Archaeology</td>\n",
       "      <td>NaN</td>\n",
       "      <td>NaN</td>\n",
       "      <td>NaN</td>\n",
       "      <td>NaN</td>\n",
       "      <td>NaN</td>\n",
       "      <td>NaN</td>\n",
       "      <td>289.0</td>\n",
       "      <td>290.0</td>\n",
       "      <td>no</td>\n",
       "    </tr>\n",
       "    <tr>\n",
       "      <th>TL803</th>\n",
       "      <td>Music Technology</td>\n",
       "      <td>NaN</td>\n",
       "      <td>NaN</td>\n",
       "      <td>NaN</td>\n",
       "      <td>NaN</td>\n",
       "      <td>NaN</td>\n",
       "      <td>NaN</td>\n",
       "      <td>264.0</td>\n",
       "      <td>288.0</td>\n",
       "      <td>no</td>\n",
       "    </tr>\n",
       "    <tr>\n",
       "      <th>TL812</th>\n",
       "      <td>Computing with Digital Media</td>\n",
       "      <td>NaN</td>\n",
       "      <td>NaN</td>\n",
       "      <td>NaN</td>\n",
       "      <td>NaN</td>\n",
       "      <td>NaN</td>\n",
       "      <td>NaN</td>\n",
       "      <td>369.0</td>\n",
       "      <td>369.0</td>\n",
       "      <td>no</td>\n",
       "    </tr>\n",
       "    <tr>\n",
       "      <th>WD148</th>\n",
       "      <td>Tourism Marketing</td>\n",
       "      <td>NaN</td>\n",
       "      <td>NaN</td>\n",
       "      <td>NaN</td>\n",
       "      <td>NaN</td>\n",
       "      <td>NaN</td>\n",
       "      <td>NaN</td>\n",
       "      <td>269.0</td>\n",
       "      <td>338.0</td>\n",
       "      <td>no</td>\n",
       "    </tr>\n",
       "  </tbody>\n",
       "</table>\n",
       "<p>1109 rows × 10 columns</p>\n",
       "</div>"
      ],
      "text/plain": [
       "                                             course name  EOS_2021  Mid_2021  \\\n",
       "code                                                                           \n",
       "AL801     Software Design for Virtual Reality and Gaming     300.0     359.0   \n",
       "AL802  Software Design in Artificial Intelligence for...     313.0     381.0   \n",
       "AL803  Software Design for Mobile Apps and Connected ...     350.0     398.0   \n",
       "AL805    Computer Engineering for Network Infrastructure     321.0     381.0   \n",
       "AL810                                 Quantity Surveying     328.0     377.0   \n",
       "...                                                  ...       ...       ...   \n",
       "SG441                              Environmental Science       NaN       NaN   \n",
       "SG446                                Applied Archaeology       NaN       NaN   \n",
       "TL803                                   Music Technology       NaN       NaN   \n",
       "TL812                       Computing with Digital Media       NaN       NaN   \n",
       "WD148                                  Tourism Marketing       NaN       NaN   \n",
       "\n",
       "      test_2021  EOS_2020  Mid_2020 test_2020  EOS_2019  Mid_2019 test_2019  \n",
       "code                                                                         \n",
       "AL801        no     303.0     367.0        no     304.0     328.0        no  \n",
       "AL802        no     332.0     382.0        no     301.0     306.0        no  \n",
       "AL803        no     337.0     360.0        no     309.0     337.0        no  \n",
       "AL805        no     333.0     360.0        no     329.0     442.0        no  \n",
       "AL810        no     326.0     352.0        no     307.0     349.0        no  \n",
       "...         ...       ...       ...       ...       ...       ...       ...  \n",
       "SG441       NaN       NaN       NaN       NaN     297.0     358.0        no  \n",
       "SG446       NaN       NaN       NaN       NaN     289.0     290.0        no  \n",
       "TL803       NaN       NaN       NaN       NaN     264.0     288.0        no  \n",
       "TL812       NaN       NaN       NaN       NaN     369.0     369.0        no  \n",
       "WD148       NaN       NaN       NaN       NaN     269.0     338.0        no  \n",
       "\n",
       "[1109 rows x 10 columns]"
      ]
     },
     "execution_count": 82,
     "metadata": {},
     "output_type": "execute_result"
    }
   ],
   "source": [
    "#Select only courses that don't require additional tests, interviews etc\n",
    "allcourses_notest = allcourses.loc[(allcourses['test_2021']!='yes') & (allcourses['test_2020']!='yes') & (allcourses['test_2019']!='yes')]\n",
    "allcourses_notest"
   ]
  },
  {
   "cell_type": "code",
   "execution_count": 135,
   "id": "d9ba4a5c-90d5-499c-b7ec-82bb4a00ecfc",
   "metadata": {},
   "outputs": [
    {
     "name": "stdout",
     "output_type": "stream",
     "text": [
      "34 \n",
      " 7 \n",
      " 1\n"
     ]
    }
   ],
   "source": [
    "above600_2021 = allcourses_notest[allcourses_notest['EOS_2021'] >= 600.0]['course name'].count()\n",
    "\n",
    "above600_2020 = allcourses_notest[allcourses_notest['EOS_2020'] >= 600.0]['course name'].count()\n",
    "\n",
    "above600_2019 = allcourses_notest[allcourses_notest['EOS_2019'] >= 600.0]['course name'].count()\n",
    "\n",
    "print(above600_2021, '\\n',above600_2020, '\\n',above600_2019)"
   ]
  },
  {
   "cell_type": "markdown",
   "id": "e1524af9-cc22-4e75-8f6e-27c79284605d",
   "metadata": {},
   "source": [
    "### Pandas df.describe()"
   ]
  },
  {
   "cell_type": "markdown",
   "id": "e2378f43-be88-4f72-a780-54467a74b162",
   "metadata": {},
   "source": [
    "#### Describe columns"
   ]
  },
  {
   "cell_type": "code",
   "execution_count": 136,
   "id": "f26bef6b-a44c-4c7a-82b0-ab743313c8f5",
   "metadata": {},
   "outputs": [
    {
     "data": {
      "text/plain": [
       "count    932.000000\n",
       "mean     394.095494\n",
       "std      127.217062\n",
       "min        0.000000\n",
       "25%      300.000000\n",
       "50%      388.500000\n",
       "75%      498.000000\n",
       "max      966.000000\n",
       "Name: EOS_2021, dtype: float64"
      ]
     },
     "execution_count": 136,
     "metadata": {},
     "output_type": "execute_result"
    }
   ],
   "source": [
    "#EOS 2021\n",
    "allcourses_notest['EOS_2021'].describe()"
   ]
  },
  {
   "cell_type": "code",
   "execution_count": 137,
   "id": "c5c67d2b-2617-440c-87d5-66e79559e42e",
   "metadata": {},
   "outputs": [
    {
     "data": {
      "text/plain": [
       "count    917.000000\n",
       "mean     370.679389\n",
       "std      106.457762\n",
       "min        0.000000\n",
       "25%      298.000000\n",
       "50%      352.000000\n",
       "75%      454.000000\n",
       "max      613.000000\n",
       "Name: EOS_2020, dtype: float64"
      ]
     },
     "execution_count": 137,
     "metadata": {},
     "output_type": "execute_result"
    }
   ],
   "source": [
    "#EOS 2020\n",
    "allcourses_notest['EOS_2020'].describe()"
   ]
  },
  {
   "cell_type": "code",
   "execution_count": 138,
   "id": "5a59294a-9f45-4e02-bf01-38c105e033c5",
   "metadata": {},
   "outputs": [
    {
     "data": {
      "text/plain": [
       "count    828.000000\n",
       "mean     357.559179\n",
       "std       91.465656\n",
       "min      168.000000\n",
       "25%      288.000000\n",
       "50%      338.500000\n",
       "75%      423.250000\n",
       "max      601.000000\n",
       "Name: EOS_2019, dtype: float64"
      ]
     },
     "execution_count": 138,
     "metadata": {},
     "output_type": "execute_result"
    }
   ],
   "source": [
    "#EOS 2019\n",
    "allcourses_notest['EOS_2019'].describe()"
   ]
  },
  {
   "cell_type": "code",
   "execution_count": 140,
   "id": "f3646dc8-5e1a-41d5-b008-e9d1cf34f6d0",
   "metadata": {},
   "outputs": [
    {
     "data": {
      "text/plain": [
       "count    932.000000\n",
       "mean     445.225322\n",
       "std      107.758645\n",
       "min        0.000000\n",
       "25%      375.750000\n",
       "50%      444.000000\n",
       "75%      531.000000\n",
       "max      625.000000\n",
       "Name: Mid_2021, dtype: float64"
      ]
     },
     "execution_count": 140,
     "metadata": {},
     "output_type": "execute_result"
    }
   ],
   "source": [
    "#Mid 2021\n",
    "allcourses_notest['Mid_2021'].describe()"
   ]
  },
  {
   "cell_type": "code",
   "execution_count": 141,
   "id": "e1819ebc-725f-4c14-981d-5de77b245eef",
   "metadata": {},
   "outputs": [
    {
     "data": {
      "text/plain": [
       "count    917.000000\n",
       "mean     422.950927\n",
       "std       96.431939\n",
       "min        0.000000\n",
       "25%      358.000000\n",
       "50%      413.000000\n",
       "75%      495.000000\n",
       "max      625.000000\n",
       "Name: Mid_2020, dtype: float64"
      ]
     },
     "execution_count": 141,
     "metadata": {},
     "output_type": "execute_result"
    }
   ],
   "source": [
    "#Mid 2020\n",
    "allcourses_notest['Mid_2020'].describe()"
   ]
  },
  {
   "cell_type": "code",
   "execution_count": 142,
   "id": "08127323-9619-48ff-aa62-0cf2674fced2",
   "metadata": {},
   "outputs": [
    {
     "data": {
      "text/plain": [
       "count    831.000000\n",
       "mean     400.966306\n",
       "std       84.497060\n",
       "min        0.000000\n",
       "25%      337.000000\n",
       "50%      388.000000\n",
       "75%      465.000000\n",
       "max      613.000000\n",
       "Name: Mid_2019, dtype: float64"
      ]
     },
     "execution_count": 142,
     "metadata": {},
     "output_type": "execute_result"
    }
   ],
   "source": [
    "#Mid 2019\n",
    "allcourses_notest['Mid_2019'].describe()"
   ]
  },
  {
   "cell_type": "markdown",
   "id": "83ced306-e432-4857-8224-dcc9df89d3d0",
   "metadata": {},
   "source": [
    "### Getting higher scores"
   ]
  },
  {
   "cell_type": "markdown",
   "id": "ae86c8ee-6d54-404e-ab29-a7465d068143",
   "metadata": {},
   "source": [
    "#### EOS points"
   ]
  },
  {
   "cell_type": "code",
   "execution_count": 143,
   "id": "bcbf01a6-d551-44fb-9afa-89137c94af9f",
   "metadata": {},
   "outputs": [
    {
     "data": {
      "text/plain": [
       "code\n",
       "TR664    966.0\n",
       "TR198    954.0\n",
       "TR565    949.0\n",
       "CK702    625.0\n",
       "TR034    625.0\n",
       "TR052    625.0\n",
       "TR580    625.0\n",
       "TR581    625.0\n",
       "TR582    625.0\n",
       "TR599    625.0\n",
       "DN670    625.0\n",
       "CK703    613.0\n",
       "DC116    613.0\n",
       "TR015    613.0\n",
       "TR072    613.0\n",
       "TR080    613.0\n",
       "TR207    613.0\n",
       "TR231    613.0\n",
       "TR322    613.0\n",
       "TR325    613.0\n",
       "Name: EOS_2021, dtype: float64"
      ]
     },
     "execution_count": 143,
     "metadata": {},
     "output_type": "execute_result"
    }
   ],
   "source": [
    "#Get top 20 EOS scores for 2021\n",
    "allcourses_notest['EOS_2021'].nlargest(20)"
   ]
  },
  {
   "cell_type": "code",
   "execution_count": 144,
   "id": "ba669d57-77f3-4663-9016-90be77744efc",
   "metadata": {},
   "outputs": [
    {
     "data": {
      "text/plain": [
       "code\n",
       "CK702    613.0\n",
       "TR034    613.0\n",
       "TR052    613.0\n",
       "DN670    613.0\n",
       "TR017    602.0\n",
       "DN230    601.0\n",
       "TR020    601.0\n",
       "TR072    590.0\n",
       "CK703    589.0\n",
       "TR015    589.0\n",
       "TR080    589.0\n",
       "DN440    589.0\n",
       "LM100    589.0\n",
       "MI008    588.0\n",
       "DC116    579.0\n",
       "RC005    578.0\n",
       "TU870    578.0\n",
       "MI004    577.0\n",
       "DN420    568.0\n",
       "RC004    566.0\n",
       "Name: EOS_2020, dtype: float64"
      ]
     },
     "execution_count": 144,
     "metadata": {},
     "output_type": "execute_result"
    }
   ],
   "source": [
    "#Get top 20 EOS scores for 2020\n",
    "allcourses_notest['EOS_2020'].nlargest(20)"
   ]
  },
  {
   "cell_type": "code",
   "execution_count": 145,
   "id": "1a4868ee-7235-4c27-85fa-1bb91f2006d9",
   "metadata": {},
   "outputs": [
    {
     "data": {
      "text/plain": [
       "code\n",
       "DN670    601.0\n",
       "CK702    590.0\n",
       "TR052    590.0\n",
       "TR034    589.0\n",
       "DC116    578.0\n",
       "CK703    577.0\n",
       "DN230    577.0\n",
       "TR017    576.0\n",
       "TR020    567.0\n",
       "DC119    566.0\n",
       "TR015    566.0\n",
       "TR031    566.0\n",
       "TR080    565.0\n",
       "DN440    565.0\n",
       "LM100    565.0\n",
       "RC005    555.0\n",
       "TR006    555.0\n",
       "TR072    555.0\n",
       "TR035    554.0\n",
       "DT223    553.0\n",
       "Name: EOS_2019, dtype: float64"
      ]
     },
     "execution_count": 145,
     "metadata": {},
     "output_type": "execute_result"
    }
   ],
   "source": [
    "#Get top 20 EOS scores for 2019\n",
    "allcourses_notest['EOS_2019'].nlargest(20)"
   ]
  },
  {
   "cell_type": "markdown",
   "id": "cba18c09-3ded-49ed-8800-1b361605a699",
   "metadata": {},
   "source": [
    "#### Mid points"
   ]
  },
  {
   "cell_type": "code",
   "execution_count": 146,
   "id": "170172fb-cdf9-44f2-a2bb-ddcb8b9bb72c",
   "metadata": {},
   "outputs": [
    {
     "data": {
      "text/plain": [
       "code\n",
       "CK702    625.0\n",
       "CK703    625.0\n",
       "DC116    625.0\n",
       "TR015    625.0\n",
       "TR034    625.0\n",
       "TR052    625.0\n",
       "TR072    625.0\n",
       "TR080    625.0\n",
       "TR117    625.0\n",
       "TR202    625.0\n",
       "TR207    625.0\n",
       "TR580    625.0\n",
       "TR581    625.0\n",
       "TR582    625.0\n",
       "TR599    625.0\n",
       "DN230    625.0\n",
       "DN670    625.0\n",
       "DN440    618.0\n",
       "RC005    613.0\n",
       "TU870    613.0\n",
       "Name: Mid_2021, dtype: float64"
      ]
     },
     "execution_count": 146,
     "metadata": {},
     "output_type": "execute_result"
    }
   ],
   "source": [
    "#Get top 20 Mid scores for 2021\n",
    "allcourses_notest['Mid_2021'].nlargest(20)"
   ]
  },
  {
   "cell_type": "code",
   "execution_count": 147,
   "id": "0ceda5a5-29af-48ee-b0ef-09b345d8cb8a",
   "metadata": {},
   "outputs": [
    {
     "data": {
      "text/plain": [
       "code\n",
       "TR034    625.0\n",
       "TR052    625.0\n",
       "TR325    625.0\n",
       "TR597    625.0\n",
       "DN670    625.0\n",
       "CK702    613.0\n",
       "TR072    613.0\n",
       "TR639    613.0\n",
       "DN230    613.0\n",
       "TR017    613.0\n",
       "TR020    613.0\n",
       "CK703    602.0\n",
       "CK407    601.0\n",
       "DC116    601.0\n",
       "TR015    601.0\n",
       "TR035    601.0\n",
       "TR080    601.0\n",
       "TR207    601.0\n",
       "DN440    601.0\n",
       "MI008    601.0\n",
       "Name: Mid_2020, dtype: float64"
      ]
     },
     "execution_count": 147,
     "metadata": {},
     "output_type": "execute_result"
    }
   ],
   "source": [
    "#Get top 20 Mid scores for 2020\n",
    "allcourses_notest['Mid_2020'].nlargest(20)"
   ]
  },
  {
   "cell_type": "code",
   "execution_count": 148,
   "id": "760826de-86e2-4140-8e01-4946e3e6fe21",
   "metadata": {},
   "outputs": [
    {
     "data": {
      "text/plain": [
       "code\n",
       "CK702    613.0\n",
       "TR034    602.0\n",
       "TR052    602.0\n",
       "TR035    601.0\n",
       "DN670    601.0\n",
       "TR020    600.0\n",
       "CK703    589.0\n",
       "DC116    589.0\n",
       "TR031    589.0\n",
       "DN230    589.0\n",
       "GY413    589.0\n",
       "TR017    589.0\n",
       "DN440    579.0\n",
       "CK407    578.0\n",
       "DC119    577.0\n",
       "TR006    577.0\n",
       "TR015    577.0\n",
       "TR072    577.0\n",
       "TR080    577.0\n",
       "LM100    577.0\n",
       "Name: Mid_2019, dtype: float64"
      ]
     },
     "execution_count": 148,
     "metadata": {},
     "output_type": "execute_result"
    }
   ],
   "source": [
    "#Get top 20 Mid scores for 2019\n",
    "allcourses_notest['Mid_2019'].nlargest(20)"
   ]
  },
  {
   "cell_type": "markdown",
   "id": "cca251e4-84a8-4de2-82a0-7717572742ee",
   "metadata": {},
   "source": [
    "### Plotting"
   ]
  },
  {
   "cell_type": "markdown",
   "id": "c5e9419e-7733-4745-950e-7858d9a8a336",
   "metadata": {},
   "source": [
    "#### Score distribution"
   ]
  },
  {
   "cell_type": "code",
   "execution_count": 155,
   "id": "7b9a0829-6d3e-408a-8664-3a8eed0be9c7",
   "metadata": {},
   "outputs": [
    {
     "data": {
      "image/png": "[encoded data removed]",
      "text/plain": [
       "<Figure size 1080x360 with 3 Axes>"
      ]
     },
     "metadata": {
      "needs_background": "light"
     },
     "output_type": "display_data"
    }
   ],
   "source": [
    "#2021\n",
    "\n",
    "fig, ([ax1, ax2, ax3]) = plt.subplots(1, 3, figsize=(15, 5))\n",
    "\n",
    "ax1.set_title('EOS 2021')\n",
    "ax2.set_title('EOS 2020')\n",
    "ax3.set_title('EOS 2019')\n",
    "\n",
    "ax1.hist(allcourses_notest['EOS_2021'])\n",
    "ax2.hist(allcourses_notest['EOS_2020'])\n",
    "ax3.hist(allcourses_notest['EOS_2019'])\n",
    "\n",
    "plt.show()"
   ]
  },
  {
   "cell_type": "markdown",
   "id": "17fb4468-2a9d-4fc9-825f-1131dbad8abe",
   "metadata": {},
   "source": [
    "## References\n",
    "\n",
    "1. https://pandas.pydata.org/docs/reference/api/pandas.DataFrame.html\n",
    "2. https://pandas.pydata.org/pandas-docs/stable/user_guide/10min.html\n",
    "\n",
    "https://towardsdatascience.com/delete-row-from-pandas-dataframes-based-on-column-value-4b18bb1eb602\n",
    "\n",
    "https://pandas.pydata.org/pandas-docs/stable/user_guide/indexing.html?highlight=query%20method\n",
    "\n",
    "https://datatofish.com/string-to-integer-dataframe/\n",
    "\n",
    "https://stackoverflow.com/questions/3675144/regex-error-nothing-to-repeat\n",
    "\n",
    "https://stackoverflow.com/questions/25792619/what-is-correct-syntax-to-swap-column-values-for-selected-rows-in-a-pandas-data\n",
    "\n",
    "https://stackoverflow.com/questions/28986489/how-to-replace-text-in-a-column-of-a-pandas-dataframe\n",
    "\n",
    "https://pandas.pydata.org/docs/reference/api/pandas.DataFrame.fillna.html\n",
    "\n",
    "https://pandas.pydata.org/docs/reference/api/pandas.DataFrame.astype.html\n",
    "\n",
    "https://www.kite.com/python/answers/how-to-change-the-data-type-of-columns-in-a-pandas-dataframe-in-python\n",
    "\n",
    "https://stackoverflow.com/questions/37561991/what-is-dtypeo-in-pandas\n",
    "\n",
    "https://pandas.pydata.org/docs/reference/api/pandas.DataFrame.dtypes.html\n",
    "\n",
    "https://pandas.pydata.org/pandas-docs/stable/reference/api/pandas.DataFrame.replace.html\n",
    "\n",
    "https://datatofish.com/replace-nan-values-with-zeros/\n",
    "\n",
    "https://pandas.pydata.org/pandas-docs/stable/user_guide/missing_data.html\n",
    "\n",
    "https://www.geeksforgeeks.org/python-pandas-dataframe-mean/\n",
    "\n",
    "https://www.geeksforgeeks.org/count-values-in-pandas-dataframe/"
   ]
  },
  {
   "cell_type": "markdown",
   "id": "9c77f47b-cd66-484e-84e3-77f01f04a0e1",
   "metadata": {},
   "source": [
    "***\n",
    "\n",
    "## End"
   ]
  }
 ],
 "metadata": {
  "kernelspec": {
   "display_name": "Python 3",
   "language": "python",
   "name": "python3"
  },
  "language_info": {
   "codemirror_mode": {
    "name": "ipython",
    "version": 3
   },
   "file_extension": ".py",
   "mimetype": "text/x-python",
   "name": "python",
   "nbconvert_exporter": "python",
   "pygments_lexer": "ipython3",
   "version": "3.8.8"
  }
 },
 "nbformat": 4,
 "nbformat_minor": 5
}
